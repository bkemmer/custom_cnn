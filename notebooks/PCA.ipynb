{
 "cells": [
  {
   "cell_type": "code",
   "execution_count": 8,
   "metadata": {},
   "outputs": [],
   "source": [
    "import pandas as pd\n",
    "import numpy as np\n",
    "from pathlib import Path"
   ]
  },
  {
   "cell_type": "code",
   "execution_count": 9,
   "metadata": {},
   "outputs": [
    {
     "data": {
      "text/html": [
       "<div>\n",
       "<style scoped>\n",
       "    .dataframe tbody tr th:only-of-type {\n",
       "        vertical-align: middle;\n",
       "    }\n",
       "\n",
       "    .dataframe tbody tr th {\n",
       "        vertical-align: top;\n",
       "    }\n",
       "\n",
       "    .dataframe thead th {\n",
       "        text-align: right;\n",
       "    }\n",
       "</style>\n",
       "<table border=\"1\" class=\"dataframe\">\n",
       "  <thead>\n",
       "    <tr style=\"text-align: right;\">\n",
       "      <th></th>\n",
       "      <th>pair_name_1</th>\n",
       "      <th>pair_id_1</th>\n",
       "      <th>pair_id_2</th>\n",
       "      <th>pair_name_2</th>\n",
       "      <th>path_pair_id_1</th>\n",
       "      <th>path_pair_id_2</th>\n",
       "      <th>path_pair_id_1_cropped</th>\n",
       "      <th>path_pair_id_2_cropped</th>\n",
       "      <th>VJ_pair_id_1</th>\n",
       "      <th>VJ_pair_id_2</th>\n",
       "      <th>target</th>\n",
       "    </tr>\n",
       "  </thead>\n",
       "  <tbody>\n",
       "    <tr>\n",
       "      <th>0</th>\n",
       "      <td>Aaron_Peirsol</td>\n",
       "      <td>1</td>\n",
       "      <td>2</td>\n",
       "      <td>None</td>\n",
       "      <td>Data/lfw2/Aaron_Peirsol/Aaron_Peirsol_0001.jpg</td>\n",
       "      <td>Data/lfw2/Aaron_Peirsol/Aaron_Peirsol_0002.jpg</td>\n",
       "      <td>Data/lfw2_cropped/Aaron_Peirsol/Aaron_Peirsol_...</td>\n",
       "      <td>Data/lfw2_cropped/Aaron_Peirsol/Aaron_Peirsol_...</td>\n",
       "      <td>(63, 63, 127, 127)</td>\n",
       "      <td>(69, 68, 114, 114)</td>\n",
       "      <td>0</td>\n",
       "    </tr>\n",
       "    <tr>\n",
       "      <th>1</th>\n",
       "      <td>Aaron_Peirsol</td>\n",
       "      <td>3</td>\n",
       "      <td>4</td>\n",
       "      <td>None</td>\n",
       "      <td>Data/lfw2/Aaron_Peirsol/Aaron_Peirsol_0003.jpg</td>\n",
       "      <td>Data/lfw2/Aaron_Peirsol/Aaron_Peirsol_0004.jpg</td>\n",
       "      <td>Data/lfw2_cropped/Aaron_Peirsol/Aaron_Peirsol_...</td>\n",
       "      <td>Data/lfw2_cropped/Aaron_Peirsol/Aaron_Peirsol_...</td>\n",
       "      <td>(61, 61, 130, 130)</td>\n",
       "      <td>(70, 66, 112, 112)</td>\n",
       "      <td>0</td>\n",
       "    </tr>\n",
       "    <tr>\n",
       "      <th>2</th>\n",
       "      <td>Aaron_Sorkin</td>\n",
       "      <td>1</td>\n",
       "      <td>2</td>\n",
       "      <td>None</td>\n",
       "      <td>Data/lfw2/Aaron_Sorkin/Aaron_Sorkin_0001.jpg</td>\n",
       "      <td>Data/lfw2/Aaron_Sorkin/Aaron_Sorkin_0002.jpg</td>\n",
       "      <td>Data/lfw2_cropped/Aaron_Sorkin/Aaron_Sorkin_00...</td>\n",
       "      <td>Data/lfw2_cropped/Aaron_Sorkin/Aaron_Sorkin_00...</td>\n",
       "      <td>(69, 69, 114, 114)</td>\n",
       "      <td>(63, 64, 125, 125)</td>\n",
       "      <td>0</td>\n",
       "    </tr>\n",
       "    <tr>\n",
       "      <th>3</th>\n",
       "      <td>Abdel_Nasser_Assidi</td>\n",
       "      <td>1</td>\n",
       "      <td>2</td>\n",
       "      <td>None</td>\n",
       "      <td>Data/lfw2/Abdel_Nasser_Assidi/Abdel_Nasser_Ass...</td>\n",
       "      <td>Data/lfw2/Abdel_Nasser_Assidi/Abdel_Nasser_Ass...</td>\n",
       "      <td>Data/lfw2_cropped/Abdel_Nasser_Assidi/Abdel_Na...</td>\n",
       "      <td>Data/lfw2_cropped/Abdel_Nasser_Assidi/Abdel_Na...</td>\n",
       "      <td>(66, 66, 118, 118)</td>\n",
       "      <td>(68, 70, 113, 113)</td>\n",
       "      <td>0</td>\n",
       "    </tr>\n",
       "    <tr>\n",
       "      <th>4</th>\n",
       "      <td>Abdullah</td>\n",
       "      <td>1</td>\n",
       "      <td>3</td>\n",
       "      <td>None</td>\n",
       "      <td>Data/lfw2/Abdullah/Abdullah_0001.jpg</td>\n",
       "      <td>Data/lfw2/Abdullah/Abdullah_0003.jpg</td>\n",
       "      <td>Data/lfw2_cropped/Abdullah/Abdullah_0001.jpg</td>\n",
       "      <td>Data/lfw2_cropped/Abdullah/Abdullah_0003.jpg</td>\n",
       "      <td>(64, 63, 125, 125)</td>\n",
       "      <td>(63, 64, 124, 124)</td>\n",
       "      <td>0</td>\n",
       "    </tr>\n",
       "  </tbody>\n",
       "</table>\n",
       "</div>"
      ],
      "text/plain": [
       "           pair_name_1  pair_id_1  pair_id_2 pair_name_2  \\\n",
       "0        Aaron_Peirsol          1          2        None   \n",
       "1        Aaron_Peirsol          3          4        None   \n",
       "2         Aaron_Sorkin          1          2        None   \n",
       "3  Abdel_Nasser_Assidi          1          2        None   \n",
       "4             Abdullah          1          3        None   \n",
       "\n",
       "                                      path_pair_id_1  \\\n",
       "0     Data/lfw2/Aaron_Peirsol/Aaron_Peirsol_0001.jpg   \n",
       "1     Data/lfw2/Aaron_Peirsol/Aaron_Peirsol_0003.jpg   \n",
       "2       Data/lfw2/Aaron_Sorkin/Aaron_Sorkin_0001.jpg   \n",
       "3  Data/lfw2/Abdel_Nasser_Assidi/Abdel_Nasser_Ass...   \n",
       "4               Data/lfw2/Abdullah/Abdullah_0001.jpg   \n",
       "\n",
       "                                      path_pair_id_2  \\\n",
       "0     Data/lfw2/Aaron_Peirsol/Aaron_Peirsol_0002.jpg   \n",
       "1     Data/lfw2/Aaron_Peirsol/Aaron_Peirsol_0004.jpg   \n",
       "2       Data/lfw2/Aaron_Sorkin/Aaron_Sorkin_0002.jpg   \n",
       "3  Data/lfw2/Abdel_Nasser_Assidi/Abdel_Nasser_Ass...   \n",
       "4               Data/lfw2/Abdullah/Abdullah_0003.jpg   \n",
       "\n",
       "                              path_pair_id_1_cropped  \\\n",
       "0  Data/lfw2_cropped/Aaron_Peirsol/Aaron_Peirsol_...   \n",
       "1  Data/lfw2_cropped/Aaron_Peirsol/Aaron_Peirsol_...   \n",
       "2  Data/lfw2_cropped/Aaron_Sorkin/Aaron_Sorkin_00...   \n",
       "3  Data/lfw2_cropped/Abdel_Nasser_Assidi/Abdel_Na...   \n",
       "4       Data/lfw2_cropped/Abdullah/Abdullah_0001.jpg   \n",
       "\n",
       "                              path_pair_id_2_cropped        VJ_pair_id_1  \\\n",
       "0  Data/lfw2_cropped/Aaron_Peirsol/Aaron_Peirsol_...  (63, 63, 127, 127)   \n",
       "1  Data/lfw2_cropped/Aaron_Peirsol/Aaron_Peirsol_...  (61, 61, 130, 130)   \n",
       "2  Data/lfw2_cropped/Aaron_Sorkin/Aaron_Sorkin_00...  (69, 69, 114, 114)   \n",
       "3  Data/lfw2_cropped/Abdel_Nasser_Assidi/Abdel_Na...  (66, 66, 118, 118)   \n",
       "4       Data/lfw2_cropped/Abdullah/Abdullah_0003.jpg  (64, 63, 125, 125)   \n",
       "\n",
       "         VJ_pair_id_2  target  \n",
       "0  (69, 68, 114, 114)       0  \n",
       "1  (70, 66, 112, 112)       0  \n",
       "2  (63, 64, 125, 125)       0  \n",
       "3  (68, 70, 113, 113)       0  \n",
       "4  (63, 64, 124, 124)       0  "
      ]
     },
     "execution_count": 9,
     "metadata": {},
     "output_type": "execute_result"
    }
   ],
   "source": [
    "# PCA\n",
    "df_train = pd.read_pickle(Path('..', 'Data', 'Processados','df_train.pickle'))\n",
    "df_train.head()"
   ]
  },
  {
   "cell_type": "code",
   "execution_count": 18,
   "metadata": {},
   "outputs": [],
   "source": [
    "df_train_1 = df_train.path_pair_id_1_cropped\n",
    "df_train_2 = df_train.path_pair_id_2_cropped\n",
    "df_train_all = pd.concat([df_train_1, df_train_2]).unique()"
   ]
  },
  {
   "cell_type": "code",
   "execution_count": 19,
   "metadata": {},
   "outputs": [
    {
     "data": {
      "text/plain": [
       "array(['Data/lfw2_cropped/Aaron_Peirsol/Aaron_Peirsol_0001.jpg',\n",
       "       'Data/lfw2_cropped/Aaron_Peirsol/Aaron_Peirsol_0003.jpg',\n",
       "       'Data/lfw2_cropped/Aaron_Sorkin/Aaron_Sorkin_0001.jpg', ...,\n",
       "       'Data/lfw2_cropped/Wayne_Ferreira/Wayne_Ferreira_0005.jpg',\n",
       "       'Data/lfw2_cropped/Vladimiro_Montesinos/Vladimiro_Montesinos_0003.jpg',\n",
       "       'Data/lfw2_cropped/Wayne_Allard/Wayne_Allard_0001.jpg'],\n",
       "      dtype=object)"
      ]
     },
     "execution_count": 19,
     "metadata": {},
     "output_type": "execute_result"
    }
   ],
   "source": [
    "df_train_all"
   ]
  },
  {
   "cell_type": "code",
   "execution_count": null,
   "metadata": {},
   "outputs": [],
   "source": [
    "df_train_all"
   ]
  },
  {
   "cell_type": "markdown",
   "metadata": {},
   "source": [
    "## Agora seria ler todos os caminhos, gerando um X_treino, com todas as imagens de faces que temos em treinamento (já aplicada viola-jones)\n",
    "--\n",
    "1. Aplicar o HOG para cada uma dessas imagens\n",
    "2. Usar essa saída para treinar o PCA para encontrar a orientação que maximiza a representação de todas essas faces (pós HOG). Vc está combainando as saídas do HOG para encontrar o que gera a maior representação (assumindo que variabilidade está relacionada com capacidade de representação)\n",
    "3. Agora para cada par de treino (img_A, img_B) -> (hog_A, hob_B) -> (PCA_treino(hog_A), PCA_treino(hog_B))\n",
    "4. Concatenar \\[PCA_treino(hog_A) + PCA_treino(hog_B)] e com a saída y = {0,1}\n",
    "5. Treinar o modelo\n",
    "6. No teste usar o PCA_treino (isso vc já está fazendo, mas só pra confirmar hehe)"
   ]
  },
  {
   "cell_type": "code",
   "execution_count": null,
   "metadata": {},
   "outputs": [],
   "source": [
    "from sklearn.decomposition import PCA\n",
    "\n",
    "pca = PCA()\n",
    "pca.fit(X)\n"
   ]
  },
  {
   "cell_type": "code",
   "execution_count": null,
   "metadata": {},
   "outputs": [],
   "source": [
    "pca.explained_variance_ratio_"
   ]
  },
  {
   "cell_type": "code",
   "execution_count": null,
   "metadata": {},
   "outputs": [],
   "source": [
    "cumsum = np.cumsum(pca.explained_variance_ratio_)\n",
    "d = np.argmax(cumsum >= 0.95) + 1 \n",
    "d"
   ]
  },
  {
   "cell_type": "code",
   "execution_count": null,
   "metadata": {},
   "outputs": [],
   "source": [
    "pca = PCA(n_components = 1)\n",
    "X_reduces = pca.fit_transform(X)"
   ]
  }
 ],
 "metadata": {
  "kernelspec": {
   "display_name": "Python 3",
   "language": "python",
   "name": "python3"
  },
  "language_info": {
   "codemirror_mode": {
    "name": "ipython",
    "version": 3
   },
   "file_extension": ".py",
   "mimetype": "text/x-python",
   "name": "python",
   "nbconvert_exporter": "python",
   "pygments_lexer": "ipython3",
   "version": "3.6.5"
  }
 },
 "nbformat": 4,
 "nbformat_minor": 4
}
