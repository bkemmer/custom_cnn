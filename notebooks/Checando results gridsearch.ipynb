{
 "cells": [
  {
   "cell_type": "code",
   "execution_count": 25,
   "metadata": {},
   "outputs": [],
   "source": [
    "import pandas as pd\n",
    "from pathlib import Path"
   ]
  },
  {
   "cell_type": "code",
   "execution_count": 26,
   "metadata": {},
   "outputs": [],
   "source": [
    "def getFiles(path):\n",
    "    p = Path(path)\n",
    "    files = []\n",
    "    for path in p.glob('*.pickle'):\n",
    "        files.append(path.name)\n",
    "    return files"
   ]
  },
  {
   "cell_type": "code",
   "execution_count": 40,
   "metadata": {},
   "outputs": [
    {
     "data": {
      "text/plain": [
       "PosixPath('../Data/Processados/Resultados/negative_correlation_VJ_resize_LBPH_normalized_2020-08-04_22-51.pickle')"
      ]
     },
     "execution_count": 40,
     "metadata": {},
     "output_type": "execute_result"
    }
   ],
   "source": [
    "fname = 'negative_correlation_VJ_resize_LBPH_normalized_2020-08-04_22-51.pickle'\n",
    "resultado_path = Path('..', 'Data', 'Processados', 'Resultados', fname)\n",
    "resultado_path"
   ]
  },
  {
   "cell_type": "code",
   "execution_count": 42,
   "metadata": {},
   "outputs": [],
   "source": [
    "df = pd.read_pickle(resultado_path)"
   ]
  },
  {
   "cell_type": "code",
   "execution_count": 43,
   "metadata": {},
   "outputs": [
    {
     "data": {
      "text/plain": [
       "0.5179563555721709"
      ]
     },
     "execution_count": 43,
     "metadata": {},
     "output_type": "execute_result"
    }
   ],
   "source": [
    "df.Acuracia.max()"
   ]
  },
  {
   "cell_type": "code",
   "execution_count": 44,
   "metadata": {},
   "outputs": [
    {
     "data": {
      "text/html": [
       "<div>\n",
       "<style scoped>\n",
       "    .dataframe tbody tr th:only-of-type {\n",
       "        vertical-align: middle;\n",
       "    }\n",
       "\n",
       "    .dataframe tbody tr th {\n",
       "        vertical-align: top;\n",
       "    }\n",
       "\n",
       "    .dataframe thead th {\n",
       "        text-align: right;\n",
       "    }\n",
       "</style>\n",
       "<table border=\"1\" class=\"dataframe\">\n",
       "  <thead>\n",
       "    <tr style=\"text-align: right;\">\n",
       "      <th></th>\n",
       "      <th>Preprocessamento</th>\n",
       "      <th>Acuracia</th>\n",
       "      <th>Classificador</th>\n",
       "      <th>Hyperparametros</th>\n",
       "      <th>Execution time</th>\n",
       "    </tr>\n",
       "  </thead>\n",
       "  <tbody>\n",
       "    <tr>\n",
       "      <th>0</th>\n",
       "      <td>Data/features/VJ_resize_LBPH_normalized/100_100/r_1_n_12_grid_16_16</td>\n",
       "      <td>0.517956</td>\n",
       "      <td>negative_correlation</td>\n",
       "      <td>{'num_hidden': 100, 'number_classifiers': 2, 'n_max': 1000, 'alfa': 5, 'lamdba': 0.75}</td>\n",
       "      <td>46.0</td>\n",
       "    </tr>\n",
       "    <tr>\n",
       "      <th>0</th>\n",
       "      <td>Data/features/VJ_resize_LBPH_normalized/100_100/r_1_n_12_grid_16_16</td>\n",
       "      <td>0.517956</td>\n",
       "      <td>negative_correlation</td>\n",
       "      <td>{'num_hidden': 100, 'number_classifiers': 2, 'n_max': 1000, 'alfa': 5, 'lamdba': 0}</td>\n",
       "      <td>46.0</td>\n",
       "    </tr>\n",
       "    <tr>\n",
       "      <th>0</th>\n",
       "      <td>Data/features/VJ_resize_LBPH_normalized/100_100/r_1_n_12_grid_16_16</td>\n",
       "      <td>0.517956</td>\n",
       "      <td>negative_correlation</td>\n",
       "      <td>{'num_hidden': 100, 'number_classifiers': 3, 'n_max': 1000, 'alfa': 5, 'lamdba': 0}</td>\n",
       "      <td>69.1</td>\n",
       "    </tr>\n",
       "    <tr>\n",
       "      <th>0</th>\n",
       "      <td>Data/features/VJ_resize_LBPH_normalized/100_100/r_1_n_12_grid_16_16</td>\n",
       "      <td>0.517956</td>\n",
       "      <td>negative_correlation</td>\n",
       "      <td>{'num_hidden': 100, 'number_classifiers': 3, 'n_max': 1000, 'alfa': 5, 'lamdba': 0.25}</td>\n",
       "      <td>69.0</td>\n",
       "    </tr>\n",
       "    <tr>\n",
       "      <th>0</th>\n",
       "      <td>Data/features/VJ_resize_LBPH_normalized/100_100/r_1_n_12_grid_16_16</td>\n",
       "      <td>0.517956</td>\n",
       "      <td>negative_correlation</td>\n",
       "      <td>{'num_hidden': 100, 'number_classifiers': 3, 'n_max': 1000, 'alfa': 5, 'lamdba': 0.5}</td>\n",
       "      <td>69.1</td>\n",
       "    </tr>\n",
       "    <tr>\n",
       "      <th>...</th>\n",
       "      <td>...</td>\n",
       "      <td>...</td>\n",
       "      <td>...</td>\n",
       "      <td>...</td>\n",
       "      <td>...</td>\n",
       "    </tr>\n",
       "    <tr>\n",
       "      <th>0</th>\n",
       "      <td>Data/features/VJ_resize_LBPH_normalized/100_100/r_1_n_12_grid_16_16</td>\n",
       "      <td>0.502504</td>\n",
       "      <td>negative_correlation</td>\n",
       "      <td>{'num_hidden': 10, 'number_classifiers': 5, 'n_max': 10000, 'alfa': 10, 'lamdba': 0.25}</td>\n",
       "      <td>361.5</td>\n",
       "    </tr>\n",
       "    <tr>\n",
       "      <th>0</th>\n",
       "      <td>Data/features/VJ_resize_LBPH_normalized/100_100/r_1_n_12_grid_16_16</td>\n",
       "      <td>0.502503</td>\n",
       "      <td>negative_correlation</td>\n",
       "      <td>{'num_hidden': 100, 'number_classifiers': 3, 'n_max': 1000, 'alfa': 10, 'lamdba': 0.75}</td>\n",
       "      <td>68.8</td>\n",
       "    </tr>\n",
       "    <tr>\n",
       "      <th>0</th>\n",
       "      <td>Data/features/VJ_resize_LBPH_normalized/100_100/r_1_n_12_grid_16_16</td>\n",
       "      <td>0.502277</td>\n",
       "      <td>negative_correlation</td>\n",
       "      <td>{'num_hidden': 100, 'number_classifiers': 5, 'n_max': 1000, 'alfa': 10, 'lamdba': 0.25}</td>\n",
       "      <td>114.9</td>\n",
       "    </tr>\n",
       "    <tr>\n",
       "      <th>0</th>\n",
       "      <td>Data/features/VJ_resize_LBPH_normalized/100_100/r_1_n_12_grid_16_16</td>\n",
       "      <td>0.502277</td>\n",
       "      <td>negative_correlation</td>\n",
       "      <td>{'num_hidden': 100, 'number_classifiers': 5, 'n_max': 1000, 'alfa': 10, 'lamdba': 0.5}</td>\n",
       "      <td>114.9</td>\n",
       "    </tr>\n",
       "    <tr>\n",
       "      <th>0</th>\n",
       "      <td>Data/features/VJ_resize_LBPH_normalized/100_100/r_1_n_12_grid_16_16</td>\n",
       "      <td>0.499091</td>\n",
       "      <td>negative_correlation</td>\n",
       "      <td>{'num_hidden': 100, 'number_classifiers': 3, 'n_max': 1000, 'alfa': 10, 'lamdba': 0.25}</td>\n",
       "      <td>68.9</td>\n",
       "    </tr>\n",
       "  </tbody>\n",
       "</table>\n",
       "<p>322 rows × 5 columns</p>\n",
       "</div>"
      ],
      "text/plain": [
       "                                                       Preprocessamento  \\\n",
       "0   Data/features/VJ_resize_LBPH_normalized/100_100/r_1_n_12_grid_16_16   \n",
       "0   Data/features/VJ_resize_LBPH_normalized/100_100/r_1_n_12_grid_16_16   \n",
       "0   Data/features/VJ_resize_LBPH_normalized/100_100/r_1_n_12_grid_16_16   \n",
       "0   Data/features/VJ_resize_LBPH_normalized/100_100/r_1_n_12_grid_16_16   \n",
       "0   Data/features/VJ_resize_LBPH_normalized/100_100/r_1_n_12_grid_16_16   \n",
       "..                                                                  ...   \n",
       "0   Data/features/VJ_resize_LBPH_normalized/100_100/r_1_n_12_grid_16_16   \n",
       "0   Data/features/VJ_resize_LBPH_normalized/100_100/r_1_n_12_grid_16_16   \n",
       "0   Data/features/VJ_resize_LBPH_normalized/100_100/r_1_n_12_grid_16_16   \n",
       "0   Data/features/VJ_resize_LBPH_normalized/100_100/r_1_n_12_grid_16_16   \n",
       "0   Data/features/VJ_resize_LBPH_normalized/100_100/r_1_n_12_grid_16_16   \n",
       "\n",
       "    Acuracia         Classificador  \\\n",
       "0   0.517956  negative_correlation   \n",
       "0   0.517956  negative_correlation   \n",
       "0   0.517956  negative_correlation   \n",
       "0   0.517956  negative_correlation   \n",
       "0   0.517956  negative_correlation   \n",
       "..       ...                   ...   \n",
       "0   0.502504  negative_correlation   \n",
       "0   0.502503  negative_correlation   \n",
       "0   0.502277  negative_correlation   \n",
       "0   0.502277  negative_correlation   \n",
       "0   0.499091  negative_correlation   \n",
       "\n",
       "                                                                            Hyperparametros  \\\n",
       "0    {'num_hidden': 100, 'number_classifiers': 2, 'n_max': 1000, 'alfa': 5, 'lamdba': 0.75}   \n",
       "0       {'num_hidden': 100, 'number_classifiers': 2, 'n_max': 1000, 'alfa': 5, 'lamdba': 0}   \n",
       "0       {'num_hidden': 100, 'number_classifiers': 3, 'n_max': 1000, 'alfa': 5, 'lamdba': 0}   \n",
       "0    {'num_hidden': 100, 'number_classifiers': 3, 'n_max': 1000, 'alfa': 5, 'lamdba': 0.25}   \n",
       "0     {'num_hidden': 100, 'number_classifiers': 3, 'n_max': 1000, 'alfa': 5, 'lamdba': 0.5}   \n",
       "..                                                                                      ...   \n",
       "0   {'num_hidden': 10, 'number_classifiers': 5, 'n_max': 10000, 'alfa': 10, 'lamdba': 0.25}   \n",
       "0   {'num_hidden': 100, 'number_classifiers': 3, 'n_max': 1000, 'alfa': 10, 'lamdba': 0.75}   \n",
       "0   {'num_hidden': 100, 'number_classifiers': 5, 'n_max': 1000, 'alfa': 10, 'lamdba': 0.25}   \n",
       "0    {'num_hidden': 100, 'number_classifiers': 5, 'n_max': 1000, 'alfa': 10, 'lamdba': 0.5}   \n",
       "0   {'num_hidden': 100, 'number_classifiers': 3, 'n_max': 1000, 'alfa': 10, 'lamdba': 0.25}   \n",
       "\n",
       "   Execution time  \n",
       "0            46.0  \n",
       "0            46.0  \n",
       "0            69.1  \n",
       "0            69.0  \n",
       "0            69.1  \n",
       "..            ...  \n",
       "0           361.5  \n",
       "0            68.8  \n",
       "0           114.9  \n",
       "0           114.9  \n",
       "0            68.9  \n",
       "\n",
       "[322 rows x 5 columns]"
      ]
     },
     "execution_count": 44,
     "metadata": {},
     "output_type": "execute_result"
    }
   ],
   "source": [
    "pd.set_option('max_colwidth', 255)\n",
    "df.sort_values(by='Acuracia', ascending=False)"
   ]
  },
  {
   "cell_type": "code",
   "execution_count": 45,
   "metadata": {},
   "outputs": [
    {
     "data": {
      "text/html": [
       "<div>\n",
       "<style scoped>\n",
       "    .dataframe tbody tr th:only-of-type {\n",
       "        vertical-align: middle;\n",
       "    }\n",
       "\n",
       "    .dataframe tbody tr th {\n",
       "        vertical-align: top;\n",
       "    }\n",
       "\n",
       "    .dataframe thead th {\n",
       "        text-align: right;\n",
       "    }\n",
       "</style>\n",
       "<table border=\"1\" class=\"dataframe\">\n",
       "  <thead>\n",
       "    <tr style=\"text-align: right;\">\n",
       "      <th></th>\n",
       "      <th>Preprocessamento</th>\n",
       "      <th>Acuracia</th>\n",
       "      <th>Classificador</th>\n",
       "      <th>Hyperparametros</th>\n",
       "      <th>Execution time</th>\n",
       "    </tr>\n",
       "  </thead>\n",
       "  <tbody>\n",
       "    <tr>\n",
       "      <th>0</th>\n",
       "      <td>Data/features/VJ_resize_LBPH_normalized/100_100/r_1_n_12_grid_16_16</td>\n",
       "      <td>0.517956</td>\n",
       "      <td>negative_correlation</td>\n",
       "      <td>{'num_hidden': 100, 'number_classifiers': 2, 'n_max': 1000, 'alfa': 5, 'lamdba': 0.75}</td>\n",
       "      <td>46.0</td>\n",
       "    </tr>\n",
       "    <tr>\n",
       "      <th>0</th>\n",
       "      <td>Data/features/VJ_resize_LBPH_normalized/100_100/r_1_n_12_grid_16_16</td>\n",
       "      <td>0.517956</td>\n",
       "      <td>negative_correlation</td>\n",
       "      <td>{'num_hidden': 100, 'number_classifiers': 2, 'n_max': 1000, 'alfa': 5, 'lamdba': 0}</td>\n",
       "      <td>46.0</td>\n",
       "    </tr>\n",
       "    <tr>\n",
       "      <th>0</th>\n",
       "      <td>Data/features/VJ_resize_LBPH_normalized/100_100/r_1_n_12_grid_16_16</td>\n",
       "      <td>0.517956</td>\n",
       "      <td>negative_correlation</td>\n",
       "      <td>{'num_hidden': 100, 'number_classifiers': 3, 'n_max': 1000, 'alfa': 5, 'lamdba': 0}</td>\n",
       "      <td>69.1</td>\n",
       "    </tr>\n",
       "    <tr>\n",
       "      <th>0</th>\n",
       "      <td>Data/features/VJ_resize_LBPH_normalized/100_100/r_1_n_12_grid_16_16</td>\n",
       "      <td>0.517956</td>\n",
       "      <td>negative_correlation</td>\n",
       "      <td>{'num_hidden': 100, 'number_classifiers': 3, 'n_max': 1000, 'alfa': 5, 'lamdba': 0.25}</td>\n",
       "      <td>69.0</td>\n",
       "    </tr>\n",
       "    <tr>\n",
       "      <th>0</th>\n",
       "      <td>Data/features/VJ_resize_LBPH_normalized/100_100/r_1_n_12_grid_16_16</td>\n",
       "      <td>0.517956</td>\n",
       "      <td>negative_correlation</td>\n",
       "      <td>{'num_hidden': 100, 'number_classifiers': 3, 'n_max': 1000, 'alfa': 5, 'lamdba': 0.5}</td>\n",
       "      <td>69.1</td>\n",
       "    </tr>\n",
       "  </tbody>\n",
       "</table>\n",
       "</div>"
      ],
      "text/plain": [
       "                                                      Preprocessamento  \\\n",
       "0  Data/features/VJ_resize_LBPH_normalized/100_100/r_1_n_12_grid_16_16   \n",
       "0  Data/features/VJ_resize_LBPH_normalized/100_100/r_1_n_12_grid_16_16   \n",
       "0  Data/features/VJ_resize_LBPH_normalized/100_100/r_1_n_12_grid_16_16   \n",
       "0  Data/features/VJ_resize_LBPH_normalized/100_100/r_1_n_12_grid_16_16   \n",
       "0  Data/features/VJ_resize_LBPH_normalized/100_100/r_1_n_12_grid_16_16   \n",
       "\n",
       "   Acuracia         Classificador  \\\n",
       "0  0.517956  negative_correlation   \n",
       "0  0.517956  negative_correlation   \n",
       "0  0.517956  negative_correlation   \n",
       "0  0.517956  negative_correlation   \n",
       "0  0.517956  negative_correlation   \n",
       "\n",
       "                                                                          Hyperparametros  \\\n",
       "0  {'num_hidden': 100, 'number_classifiers': 2, 'n_max': 1000, 'alfa': 5, 'lamdba': 0.75}   \n",
       "0     {'num_hidden': 100, 'number_classifiers': 2, 'n_max': 1000, 'alfa': 5, 'lamdba': 0}   \n",
       "0     {'num_hidden': 100, 'number_classifiers': 3, 'n_max': 1000, 'alfa': 5, 'lamdba': 0}   \n",
       "0  {'num_hidden': 100, 'number_classifiers': 3, 'n_max': 1000, 'alfa': 5, 'lamdba': 0.25}   \n",
       "0   {'num_hidden': 100, 'number_classifiers': 3, 'n_max': 1000, 'alfa': 5, 'lamdba': 0.5}   \n",
       "\n",
       "  Execution time  \n",
       "0           46.0  \n",
       "0           46.0  \n",
       "0           69.1  \n",
       "0           69.0  \n",
       "0           69.1  "
      ]
     },
     "execution_count": 45,
     "metadata": {},
     "output_type": "execute_result"
    }
   ],
   "source": [
    "df.sort_values(by='Acuracia', ascending=False).iloc[0:5]"
   ]
  },
  {
   "cell_type": "code",
   "execution_count": 46,
   "metadata": {},
   "outputs": [
    {
     "name": "stdout",
     "output_type": "stream",
     "text": [
      "0.5179563555721709 \n",
      " {'num_hidden': 100, 'number_classifiers': 2, 'n_max': 1000, 'alfa': 5, 'lamdba': 0.75}\n",
      "0.5179563555721709 \n",
      " {'num_hidden': 100, 'number_classifiers': 2, 'n_max': 1000, 'alfa': 5, 'lamdba': 0}\n",
      "0.5179563555721709 \n",
      " {'num_hidden': 100, 'number_classifiers': 3, 'n_max': 1000, 'alfa': 5, 'lamdba': 0}\n",
      "0.5179563555721709 \n",
      " {'num_hidden': 100, 'number_classifiers': 3, 'n_max': 1000, 'alfa': 5, 'lamdba': 0.25}\n",
      "0.5179563555721709 \n",
      " {'num_hidden': 100, 'number_classifiers': 3, 'n_max': 1000, 'alfa': 5, 'lamdba': 0.5}\n"
     ]
    },
    {
     "data": {
      "text/plain": [
       "[None, None, None, None, None]"
      ]
     },
     "execution_count": 46,
     "metadata": {},
     "output_type": "execute_result"
    }
   ],
   "source": [
    "[print(x['Acuracia'],'\\n',x['Hyperparametros']) for _, x in df.sort_values(by='Acuracia', ascending=False).iloc[0:5].iterrows()]"
   ]
  },
  {
   "cell_type": "code",
   "execution_count": 47,
   "metadata": {},
   "outputs": [],
   "source": [
    "# df.to_excel('df.xls')"
   ]
  },
  {
   "cell_type": "code",
   "execution_count": null,
   "metadata": {},
   "outputs": [],
   "source": []
  }
 ],
 "metadata": {
  "kernelspec": {
   "display_name": "Python 3",
   "language": "python",
   "name": "python3"
  },
  "language_info": {
   "codemirror_mode": {
    "name": "ipython",
    "version": 3
   },
   "file_extension": ".py",
   "mimetype": "text/x-python",
   "name": "python",
   "nbconvert_exporter": "python",
   "pygments_lexer": "ipython3",
   "version": "3.8.5"
  }
 },
 "nbformat": 4,
 "nbformat_minor": 4
}
