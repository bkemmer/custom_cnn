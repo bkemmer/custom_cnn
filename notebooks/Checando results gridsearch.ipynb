{
 "cells": [
  {
   "cell_type": "code",
   "execution_count": 1,
   "metadata": {},
   "outputs": [],
   "source": [
    "import pandas as pd\n",
    "from pathlib import Path"
   ]
  },
  {
   "cell_type": "code",
   "execution_count": 34,
   "metadata": {},
   "outputs": [],
   "source": [
    "def getFiles(path):\n",
    "    p = Path(path)\n",
    "    files = []\n",
    "    for path in p.glob('*.pickle'):\n",
    "        files.append(path.name)\n",
    "    return files"
   ]
  },
  {
   "cell_type": "code",
   "execution_count": 37,
   "metadata": {},
   "outputs": [
    {
     "data": {
      "text/plain": [
       "['VJ_resize_HOG_Concat_PCA_2020-08-03_10-05.pickle',\n",
       " 'VJ_resize_Concat_HOG_PCA_2020-08-03_09-12.pickle',\n",
       " 'VJ_resize_HOG_Concat_PCA_normalize_2020-08-03_10-18.pickle',\n",
       " 'VJ_resize_Concat_Flatten_ICA_2020-08-03_08-35.pickle',\n",
       " 'VJ_resize_LBP_2020-08-03_10-28.pickle',\n",
       " 'VJ_resize_HOG_Concat_Normalize_2020-08-03_09-37.pickle',\n",
       " 'VJ_resize_LBPH_2020-08-03_11-24.pickle']"
      ]
     },
     "execution_count": 37,
     "metadata": {},
     "output_type": "execute_result"
    }
   ],
   "source": [
    "results_folder = Path('..', 'Data', 'Processados', 'Resultados')\n",
    "flist = getFiles(results_folder)\n",
    "flist"
   ]
  },
  {
   "cell_type": "code",
   "execution_count": 40,
   "metadata": {},
   "outputs": [
    {
     "data": {
      "text/html": [
       "<div>\n",
       "<style scoped>\n",
       "    .dataframe tbody tr th:only-of-type {\n",
       "        vertical-align: middle;\n",
       "    }\n",
       "\n",
       "    .dataframe tbody tr th {\n",
       "        vertical-align: top;\n",
       "    }\n",
       "\n",
       "    .dataframe thead th {\n",
       "        text-align: right;\n",
       "    }\n",
       "</style>\n",
       "<table border=\"1\" class=\"dataframe\">\n",
       "  <thead>\n",
       "    <tr style=\"text-align: right;\">\n",
       "      <th></th>\n",
       "      <th>Preprocessamento</th>\n",
       "      <th>Acuracia</th>\n",
       "      <th>Classificador</th>\n",
       "      <th>Hyperparametros</th>\n",
       "    </tr>\n",
       "  </thead>\n",
       "  <tbody>\n",
       "    <tr>\n",
       "      <th>0</th>\n",
       "      <td>Data/features/VJ_resize_HOG_Concat_PCA/100_100</td>\n",
       "      <td>0.502274</td>\n",
       "      <td>SVM</td>\n",
       "      <td>{'C': 0.1, 'degree': 1, 'kernel': 'poly'}</td>\n",
       "    </tr>\n",
       "    <tr>\n",
       "      <th>0</th>\n",
       "      <td>Data/features/VJ_resize_HOG_Concat_PCA/100_100</td>\n",
       "      <td>0.506811</td>\n",
       "      <td>SVM</td>\n",
       "      <td>{'C': 0.1, 'degree': 1, 'kernel': 'rbf'}</td>\n",
       "    </tr>\n",
       "    <tr>\n",
       "      <th>0</th>\n",
       "      <td>Data/features/VJ_resize_HOG_Concat_PCA/100_100</td>\n",
       "      <td>0.538601</td>\n",
       "      <td>SVM</td>\n",
       "      <td>{'C': 0.1, 'degree': 2, 'kernel': 'poly'}</td>\n",
       "    </tr>\n",
       "    <tr>\n",
       "      <th>0</th>\n",
       "      <td>Data/features/VJ_resize_HOG_Concat_PCA/100_100</td>\n",
       "      <td>0.506811</td>\n",
       "      <td>SVM</td>\n",
       "      <td>{'C': 0.1, 'degree': 2, 'kernel': 'rbf'}</td>\n",
       "    </tr>\n",
       "    <tr>\n",
       "      <th>0</th>\n",
       "      <td>Data/features/VJ_resize_HOG_Concat_PCA/100_100</td>\n",
       "      <td>0.499999</td>\n",
       "      <td>SVM</td>\n",
       "      <td>{'C': 0.1, 'degree': 3, 'kernel': 'poly'}</td>\n",
       "    </tr>\n",
       "  </tbody>\n",
       "</table>\n",
       "</div>"
      ],
      "text/plain": [
       "                                 Preprocessamento  Acuracia Classificador  \\\n",
       "0  Data/features/VJ_resize_HOG_Concat_PCA/100_100  0.502274           SVM   \n",
       "0  Data/features/VJ_resize_HOG_Concat_PCA/100_100  0.506811           SVM   \n",
       "0  Data/features/VJ_resize_HOG_Concat_PCA/100_100  0.538601           SVM   \n",
       "0  Data/features/VJ_resize_HOG_Concat_PCA/100_100  0.506811           SVM   \n",
       "0  Data/features/VJ_resize_HOG_Concat_PCA/100_100  0.499999           SVM   \n",
       "\n",
       "                             Hyperparametros  \n",
       "0  {'C': 0.1, 'degree': 1, 'kernel': 'poly'}  \n",
       "0   {'C': 0.1, 'degree': 1, 'kernel': 'rbf'}  \n",
       "0  {'C': 0.1, 'degree': 2, 'kernel': 'poly'}  \n",
       "0   {'C': 0.1, 'degree': 2, 'kernel': 'rbf'}  \n",
       "0  {'C': 0.1, 'degree': 3, 'kernel': 'poly'}  "
      ]
     },
     "execution_count": 40,
     "metadata": {},
     "output_type": "execute_result"
    }
   ],
   "source": [
    "dfs = [pd.read_pickle(Path(results_folder, fname)) for fname in flist]\n",
    "df = pd.concat(dfs)\n",
    "dfs = None\n",
    "df.head()"
   ]
  },
  {
   "cell_type": "code",
   "execution_count": 41,
   "metadata": {},
   "outputs": [
    {
     "data": {
      "text/plain": [
       "0.6445430360344621"
      ]
     },
     "execution_count": 41,
     "metadata": {},
     "output_type": "execute_result"
    }
   ],
   "source": [
    "df.Acuracia.max()"
   ]
  },
  {
   "cell_type": "code",
   "execution_count": 42,
   "metadata": {},
   "outputs": [
    {
     "data": {
      "text/html": [
       "<div>\n",
       "<style scoped>\n",
       "    .dataframe tbody tr th:only-of-type {\n",
       "        vertical-align: middle;\n",
       "    }\n",
       "\n",
       "    .dataframe tbody tr th {\n",
       "        vertical-align: top;\n",
       "    }\n",
       "\n",
       "    .dataframe thead th {\n",
       "        text-align: right;\n",
       "    }\n",
       "</style>\n",
       "<table border=\"1\" class=\"dataframe\">\n",
       "  <thead>\n",
       "    <tr style=\"text-align: right;\">\n",
       "      <th></th>\n",
       "      <th>Preprocessamento</th>\n",
       "      <th>Acuracia</th>\n",
       "      <th>Classificador</th>\n",
       "      <th>Hyperparametros</th>\n",
       "    </tr>\n",
       "  </thead>\n",
       "  <tbody>\n",
       "    <tr>\n",
       "      <th>0</th>\n",
       "      <td>Data/features/VJ_resize_HOG_Concat_PCA/100_100</td>\n",
       "      <td>0.644543</td>\n",
       "      <td>SVM</td>\n",
       "      <td>{'C': 1, 'degree': 2, 'kernel': 'poly'}</td>\n",
       "    </tr>\n",
       "    <tr>\n",
       "      <th>0</th>\n",
       "      <td>Data/features/VJ_resize_HOG_Concat_PCA/100_100</td>\n",
       "      <td>0.643638</td>\n",
       "      <td>SVM</td>\n",
       "      <td>{'C': 100, 'degree': 2, 'kernel': 'poly'}</td>\n",
       "    </tr>\n",
       "    <tr>\n",
       "      <th>0</th>\n",
       "      <td>Data/features/VJ_resize_HOG_Concat_PCA/100_100</td>\n",
       "      <td>0.643638</td>\n",
       "      <td>SVM</td>\n",
       "      <td>{'C': 10, 'degree': 2, 'kernel': 'poly'}</td>\n",
       "    </tr>\n",
       "    <tr>\n",
       "      <th>0</th>\n",
       "      <td>Data/features/VJ_resize_HOG_Concat_PCA/100_100</td>\n",
       "      <td>0.643638</td>\n",
       "      <td>SVM</td>\n",
       "      <td>{'C': 5, 'degree': 2, 'kernel': 'poly'}</td>\n",
       "    </tr>\n",
       "    <tr>\n",
       "      <th>0</th>\n",
       "      <td>Data/features/VJ_resize_Concat_HOG_PCA/64_128/...</td>\n",
       "      <td>0.638177</td>\n",
       "      <td>SVM</td>\n",
       "      <td>{'C': 1, 'degree': 2, 'kernel': 'poly'}</td>\n",
       "    </tr>\n",
       "    <tr>\n",
       "      <th>...</th>\n",
       "      <td>...</td>\n",
       "      <td>...</td>\n",
       "      <td>...</td>\n",
       "      <td>...</td>\n",
       "    </tr>\n",
       "    <tr>\n",
       "      <th>0</th>\n",
       "      <td>Data/features/VJ_resize_HOG_Concat_PCA_normali...</td>\n",
       "      <td>0.466812</td>\n",
       "      <td>SVM</td>\n",
       "      <td>{'C': 5, 'degree': 1, 'kernel': 'poly'}</td>\n",
       "    </tr>\n",
       "    <tr>\n",
       "      <th>0</th>\n",
       "      <td>Data/features/VJ_resize_HOG_Concat_PCA_normali...</td>\n",
       "      <td>0.466363</td>\n",
       "      <td>SVM</td>\n",
       "      <td>{'C': 1, 'degree': 1, 'kernel': 'poly'}</td>\n",
       "    </tr>\n",
       "    <tr>\n",
       "      <th>0</th>\n",
       "      <td>Data/features/VJ_resize_Concat_HOG_PCA/64_64/(...</td>\n",
       "      <td>0.465904</td>\n",
       "      <td>SVM</td>\n",
       "      <td>{'C': 10, 'degree': 1, 'kernel': 'poly'}</td>\n",
       "    </tr>\n",
       "    <tr>\n",
       "      <th>0</th>\n",
       "      <td>Data/features/VJ_resize_Concat_HOG_PCA/64_64/(...</td>\n",
       "      <td>0.464999</td>\n",
       "      <td>MLP</td>\n",
       "      <td>{'activation': 'logistic', 'hidden_layer_sizes...</td>\n",
       "    </tr>\n",
       "    <tr>\n",
       "      <th>0</th>\n",
       "      <td>Data/features/VJ_resize_HOG_Concat_PCA_normali...</td>\n",
       "      <td>0.463632</td>\n",
       "      <td>SVM</td>\n",
       "      <td>{'C': 10, 'degree': 1, 'kernel': 'poly'}</td>\n",
       "    </tr>\n",
       "  </tbody>\n",
       "</table>\n",
       "<p>9776 rows × 4 columns</p>\n",
       "</div>"
      ],
      "text/plain": [
       "                                     Preprocessamento  Acuracia Classificador  \\\n",
       "0      Data/features/VJ_resize_HOG_Concat_PCA/100_100  0.644543           SVM   \n",
       "0      Data/features/VJ_resize_HOG_Concat_PCA/100_100  0.643638           SVM   \n",
       "0      Data/features/VJ_resize_HOG_Concat_PCA/100_100  0.643638           SVM   \n",
       "0      Data/features/VJ_resize_HOG_Concat_PCA/100_100  0.643638           SVM   \n",
       "0   Data/features/VJ_resize_Concat_HOG_PCA/64_128/...  0.638177           SVM   \n",
       "..                                                ...       ...           ...   \n",
       "0   Data/features/VJ_resize_HOG_Concat_PCA_normali...  0.466812           SVM   \n",
       "0   Data/features/VJ_resize_HOG_Concat_PCA_normali...  0.466363           SVM   \n",
       "0   Data/features/VJ_resize_Concat_HOG_PCA/64_64/(...  0.465904           SVM   \n",
       "0   Data/features/VJ_resize_Concat_HOG_PCA/64_64/(...  0.464999           MLP   \n",
       "0   Data/features/VJ_resize_HOG_Concat_PCA_normali...  0.463632           SVM   \n",
       "\n",
       "                                      Hyperparametros  \n",
       "0             {'C': 1, 'degree': 2, 'kernel': 'poly'}  \n",
       "0           {'C': 100, 'degree': 2, 'kernel': 'poly'}  \n",
       "0            {'C': 10, 'degree': 2, 'kernel': 'poly'}  \n",
       "0             {'C': 5, 'degree': 2, 'kernel': 'poly'}  \n",
       "0             {'C': 1, 'degree': 2, 'kernel': 'poly'}  \n",
       "..                                                ...  \n",
       "0             {'C': 5, 'degree': 1, 'kernel': 'poly'}  \n",
       "0             {'C': 1, 'degree': 1, 'kernel': 'poly'}  \n",
       "0            {'C': 10, 'degree': 1, 'kernel': 'poly'}  \n",
       "0   {'activation': 'logistic', 'hidden_layer_sizes...  \n",
       "0            {'C': 10, 'degree': 1, 'kernel': 'poly'}  \n",
       "\n",
       "[9776 rows x 4 columns]"
      ]
     },
     "execution_count": 42,
     "metadata": {},
     "output_type": "execute_result"
    }
   ],
   "source": [
    "df.sort_values(by='Acuracia', ascending=False)"
   ]
  },
  {
   "cell_type": "code",
   "execution_count": 43,
   "metadata": {},
   "outputs": [
    {
     "data": {
      "text/html": [
       "<div>\n",
       "<style scoped>\n",
       "    .dataframe tbody tr th:only-of-type {\n",
       "        vertical-align: middle;\n",
       "    }\n",
       "\n",
       "    .dataframe tbody tr th {\n",
       "        vertical-align: top;\n",
       "    }\n",
       "\n",
       "    .dataframe thead th {\n",
       "        text-align: right;\n",
       "    }\n",
       "</style>\n",
       "<table border=\"1\" class=\"dataframe\">\n",
       "  <thead>\n",
       "    <tr style=\"text-align: right;\">\n",
       "      <th></th>\n",
       "      <th>Preprocessamento</th>\n",
       "      <th>Acuracia</th>\n",
       "      <th>Classificador</th>\n",
       "      <th>Hyperparametros</th>\n",
       "    </tr>\n",
       "  </thead>\n",
       "  <tbody>\n",
       "    <tr>\n",
       "      <th>0</th>\n",
       "      <td>Data/features/VJ_resize_HOG_Concat_PCA/100_100</td>\n",
       "      <td>0.644543</td>\n",
       "      <td>SVM</td>\n",
       "      <td>{'C': 1, 'degree': 2, 'kernel': 'poly'}</td>\n",
       "    </tr>\n",
       "    <tr>\n",
       "      <th>0</th>\n",
       "      <td>Data/features/VJ_resize_HOG_Concat_PCA/100_100</td>\n",
       "      <td>0.643638</td>\n",
       "      <td>SVM</td>\n",
       "      <td>{'C': 100, 'degree': 2, 'kernel': 'poly'}</td>\n",
       "    </tr>\n",
       "    <tr>\n",
       "      <th>0</th>\n",
       "      <td>Data/features/VJ_resize_HOG_Concat_PCA/100_100</td>\n",
       "      <td>0.643638</td>\n",
       "      <td>SVM</td>\n",
       "      <td>{'C': 10, 'degree': 2, 'kernel': 'poly'}</td>\n",
       "    </tr>\n",
       "    <tr>\n",
       "      <th>0</th>\n",
       "      <td>Data/features/VJ_resize_HOG_Concat_PCA/100_100</td>\n",
       "      <td>0.643638</td>\n",
       "      <td>SVM</td>\n",
       "      <td>{'C': 5, 'degree': 2, 'kernel': 'poly'}</td>\n",
       "    </tr>\n",
       "    <tr>\n",
       "      <th>0</th>\n",
       "      <td>Data/features/VJ_resize_Concat_HOG_PCA/64_128/...</td>\n",
       "      <td>0.638177</td>\n",
       "      <td>SVM</td>\n",
       "      <td>{'C': 1, 'degree': 2, 'kernel': 'poly'}</td>\n",
       "    </tr>\n",
       "  </tbody>\n",
       "</table>\n",
       "</div>"
      ],
      "text/plain": [
       "                                    Preprocessamento  Acuracia Classificador  \\\n",
       "0     Data/features/VJ_resize_HOG_Concat_PCA/100_100  0.644543           SVM   \n",
       "0     Data/features/VJ_resize_HOG_Concat_PCA/100_100  0.643638           SVM   \n",
       "0     Data/features/VJ_resize_HOG_Concat_PCA/100_100  0.643638           SVM   \n",
       "0     Data/features/VJ_resize_HOG_Concat_PCA/100_100  0.643638           SVM   \n",
       "0  Data/features/VJ_resize_Concat_HOG_PCA/64_128/...  0.638177           SVM   \n",
       "\n",
       "                             Hyperparametros  \n",
       "0    {'C': 1, 'degree': 2, 'kernel': 'poly'}  \n",
       "0  {'C': 100, 'degree': 2, 'kernel': 'poly'}  \n",
       "0   {'C': 10, 'degree': 2, 'kernel': 'poly'}  \n",
       "0    {'C': 5, 'degree': 2, 'kernel': 'poly'}  \n",
       "0    {'C': 1, 'degree': 2, 'kernel': 'poly'}  "
      ]
     },
     "execution_count": 43,
     "metadata": {},
     "output_type": "execute_result"
    }
   ],
   "source": [
    "df.sort_values(by='Acuracia', ascending=False).iloc[0:5]"
   ]
  },
  {
   "cell_type": "code",
   "execution_count": 44,
   "metadata": {},
   "outputs": [
    {
     "name": "stdout",
     "output_type": "stream",
     "text": [
      "0.6445430360344621 \n",
      " {'C': 1, 'degree': 2, 'kernel': 'poly'}\n",
      "0.6436378685877777 \n",
      " {'C': 100, 'degree': 2, 'kernel': 'poly'}\n",
      "0.6436378685877777 \n",
      " {'C': 10, 'degree': 2, 'kernel': 'poly'}\n",
      "0.6436378685877777 \n",
      " {'C': 5, 'degree': 2, 'kernel': 'poly'}\n",
      "0.6381765057934433 \n",
      " {'C': 1, 'degree': 2, 'kernel': 'poly'}\n"
     ]
    },
    {
     "data": {
      "text/plain": [
       "[None, None, None, None, None]"
      ]
     },
     "execution_count": 44,
     "metadata": {},
     "output_type": "execute_result"
    }
   ],
   "source": [
    "[print(x['Acuracia'],'\\n',x['Hyperparametros']) for _, x in df.sort_values(by='Acuracia', ascending=False).iloc[0:5].iterrows()]"
   ]
  }
 ],
 "metadata": {
  "kernelspec": {
   "display_name": "Python 3",
   "language": "python",
   "name": "python3"
  },
  "language_info": {
   "codemirror_mode": {
    "name": "ipython",
    "version": 3
   },
   "file_extension": ".py",
   "mimetype": "text/x-python",
   "name": "python",
   "nbconvert_exporter": "python",
   "pygments_lexer": "ipython3",
   "version": "3.8.5"
  }
 },
 "nbformat": 4,
 "nbformat_minor": 4
}
