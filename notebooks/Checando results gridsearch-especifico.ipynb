{
 "cells": [
  {
   "cell_type": "code",
   "execution_count": 2,
   "metadata": {},
   "outputs": [],
   "source": [
    "import pandas as pd\n",
    "from pathlib import Path"
   ]
  },
  {
   "cell_type": "code",
   "execution_count": 3,
   "metadata": {},
   "outputs": [],
   "source": [
    "def getFiles(path):\n",
    "    p = Path(path)\n",
    "    files = []\n",
    "    for path in p.glob('*.pickle'):\n",
    "        files.append(path.name)\n",
    "    return files"
   ]
  },
  {
   "cell_type": "code",
   "execution_count": 4,
   "metadata": {},
   "outputs": [
    {
     "data": {
      "text/plain": [
       "['VJ_resize_Concat_Flatten_ICA_Normalize_2020-08-06_04-09.pickle',\n",
       " 'VJ_resize_LBP_normalized_2020-08-06_05-21.pickle',\n",
       " 'VJ_resize_Concat_HOG_PCA_Normalize_2020-08-06_03-13.pickle',\n",
       " 'VJ_resize_LBPH_normalized_2020-08-05_22-03.pickle',\n",
       " 'VJ_resize_HOG_Concat_Normalize_2020-08-06_01-03.pickle']"
      ]
     },
     "execution_count": 4,
     "metadata": {},
     "output_type": "execute_result"
    }
   ],
   "source": [
    "exp_folder = 'MLP_2020-08-05_22-03'\n",
    "results_folder = Path('..', 'Data', 'Processados', 'Resultados', exp_folder)\n",
    "flist = getFiles(results_folder)\n",
    "flist"
   ]
  },
  {
   "cell_type": "code",
   "execution_count": 5,
   "metadata": {},
   "outputs": [
    {
     "data": {
      "text/html": [
       "<div>\n",
       "<style scoped>\n",
       "    .dataframe tbody tr th:only-of-type {\n",
       "        vertical-align: middle;\n",
       "    }\n",
       "\n",
       "    .dataframe tbody tr th {\n",
       "        vertical-align: top;\n",
       "    }\n",
       "\n",
       "    .dataframe thead th {\n",
       "        text-align: right;\n",
       "    }\n",
       "</style>\n",
       "<table border=\"1\" class=\"dataframe\">\n",
       "  <thead>\n",
       "    <tr style=\"text-align: right;\">\n",
       "      <th></th>\n",
       "      <th>Preprocessamento</th>\n",
       "      <th>Acuracia</th>\n",
       "      <th>Classificador</th>\n",
       "      <th>Hyperparametros</th>\n",
       "      <th>Execution time</th>\n",
       "    </tr>\n",
       "  </thead>\n",
       "  <tbody>\n",
       "    <tr>\n",
       "      <th>0</th>\n",
       "      <td>Data/features_light_MLP/VJ_resize_Concat_Flatt...</td>\n",
       "      <td>0.523295</td>\n",
       "      <td>MLP</td>\n",
       "      <td>{'h_size': 10, 'ativacao': 'sigmoid', 'taxa_ap...</td>\n",
       "      <td>1.5</td>\n",
       "    </tr>\n",
       "    <tr>\n",
       "      <th>0</th>\n",
       "      <td>Data/features_light_MLP/VJ_resize_Concat_Flatt...</td>\n",
       "      <td>0.528182</td>\n",
       "      <td>MLP</td>\n",
       "      <td>{'h_size': 10, 'ativacao': 'relu', 'taxa_apren...</td>\n",
       "      <td>1.4</td>\n",
       "    </tr>\n",
       "    <tr>\n",
       "      <th>0</th>\n",
       "      <td>Data/features_light_MLP/VJ_resize_Concat_Flatt...</td>\n",
       "      <td>0.523182</td>\n",
       "      <td>MLP</td>\n",
       "      <td>{'h_size': 100, 'ativacao': 'sigmoid', 'taxa_a...</td>\n",
       "      <td>5.6</td>\n",
       "    </tr>\n",
       "    <tr>\n",
       "      <th>0</th>\n",
       "      <td>Data/features_light_MLP/VJ_resize_Concat_Flatt...</td>\n",
       "      <td>0.543182</td>\n",
       "      <td>MLP</td>\n",
       "      <td>{'h_size': 100, 'ativacao': 'relu', 'taxa_apre...</td>\n",
       "      <td>5.2</td>\n",
       "    </tr>\n",
       "    <tr>\n",
       "      <th>0</th>\n",
       "      <td>Data/features_light_MLP/VJ_resize_Concat_Flatt...</td>\n",
       "      <td>0.507955</td>\n",
       "      <td>MLP</td>\n",
       "      <td>{'h_size': 500, 'ativacao': 'sigmoid', 'taxa_a...</td>\n",
       "      <td>22.0</td>\n",
       "    </tr>\n",
       "  </tbody>\n",
       "</table>\n",
       "</div>"
      ],
      "text/plain": [
       "                                    Preprocessamento  Acuracia Classificador  \\\n",
       "0  Data/features_light_MLP/VJ_resize_Concat_Flatt...  0.523295           MLP   \n",
       "0  Data/features_light_MLP/VJ_resize_Concat_Flatt...  0.528182           MLP   \n",
       "0  Data/features_light_MLP/VJ_resize_Concat_Flatt...  0.523182           MLP   \n",
       "0  Data/features_light_MLP/VJ_resize_Concat_Flatt...  0.543182           MLP   \n",
       "0  Data/features_light_MLP/VJ_resize_Concat_Flatt...  0.507955           MLP   \n",
       "\n",
       "                                     Hyperparametros Execution time  \n",
       "0  {'h_size': 10, 'ativacao': 'sigmoid', 'taxa_ap...            1.5  \n",
       "0  {'h_size': 10, 'ativacao': 'relu', 'taxa_apren...            1.4  \n",
       "0  {'h_size': 100, 'ativacao': 'sigmoid', 'taxa_a...            5.6  \n",
       "0  {'h_size': 100, 'ativacao': 'relu', 'taxa_apre...            5.2  \n",
       "0  {'h_size': 500, 'ativacao': 'sigmoid', 'taxa_a...           22.0  "
      ]
     },
     "execution_count": 5,
     "metadata": {},
     "output_type": "execute_result"
    }
   ],
   "source": [
    "dfs = [pd.read_pickle(Path(results_folder, fname)) for fname in flist]\n",
    "df = pd.concat(dfs)\n",
    "dfs = None\n",
    "df.head()"
   ]
  },
  {
   "cell_type": "code",
   "execution_count": 6,
   "metadata": {},
   "outputs": [
    {
     "data": {
      "text/plain": [
       "0.5630681818181819"
      ]
     },
     "execution_count": 6,
     "metadata": {},
     "output_type": "execute_result"
    }
   ],
   "source": [
    "df.Acuracia.max()"
   ]
  },
  {
   "cell_type": "code",
   "execution_count": 8,
   "metadata": {},
   "outputs": [
    {
     "data": {
      "text/html": [
       "<div>\n",
       "<style scoped>\n",
       "    .dataframe tbody tr th:only-of-type {\n",
       "        vertical-align: middle;\n",
       "    }\n",
       "\n",
       "    .dataframe tbody tr th {\n",
       "        vertical-align: top;\n",
       "    }\n",
       "\n",
       "    .dataframe thead th {\n",
       "        text-align: right;\n",
       "    }\n",
       "</style>\n",
       "<table border=\"1\" class=\"dataframe\">\n",
       "  <thead>\n",
       "    <tr style=\"text-align: right;\">\n",
       "      <th></th>\n",
       "      <th>Preprocessamento</th>\n",
       "      <th>Acuracia</th>\n",
       "      <th>Classificador</th>\n",
       "      <th>Hyperparametros</th>\n",
       "      <th>Execution time</th>\n",
       "    </tr>\n",
       "  </thead>\n",
       "  <tbody>\n",
       "    <tr>\n",
       "      <th>0</th>\n",
       "      <td>Data/features_light_MLP/VJ_resize_LBP_normalized/100_100/r_3_n_12</td>\n",
       "      <td>0.563068</td>\n",
       "      <td>MLP</td>\n",
       "      <td>{'h_size': 500, 'ativacao': 'relu', 'taxa_aprendizado': 0.1, 'max_iteracoes': 1000}</td>\n",
       "      <td>34.9</td>\n",
       "    </tr>\n",
       "    <tr>\n",
       "      <th>0</th>\n",
       "      <td>Data/features_light_MLP/VJ_resize_LBP_normalized/100_100/r_3_n_12</td>\n",
       "      <td>0.562614</td>\n",
       "      <td>MLP</td>\n",
       "      <td>{'h_size': 500, 'ativacao': 'relu', 'taxa_aprendizado': 0.1, 'max_iteracoes': 500}</td>\n",
       "      <td>17.7</td>\n",
       "    </tr>\n",
       "    <tr>\n",
       "      <th>0</th>\n",
       "      <td>Data/features_light_MLP/VJ_resize_LBP_normalized/100_100/r_3_n_12</td>\n",
       "      <td>0.561818</td>\n",
       "      <td>MLP</td>\n",
       "      <td>{'h_size': 100, 'ativacao': 'relu', 'taxa_aprendizado': 0.1, 'max_iteracoes': 1000}</td>\n",
       "      <td>9.4</td>\n",
       "    </tr>\n",
       "    <tr>\n",
       "      <th>0</th>\n",
       "      <td>Data/features_light_MLP/VJ_resize_LBP_normalized/100_100/r_3_n_12</td>\n",
       "      <td>0.561705</td>\n",
       "      <td>MLP</td>\n",
       "      <td>{'h_size': 100, 'ativacao': 'relu', 'taxa_aprendizado': 0.1, 'max_iteracoes': 500}</td>\n",
       "      <td>4.7</td>\n",
       "    </tr>\n",
       "    <tr>\n",
       "      <th>0</th>\n",
       "      <td>Data/features_light_MLP/VJ_resize_LBP_normalized/100_100/r_3_n_12</td>\n",
       "      <td>0.558750</td>\n",
       "      <td>MLP</td>\n",
       "      <td>{'h_size': 500, 'ativacao': 'sigmoid', 'taxa_aprendizado': 1, 'max_iteracoes': 1000}</td>\n",
       "      <td>38.6</td>\n",
       "    </tr>\n",
       "  </tbody>\n",
       "</table>\n",
       "</div>"
      ],
      "text/plain": [
       "                                                    Preprocessamento  \\\n",
       "0  Data/features_light_MLP/VJ_resize_LBP_normalized/100_100/r_3_n_12   \n",
       "0  Data/features_light_MLP/VJ_resize_LBP_normalized/100_100/r_3_n_12   \n",
       "0  Data/features_light_MLP/VJ_resize_LBP_normalized/100_100/r_3_n_12   \n",
       "0  Data/features_light_MLP/VJ_resize_LBP_normalized/100_100/r_3_n_12   \n",
       "0  Data/features_light_MLP/VJ_resize_LBP_normalized/100_100/r_3_n_12   \n",
       "\n",
       "   Acuracia Classificador  \\\n",
       "0  0.563068           MLP   \n",
       "0  0.562614           MLP   \n",
       "0  0.561818           MLP   \n",
       "0  0.561705           MLP   \n",
       "0  0.558750           MLP   \n",
       "\n",
       "                                                                        Hyperparametros  \\\n",
       "0   {'h_size': 500, 'ativacao': 'relu', 'taxa_aprendizado': 0.1, 'max_iteracoes': 1000}   \n",
       "0    {'h_size': 500, 'ativacao': 'relu', 'taxa_aprendizado': 0.1, 'max_iteracoes': 500}   \n",
       "0   {'h_size': 100, 'ativacao': 'relu', 'taxa_aprendizado': 0.1, 'max_iteracoes': 1000}   \n",
       "0    {'h_size': 100, 'ativacao': 'relu', 'taxa_aprendizado': 0.1, 'max_iteracoes': 500}   \n",
       "0  {'h_size': 500, 'ativacao': 'sigmoid', 'taxa_aprendizado': 1, 'max_iteracoes': 1000}   \n",
       "\n",
       "  Execution time  \n",
       "0           34.9  \n",
       "0           17.7  \n",
       "0            9.4  \n",
       "0            4.7  \n",
       "0           38.6  "
      ]
     },
     "execution_count": 8,
     "metadata": {},
     "output_type": "execute_result"
    }
   ],
   "source": [
    "pd.set_option('max_colwidth', 255)\n",
    "df = df.sort_values(by='Acuracia', ascending=False)\n",
    "df.head()"
   ]
  },
  {
   "cell_type": "code",
   "execution_count": 9,
   "metadata": {},
   "outputs": [
    {
     "data": {
      "text/html": [
       "<div>\n",
       "<style scoped>\n",
       "    .dataframe tbody tr th:only-of-type {\n",
       "        vertical-align: middle;\n",
       "    }\n",
       "\n",
       "    .dataframe tbody tr th {\n",
       "        vertical-align: top;\n",
       "    }\n",
       "\n",
       "    .dataframe thead th {\n",
       "        text-align: right;\n",
       "    }\n",
       "</style>\n",
       "<table border=\"1\" class=\"dataframe\">\n",
       "  <thead>\n",
       "    <tr style=\"text-align: right;\">\n",
       "      <th></th>\n",
       "      <th>Preprocessamento</th>\n",
       "      <th>Acuracia</th>\n",
       "      <th>Classificador</th>\n",
       "      <th>Hyperparametros</th>\n",
       "      <th>Execution time</th>\n",
       "    </tr>\n",
       "  </thead>\n",
       "  <tbody>\n",
       "    <tr>\n",
       "      <th>0</th>\n",
       "      <td>Data/features_light_MLP/VJ_resize_LBP_normalized/100_100/r_3_n_12</td>\n",
       "      <td>0.563068</td>\n",
       "      <td>MLP</td>\n",
       "      <td>{'h_size': 500, 'ativacao': 'relu', 'taxa_aprendizado': 0.1, 'max_iteracoes': 1000}</td>\n",
       "      <td>34.9</td>\n",
       "    </tr>\n",
       "    <tr>\n",
       "      <th>0</th>\n",
       "      <td>Data/features_light_MLP/VJ_resize_LBP_normalized/100_100/r_3_n_12</td>\n",
       "      <td>0.562614</td>\n",
       "      <td>MLP</td>\n",
       "      <td>{'h_size': 500, 'ativacao': 'relu', 'taxa_aprendizado': 0.1, 'max_iteracoes': 500}</td>\n",
       "      <td>17.7</td>\n",
       "    </tr>\n",
       "    <tr>\n",
       "      <th>0</th>\n",
       "      <td>Data/features_light_MLP/VJ_resize_LBP_normalized/100_100/r_3_n_12</td>\n",
       "      <td>0.561818</td>\n",
       "      <td>MLP</td>\n",
       "      <td>{'h_size': 100, 'ativacao': 'relu', 'taxa_aprendizado': 0.1, 'max_iteracoes': 1000}</td>\n",
       "      <td>9.4</td>\n",
       "    </tr>\n",
       "    <tr>\n",
       "      <th>0</th>\n",
       "      <td>Data/features_light_MLP/VJ_resize_LBP_normalized/100_100/r_3_n_12</td>\n",
       "      <td>0.561705</td>\n",
       "      <td>MLP</td>\n",
       "      <td>{'h_size': 100, 'ativacao': 'relu', 'taxa_aprendizado': 0.1, 'max_iteracoes': 500}</td>\n",
       "      <td>4.7</td>\n",
       "    </tr>\n",
       "    <tr>\n",
       "      <th>0</th>\n",
       "      <td>Data/features_light_MLP/VJ_resize_LBP_normalized/100_100/r_3_n_12</td>\n",
       "      <td>0.558750</td>\n",
       "      <td>MLP</td>\n",
       "      <td>{'h_size': 500, 'ativacao': 'sigmoid', 'taxa_aprendizado': 1, 'max_iteracoes': 1000}</td>\n",
       "      <td>38.6</td>\n",
       "    </tr>\n",
       "  </tbody>\n",
       "</table>\n",
       "</div>"
      ],
      "text/plain": [
       "                                                    Preprocessamento  \\\n",
       "0  Data/features_light_MLP/VJ_resize_LBP_normalized/100_100/r_3_n_12   \n",
       "0  Data/features_light_MLP/VJ_resize_LBP_normalized/100_100/r_3_n_12   \n",
       "0  Data/features_light_MLP/VJ_resize_LBP_normalized/100_100/r_3_n_12   \n",
       "0  Data/features_light_MLP/VJ_resize_LBP_normalized/100_100/r_3_n_12   \n",
       "0  Data/features_light_MLP/VJ_resize_LBP_normalized/100_100/r_3_n_12   \n",
       "\n",
       "   Acuracia Classificador  \\\n",
       "0  0.563068           MLP   \n",
       "0  0.562614           MLP   \n",
       "0  0.561818           MLP   \n",
       "0  0.561705           MLP   \n",
       "0  0.558750           MLP   \n",
       "\n",
       "                                                                        Hyperparametros  \\\n",
       "0   {'h_size': 500, 'ativacao': 'relu', 'taxa_aprendizado': 0.1, 'max_iteracoes': 1000}   \n",
       "0    {'h_size': 500, 'ativacao': 'relu', 'taxa_aprendizado': 0.1, 'max_iteracoes': 500}   \n",
       "0   {'h_size': 100, 'ativacao': 'relu', 'taxa_aprendizado': 0.1, 'max_iteracoes': 1000}   \n",
       "0    {'h_size': 100, 'ativacao': 'relu', 'taxa_aprendizado': 0.1, 'max_iteracoes': 500}   \n",
       "0  {'h_size': 500, 'ativacao': 'sigmoid', 'taxa_aprendizado': 1, 'max_iteracoes': 1000}   \n",
       "\n",
       "  Execution time  \n",
       "0           34.9  \n",
       "0           17.7  \n",
       "0            9.4  \n",
       "0            4.7  \n",
       "0           38.6  "
      ]
     },
     "execution_count": 9,
     "metadata": {},
     "output_type": "execute_result"
    }
   ],
   "source": [
    "df.sort_values(by='Acuracia', ascending=False).iloc[0:5]"
   ]
  },
  {
   "cell_type": "code",
   "execution_count": 10,
   "metadata": {},
   "outputs": [
    {
     "name": "stdout",
     "output_type": "stream",
     "text": [
      "0.5630681818181819 \n",
      " {'h_size': 500, 'ativacao': 'relu', 'taxa_aprendizado': 0.1, 'max_iteracoes': 1000}\n",
      "0.5626136363636364 \n",
      " {'h_size': 500, 'ativacao': 'relu', 'taxa_aprendizado': 0.1, 'max_iteracoes': 500}\n",
      "0.5618181818181818 \n",
      " {'h_size': 100, 'ativacao': 'relu', 'taxa_aprendizado': 0.1, 'max_iteracoes': 1000}\n",
      "0.5617045454545455 \n",
      " {'h_size': 100, 'ativacao': 'relu', 'taxa_aprendizado': 0.1, 'max_iteracoes': 500}\n",
      "0.5587500000000001 \n",
      " {'h_size': 500, 'ativacao': 'sigmoid', 'taxa_aprendizado': 1, 'max_iteracoes': 1000}\n"
     ]
    },
    {
     "data": {
      "text/plain": [
       "[None, None, None, None, None]"
      ]
     },
     "execution_count": 10,
     "metadata": {},
     "output_type": "execute_result"
    }
   ],
   "source": [
    "[print(x['Acuracia'],'\\n',x['Hyperparametros']) for _, x in df.sort_values(by='Acuracia', ascending=False).iloc[0:5].iterrows()]"
   ]
  },
  {
   "cell_type": "code",
   "execution_count": 38,
   "metadata": {},
   "outputs": [],
   "source": [
    "# df.to_excel('df.xls')"
   ]
  },
  {
   "cell_type": "code",
   "execution_count": null,
   "metadata": {},
   "outputs": [],
   "source": []
  }
 ],
 "metadata": {
  "kernelspec": {
   "display_name": "Python 3",
   "language": "python",
   "name": "python3"
  },
  "language_info": {
   "codemirror_mode": {
    "name": "ipython",
    "version": 3
   },
   "file_extension": ".py",
   "mimetype": "text/x-python",
   "name": "python",
   "nbconvert_exporter": "python",
   "pygments_lexer": "ipython3",
   "version": "3.8.5"
  }
 },
 "nbformat": 4,
 "nbformat_minor": 4
}
