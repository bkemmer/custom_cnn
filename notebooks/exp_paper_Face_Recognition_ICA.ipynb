{
 "cells": [
  {
   "cell_type": "code",
   "execution_count": 1,
   "metadata": {},
   "outputs": [],
   "source": [
    "import os\n",
    "from glob import glob\n",
    "from skimage import data, io, feature, color, exposure\n",
    "import numpy as np\n",
    "import cv2\n",
    "\n",
    "from pathlib import Path\n",
    "import pandas as pd\n",
    "import matplotlib.pyplot as plt\n",
    "from matplotlib.patches import Rectangle\n",
    "from sklearn.decomposition import PCA\n",
    "import seaborn as sns\n",
    "%matplotlib inline"
   ]
  },
  {
   "cell_type": "markdown",
   "metadata": {},
   "source": [
    "# http://theautomatic.net/2018/06/23/ica-on-images-with-python/"
   ]
  },
  {
   "cell_type": "markdown",
   "metadata": {},
   "source": [
    "# declare functions"
   ]
  },
  {
   "cell_type": "code",
   "execution_count": 2,
   "metadata": {},
   "outputs": [],
   "source": [
    "lfw2 = os.path.join('..', 'Data', 'lfw2')\n",
    "def image_path(person, id_, lfw_folder = lfw2):\n",
    "    return glob(os.path.join(lfw_folder, person, '*' + id_ + '.jpg'))[0]"
   ]
  },
  {
   "cell_type": "code",
   "execution_count": 3,
   "metadata": {},
   "outputs": [],
   "source": [
    "'''\n",
    "Parameters: \n",
    "    - img_matrix: (ndarray)\n",
    "    - title: (string)\n",
    "Output:\n",
    "    - image plot\n",
    "'''\n",
    "def plt_img(img_matrix, title='Image', normalize=False):\n",
    "    if normalize:\n",
    "        plt.imshow(img_matrix, vmin=np.min(img_matrix), vmax=np.max(img_matrix), cmap='gray')\n",
    "    else:\n",
    "        io.imshow(img_matrix)\n",
    "    plt.title(title)\n",
    "    plt.show()"
   ]
  },
  {
   "cell_type": "code",
   "execution_count": 4,
   "metadata": {},
   "outputs": [],
   "source": [
    "def plt_two_imgs(img_a, img_b, cmap='gray', normalize=False):\n",
    "    f = plt.figure(figsize=(12, 8))\n",
    "    f.add_subplot(1,2, 1)\n",
    "    if normalize:\n",
    "        plt.imshow(img_a, vmin=np.min(img_matrix), vmax=np.max(img_matrix), cmap=cmap)\n",
    "    else:\n",
    "        plt.imshow(img_a, cmap=cmap)\n",
    "    f.add_subplot(1,2, 2)\n",
    "    if normalize:\n",
    "        plt.imshow(img_b, vmin=np.min(img_matrix), vmax=np.max(img_matrix), cmap=cmap)\n",
    "    else:\n",
    "        plt.imshow(img_b, cmap=cmap)\n",
    "    \n",
    "    plt.show(block=True)\n",
    "    \n",
    "    "
   ]
  },
  {
   "cell_type": "code",
   "execution_count": 5,
   "metadata": {},
   "outputs": [],
   "source": [
    "'''\n",
    "Parameters: \n",
    "- Path: The image should be in the working directory or a full path of image\n",
    "should be given;\n",
    "- color: Second argument is a flag which specifies the way image should be read.\n",
    "    cv2.IMREAD_COLOR : Loads a color image. Any transparency of image\n",
    "    will be neglected;\n",
    "    cv2.IMREAD_GRAYSCALE : Loads image in grayscale mode;\n",
    "    cv2.IMREAD_UNCHANGED : Loads image as such including alpha channel;\n",
    "Note Instead of these three flags, you can simply pass integers 1, 0 or -1\n",
    "respectively.\n",
    "Output:\n",
    "- img_array: (ndarray)\n",
    "'''\n",
    "def open_img(path, color=0):\n",
    "    return cv2.imread(path, color)"
   ]
  },
  {
   "cell_type": "code",
   "execution_count": 6,
   "metadata": {},
   "outputs": [],
   "source": [
    "'''\n",
    "Parameters:\n",
    "- path_img: A string representing the file name. The filename must include image format like .jpg, .png, etc.\n",
    "\n",
    "- img: It is the image that is to be saved (ndarray).\n",
    "\n",
    "Return Value: It returns true if image is saved successfully.\n",
    "'''\n",
    "\n",
    "def save_img(path_img, img):\n",
    "    cv2.imwrite(path_img, img) "
   ]
  },
  {
   "cell_type": "code",
   "execution_count": 7,
   "metadata": {},
   "outputs": [],
   "source": [
    "def getDF(path):\n",
    "    with open(path) as f:\n",
    "        file_list = f.readlines()\n",
    "    n = int(file_list[0].strip())\n",
    "    df_inicial = pd.read_csv(path, sep='\\t', skiprows=1, nrows=n, names=['pair_name_1', 'pair_id_1', 'pair_id_2'])\n",
    "    df_inicial['pair_name_2'] = None\n",
    "    df_secondary = pd.read_csv(path, sep='\\t', skiprows=n+1, names=['pair_name_1', 'pair_id_1', 'pair_name_2', 'pair_id_2'])\n",
    "    df = pd.concat([df_inicial, df_secondary])\n",
    "    df = df.reset_index(drop=True)\n",
    "    print(df.shape)\n",
    "    return df"
   ]
  },
  {
   "cell_type": "code",
   "execution_count": 8,
   "metadata": {},
   "outputs": [],
   "source": [
    "def plt_img_batch(df, show=False, limit=np.inf):\n",
    "    for index, row in df.iterrows():\n",
    "        plt_img(open_img(row['path_pair_id_1'], color=0), title=os.path.split(row['path_pair_id_1'])[-1].split('.')[0])\n",
    "        plt_img(open_img(row['path_pair_id_2'], color=0), title=os.path.split(row['path_pair_id_2'])[-1].split('.')[0])\n",
    "        if limit == index + 1:\n",
    "            break"
   ]
  },
  {
   "cell_type": "markdown",
   "metadata": {},
   "source": [
    "# example"
   ]
  },
  {
   "cell_type": "code",
   "execution_count": 9,
   "metadata": {},
   "outputs": [],
   "source": [
    "# data_folder = os.path.abspath('..\\\\data\\\\')\n",
    "data_folder = os.path.join('..', 'Data')\n",
    "train_path = Path(data_folder, 'pairsDevTrain.txt')\n",
    "test_path = Path(data_folder, 'pairsDevTest.txt')"
   ]
  },
  {
   "cell_type": "code",
   "execution_count": 10,
   "metadata": {},
   "outputs": [
    {
     "name": "stdout",
     "output_type": "stream",
     "text": [
      "(2200, 4)\n",
      "(1000, 4)\n"
     ]
    },
    {
     "name": "stderr",
     "output_type": "stream",
     "text": [
      "C:\\ProgramData\\Anaconda3\\lib\\site-packages\\ipykernel_launcher.py:8: FutureWarning: Sorting because non-concatenation axis is not aligned. A future version\n",
      "of pandas will change to not sort by default.\n",
      "\n",
      "To accept the future behavior, pass 'sort=False'.\n",
      "\n",
      "To retain the current behavior and silence the warning, pass 'sort=True'.\n",
      "\n",
      "  \n"
     ]
    }
   ],
   "source": [
    "df_train = getDF(train_path)\n",
    "df_test = getDF(test_path)"
   ]
  },
  {
   "cell_type": "code",
   "execution_count": 11,
   "metadata": {},
   "outputs": [],
   "source": [
    "df_train['path_pair_id_1'] = df_train.apply(lambda x: image_path(person=x['pair_name_1'], id_= str(x['pair_id_1'])), axis=1)\n",
    "df_train['path_pair_id_2'] = df_train.apply(lambda x: image_path(person=x['pair_name_1'], id_= str(x['pair_id_2'])) if x['pair_name_2']==None \n",
    "                                            else image_path(person=x['pair_name_2'], id_= str(x['pair_id_2'])), axis=1)\n",
    "\n",
    "df_test['path_pair_id_1'] = df_test.apply(lambda x: image_path(person=x['pair_name_1'], id_= str(x['pair_id_1'])), axis=1)\n",
    "df_test['path_pair_id_2'] = df_test.apply(lambda x: image_path(person=x['pair_name_1'], id_= str(x['pair_id_2'])) if x['pair_name_2']==None \n",
    "                                          else image_path(person=x['pair_name_2'], id_= str(x['pair_id_2'])), axis=1)"
   ]
  },
  {
   "cell_type": "code",
   "execution_count": 12,
   "metadata": {},
   "outputs": [
    {
     "data": {
      "text/html": [
       "<div>\n",
       "<style scoped>\n",
       "    .dataframe tbody tr th:only-of-type {\n",
       "        vertical-align: middle;\n",
       "    }\n",
       "\n",
       "    .dataframe tbody tr th {\n",
       "        vertical-align: top;\n",
       "    }\n",
       "\n",
       "    .dataframe thead th {\n",
       "        text-align: right;\n",
       "    }\n",
       "</style>\n",
       "<table border=\"1\" class=\"dataframe\">\n",
       "  <thead>\n",
       "    <tr style=\"text-align: right;\">\n",
       "      <th></th>\n",
       "      <th>pair_id_1</th>\n",
       "      <th>pair_id_2</th>\n",
       "      <th>pair_name_1</th>\n",
       "      <th>pair_name_2</th>\n",
       "      <th>path_pair_id_1</th>\n",
       "      <th>path_pair_id_2</th>\n",
       "    </tr>\n",
       "  </thead>\n",
       "  <tbody>\n",
       "    <tr>\n",
       "      <td>0</td>\n",
       "      <td>1</td>\n",
       "      <td>2</td>\n",
       "      <td>Aaron_Peirsol</td>\n",
       "      <td>None</td>\n",
       "      <td>..\\Data\\lfw2\\Aaron_Peirsol\\Aaron_Peirsol_0001.jpg</td>\n",
       "      <td>..\\Data\\lfw2\\Aaron_Peirsol\\Aaron_Peirsol_0002.jpg</td>\n",
       "    </tr>\n",
       "    <tr>\n",
       "      <td>1</td>\n",
       "      <td>3</td>\n",
       "      <td>4</td>\n",
       "      <td>Aaron_Peirsol</td>\n",
       "      <td>None</td>\n",
       "      <td>..\\Data\\lfw2\\Aaron_Peirsol\\Aaron_Peirsol_0003.jpg</td>\n",
       "      <td>..\\Data\\lfw2\\Aaron_Peirsol\\Aaron_Peirsol_0004.jpg</td>\n",
       "    </tr>\n",
       "    <tr>\n",
       "      <td>2</td>\n",
       "      <td>1</td>\n",
       "      <td>2</td>\n",
       "      <td>Aaron_Sorkin</td>\n",
       "      <td>None</td>\n",
       "      <td>..\\Data\\lfw2\\Aaron_Sorkin\\Aaron_Sorkin_0001.jpg</td>\n",
       "      <td>..\\Data\\lfw2\\Aaron_Sorkin\\Aaron_Sorkin_0002.jpg</td>\n",
       "    </tr>\n",
       "    <tr>\n",
       "      <td>3</td>\n",
       "      <td>1</td>\n",
       "      <td>2</td>\n",
       "      <td>Abdel_Nasser_Assidi</td>\n",
       "      <td>None</td>\n",
       "      <td>..\\Data\\lfw2\\Abdel_Nasser_Assidi\\Abdel_Nasser_...</td>\n",
       "      <td>..\\Data\\lfw2\\Abdel_Nasser_Assidi\\Abdel_Nasser_...</td>\n",
       "    </tr>\n",
       "    <tr>\n",
       "      <td>4</td>\n",
       "      <td>1</td>\n",
       "      <td>3</td>\n",
       "      <td>Abdullah</td>\n",
       "      <td>None</td>\n",
       "      <td>..\\Data\\lfw2\\Abdullah\\Abdullah_0001.jpg</td>\n",
       "      <td>..\\Data\\lfw2\\Abdullah\\Abdullah_0003.jpg</td>\n",
       "    </tr>\n",
       "  </tbody>\n",
       "</table>\n",
       "</div>"
      ],
      "text/plain": [
       "   pair_id_1  pair_id_2          pair_name_1 pair_name_2  \\\n",
       "0          1          2        Aaron_Peirsol        None   \n",
       "1          3          4        Aaron_Peirsol        None   \n",
       "2          1          2         Aaron_Sorkin        None   \n",
       "3          1          2  Abdel_Nasser_Assidi        None   \n",
       "4          1          3             Abdullah        None   \n",
       "\n",
       "                                      path_pair_id_1  \\\n",
       "0  ..\\Data\\lfw2\\Aaron_Peirsol\\Aaron_Peirsol_0001.jpg   \n",
       "1  ..\\Data\\lfw2\\Aaron_Peirsol\\Aaron_Peirsol_0003.jpg   \n",
       "2    ..\\Data\\lfw2\\Aaron_Sorkin\\Aaron_Sorkin_0001.jpg   \n",
       "3  ..\\Data\\lfw2\\Abdel_Nasser_Assidi\\Abdel_Nasser_...   \n",
       "4            ..\\Data\\lfw2\\Abdullah\\Abdullah_0001.jpg   \n",
       "\n",
       "                                      path_pair_id_2  \n",
       "0  ..\\Data\\lfw2\\Aaron_Peirsol\\Aaron_Peirsol_0002.jpg  \n",
       "1  ..\\Data\\lfw2\\Aaron_Peirsol\\Aaron_Peirsol_0004.jpg  \n",
       "2    ..\\Data\\lfw2\\Aaron_Sorkin\\Aaron_Sorkin_0002.jpg  \n",
       "3  ..\\Data\\lfw2\\Abdel_Nasser_Assidi\\Abdel_Nasser_...  \n",
       "4            ..\\Data\\lfw2\\Abdullah\\Abdullah_0003.jpg  "
      ]
     },
     "execution_count": 12,
     "metadata": {},
     "output_type": "execute_result"
    }
   ],
   "source": [
    "df_train.head()"
   ]
  },
  {
   "cell_type": "code",
   "execution_count": 13,
   "metadata": {},
   "outputs": [
    {
     "data": {
      "text/html": [
       "<div>\n",
       "<style scoped>\n",
       "    .dataframe tbody tr th:only-of-type {\n",
       "        vertical-align: middle;\n",
       "    }\n",
       "\n",
       "    .dataframe tbody tr th {\n",
       "        vertical-align: top;\n",
       "    }\n",
       "\n",
       "    .dataframe thead th {\n",
       "        text-align: right;\n",
       "    }\n",
       "</style>\n",
       "<table border=\"1\" class=\"dataframe\">\n",
       "  <thead>\n",
       "    <tr style=\"text-align: right;\">\n",
       "      <th></th>\n",
       "      <th>pair_id_1</th>\n",
       "      <th>pair_id_2</th>\n",
       "      <th>pair_name_1</th>\n",
       "      <th>pair_name_2</th>\n",
       "      <th>path_pair_id_1</th>\n",
       "      <th>path_pair_id_2</th>\n",
       "    </tr>\n",
       "  </thead>\n",
       "  <tbody>\n",
       "    <tr>\n",
       "      <td>0</td>\n",
       "      <td>13</td>\n",
       "      <td>14</td>\n",
       "      <td>Abdullah_Gul</td>\n",
       "      <td>None</td>\n",
       "      <td>..\\Data\\lfw2\\Abdullah_Gul\\Abdullah_Gul_0013.jpg</td>\n",
       "      <td>..\\Data\\lfw2\\Abdullah_Gul\\Abdullah_Gul_0014.jpg</td>\n",
       "    </tr>\n",
       "    <tr>\n",
       "      <td>1</td>\n",
       "      <td>13</td>\n",
       "      <td>16</td>\n",
       "      <td>Abdullah_Gul</td>\n",
       "      <td>None</td>\n",
       "      <td>..\\Data\\lfw2\\Abdullah_Gul\\Abdullah_Gul_0013.jpg</td>\n",
       "      <td>..\\Data\\lfw2\\Abdullah_Gul\\Abdullah_Gul_0016.jpg</td>\n",
       "    </tr>\n",
       "    <tr>\n",
       "      <td>2</td>\n",
       "      <td>1</td>\n",
       "      <td>2</td>\n",
       "      <td>Abdullatif_Sener</td>\n",
       "      <td>None</td>\n",
       "      <td>..\\Data\\lfw2\\Abdullatif_Sener\\Abdullatif_Sener...</td>\n",
       "      <td>..\\Data\\lfw2\\Abdullatif_Sener\\Abdullatif_Sener...</td>\n",
       "    </tr>\n",
       "    <tr>\n",
       "      <td>3</td>\n",
       "      <td>1</td>\n",
       "      <td>3</td>\n",
       "      <td>Adel_Al-Jubeir</td>\n",
       "      <td>None</td>\n",
       "      <td>..\\Data\\lfw2\\Adel_Al-Jubeir\\Adel_Al-Jubeir_000...</td>\n",
       "      <td>..\\Data\\lfw2\\Adel_Al-Jubeir\\Adel_Al-Jubeir_000...</td>\n",
       "    </tr>\n",
       "    <tr>\n",
       "      <td>4</td>\n",
       "      <td>1</td>\n",
       "      <td>2</td>\n",
       "      <td>Al_Pacino</td>\n",
       "      <td>None</td>\n",
       "      <td>..\\Data\\lfw2\\Al_Pacino\\Al_Pacino_0001.jpg</td>\n",
       "      <td>..\\Data\\lfw2\\Al_Pacino\\Al_Pacino_0002.jpg</td>\n",
       "    </tr>\n",
       "  </tbody>\n",
       "</table>\n",
       "</div>"
      ],
      "text/plain": [
       "   pair_id_1  pair_id_2       pair_name_1 pair_name_2  \\\n",
       "0         13         14      Abdullah_Gul        None   \n",
       "1         13         16      Abdullah_Gul        None   \n",
       "2          1          2  Abdullatif_Sener        None   \n",
       "3          1          3    Adel_Al-Jubeir        None   \n",
       "4          1          2         Al_Pacino        None   \n",
       "\n",
       "                                      path_pair_id_1  \\\n",
       "0    ..\\Data\\lfw2\\Abdullah_Gul\\Abdullah_Gul_0013.jpg   \n",
       "1    ..\\Data\\lfw2\\Abdullah_Gul\\Abdullah_Gul_0013.jpg   \n",
       "2  ..\\Data\\lfw2\\Abdullatif_Sener\\Abdullatif_Sener...   \n",
       "3  ..\\Data\\lfw2\\Adel_Al-Jubeir\\Adel_Al-Jubeir_000...   \n",
       "4          ..\\Data\\lfw2\\Al_Pacino\\Al_Pacino_0001.jpg   \n",
       "\n",
       "                                      path_pair_id_2  \n",
       "0    ..\\Data\\lfw2\\Abdullah_Gul\\Abdullah_Gul_0014.jpg  \n",
       "1    ..\\Data\\lfw2\\Abdullah_Gul\\Abdullah_Gul_0016.jpg  \n",
       "2  ..\\Data\\lfw2\\Abdullatif_Sener\\Abdullatif_Sener...  \n",
       "3  ..\\Data\\lfw2\\Adel_Al-Jubeir\\Adel_Al-Jubeir_000...  \n",
       "4          ..\\Data\\lfw2\\Al_Pacino\\Al_Pacino_0002.jpg  "
      ]
     },
     "execution_count": 13,
     "metadata": {},
     "output_type": "execute_result"
    }
   ],
   "source": [
    "df_test.head()"
   ]
  },
  {
   "cell_type": "markdown",
   "metadata": {},
   "source": [
    "# Viola Jones"
   ]
  },
  {
   "cell_type": "code",
   "execution_count": 14,
   "metadata": {},
   "outputs": [],
   "source": [
    "def plot_rectangle(detected_faces, image, title='Image', cmap_type='gray', kwargs={'lw': 20.}):\n",
    "    # Create figure and axes\n",
    "    fig,ax = plt.subplots(1)\n",
    "    # Display the image\n",
    "    ax.imshow(image, cmap=cmap_type)\n",
    "    plt.title(title)\n",
    "    for (column, row, width, height) in detected_faces:\n",
    "        rect = Rectangle(\n",
    "                (column, row),\n",
    "                width = width,\n",
    "                height = height,\n",
    "                fill=False,\n",
    "                edgecolor='r',\n",
    "                \n",
    "                )\n",
    "        # Add the patch to the Axes\n",
    "        ax.add_patch(rect)\n",
    "#     plt.axis('off')\n",
    "    plt.show()"
   ]
  },
  {
   "cell_type": "code",
   "execution_count": 15,
   "metadata": {},
   "outputs": [],
   "source": [
    "def crop_image(original_image, column, row, width, height):\n",
    "    # the goal is crop the biggest area\n",
    "    return original_image[row:row+height, column:column + width]\n"
   ]
  },
  {
   "cell_type": "markdown",
   "metadata": {},
   "source": [
    "### Load the classifier and create a cascade object for face detection"
   ]
  },
  {
   "cell_type": "code",
   "execution_count": 16,
   "metadata": {},
   "outputs": [],
   "source": [
    "cascade_path = os.path.join('..', 'haarcascades', 'haarcascade_frontalface_alt.xml')\n",
    "face_cascade = cv2.CascadeClassifier(cascade_path)"
   ]
  },
  {
   "cell_type": "markdown",
   "metadata": {},
   "source": [
    "## Problem: what image to use?\n",
    "### Response: Use the biggest area"
   ]
  },
  {
   "cell_type": "code",
   "execution_count": 17,
   "metadata": {},
   "outputs": [],
   "source": [
    "def crop_biggest_area(original_image, detected_faces):\n",
    "    \n",
    "    # the goal is crop the biggest area\n",
    "    if len(detected_faces) == 0: # viola jones didnt recognize any face\n",
    "        return original_image, (None, None, original_image.shape[0], original_image.shape[1])\n",
    "    else:\n",
    "        # detected_faces returns: column, row, width, height\n",
    "        # So, assuming all width == height\n",
    "        # get np.argmax of height\n",
    "        id_max_max_width = np.argmax(detected_faces[:, -1])\n",
    "        column, row, width, height = detected_faces[id_max_max_width]\n",
    "        return crop_image(original_image, column, row, width, height), (column, row, width, height)"
   ]
  },
  {
   "cell_type": "markdown",
   "metadata": {},
   "source": [
    "## Problem: images with differents shapes\n",
    "### Response: Use the resize methods. So, cropped all images, then used resize methods to get a standard shape"
   ]
  },
  {
   "cell_type": "code",
   "execution_count": null,
   "metadata": {},
   "outputs": [],
   "source": []
  },
  {
   "cell_type": "markdown",
   "metadata": {},
   "source": [
    "### Update df_train and df_test"
   ]
  },
  {
   "cell_type": "code",
   "execution_count": 21,
   "metadata": {},
   "outputs": [],
   "source": [
    "df_train['path_pair_id_1_cropped'] = df_train['path_pair_id_1'].apply(lambda x: x.replace('lfw2', 'lfw2_cropped'))\n",
    "_ = df_train['path_pair_id_1_cropped'].apply(lambda x: None if os.path.isdir(os.path.split(x)[0]) else os.mkdir(os.path.split(x)[0]))\n",
    "\n",
    "df_train['path_pair_id_2_cropped'] = df_train['path_pair_id_2'].apply(lambda x: x.replace('lfw2', 'lfw2_cropped'))\n",
    "_ = df_train['path_pair_id_2_cropped'].apply(lambda x: None if os.path.isdir(os.path.split(x)[0]) else os.mkdir(os.path.split(x)[0]))"
   ]
  },
  {
   "cell_type": "code",
   "execution_count": 22,
   "metadata": {},
   "outputs": [],
   "source": [
    "df_test['path_pair_id_1_cropped'] = df_test['path_pair_id_1'].apply(lambda x: x.replace('lfw2', 'lfw2_cropped'))\n",
    "_ = df_test['path_pair_id_1_cropped'].apply(lambda x: None if os.path.isdir(os.path.split(x)[0]) else os.mkdir(os.path.split(x)[0]))\n",
    "\n",
    "df_test['path_pair_id_2_cropped'] = df_test['path_pair_id_2'].apply(lambda x: x.replace('lfw2', 'lfw2_cropped'))\n",
    "_ = df_test['path_pair_id_2_cropped'].apply(lambda x: None if os.path.isdir(os.path.split(x)[0]) else os.mkdir(os.path.split(x)[0]))"
   ]
  },
  {
   "cell_type": "code",
   "execution_count": 23,
   "metadata": {},
   "outputs": [
    {
     "data": {
      "text/html": [
       "<div>\n",
       "<style scoped>\n",
       "    .dataframe tbody tr th:only-of-type {\n",
       "        vertical-align: middle;\n",
       "    }\n",
       "\n",
       "    .dataframe tbody tr th {\n",
       "        vertical-align: top;\n",
       "    }\n",
       "\n",
       "    .dataframe thead th {\n",
       "        text-align: right;\n",
       "    }\n",
       "</style>\n",
       "<table border=\"1\" class=\"dataframe\">\n",
       "  <thead>\n",
       "    <tr style=\"text-align: right;\">\n",
       "      <th></th>\n",
       "      <th>pair_id_1</th>\n",
       "      <th>pair_id_2</th>\n",
       "      <th>pair_name_1</th>\n",
       "      <th>pair_name_2</th>\n",
       "      <th>path_pair_id_1</th>\n",
       "      <th>path_pair_id_2</th>\n",
       "      <th>path_pair_id_1_cropped</th>\n",
       "      <th>path_pair_id_2_cropped</th>\n",
       "    </tr>\n",
       "  </thead>\n",
       "  <tbody>\n",
       "    <tr>\n",
       "      <td>0</td>\n",
       "      <td>1</td>\n",
       "      <td>2</td>\n",
       "      <td>Aaron_Peirsol</td>\n",
       "      <td>None</td>\n",
       "      <td>..\\Data\\lfw2\\Aaron_Peirsol\\Aaron_Peirsol_0001.jpg</td>\n",
       "      <td>..\\Data\\lfw2\\Aaron_Peirsol\\Aaron_Peirsol_0002.jpg</td>\n",
       "      <td>..\\Data\\lfw2_cropped\\Aaron_Peirsol\\Aaron_Peirs...</td>\n",
       "      <td>..\\Data\\lfw2_cropped\\Aaron_Peirsol\\Aaron_Peirs...</td>\n",
       "    </tr>\n",
       "    <tr>\n",
       "      <td>1</td>\n",
       "      <td>3</td>\n",
       "      <td>4</td>\n",
       "      <td>Aaron_Peirsol</td>\n",
       "      <td>None</td>\n",
       "      <td>..\\Data\\lfw2\\Aaron_Peirsol\\Aaron_Peirsol_0003.jpg</td>\n",
       "      <td>..\\Data\\lfw2\\Aaron_Peirsol\\Aaron_Peirsol_0004.jpg</td>\n",
       "      <td>..\\Data\\lfw2_cropped\\Aaron_Peirsol\\Aaron_Peirs...</td>\n",
       "      <td>..\\Data\\lfw2_cropped\\Aaron_Peirsol\\Aaron_Peirs...</td>\n",
       "    </tr>\n",
       "    <tr>\n",
       "      <td>2</td>\n",
       "      <td>1</td>\n",
       "      <td>2</td>\n",
       "      <td>Aaron_Sorkin</td>\n",
       "      <td>None</td>\n",
       "      <td>..\\Data\\lfw2\\Aaron_Sorkin\\Aaron_Sorkin_0001.jpg</td>\n",
       "      <td>..\\Data\\lfw2\\Aaron_Sorkin\\Aaron_Sorkin_0002.jpg</td>\n",
       "      <td>..\\Data\\lfw2_cropped\\Aaron_Sorkin\\Aaron_Sorkin...</td>\n",
       "      <td>..\\Data\\lfw2_cropped\\Aaron_Sorkin\\Aaron_Sorkin...</td>\n",
       "    </tr>\n",
       "    <tr>\n",
       "      <td>3</td>\n",
       "      <td>1</td>\n",
       "      <td>2</td>\n",
       "      <td>Abdel_Nasser_Assidi</td>\n",
       "      <td>None</td>\n",
       "      <td>..\\Data\\lfw2\\Abdel_Nasser_Assidi\\Abdel_Nasser_...</td>\n",
       "      <td>..\\Data\\lfw2\\Abdel_Nasser_Assidi\\Abdel_Nasser_...</td>\n",
       "      <td>..\\Data\\lfw2_cropped\\Abdel_Nasser_Assidi\\Abdel...</td>\n",
       "      <td>..\\Data\\lfw2_cropped\\Abdel_Nasser_Assidi\\Abdel...</td>\n",
       "    </tr>\n",
       "    <tr>\n",
       "      <td>4</td>\n",
       "      <td>1</td>\n",
       "      <td>3</td>\n",
       "      <td>Abdullah</td>\n",
       "      <td>None</td>\n",
       "      <td>..\\Data\\lfw2\\Abdullah\\Abdullah_0001.jpg</td>\n",
       "      <td>..\\Data\\lfw2\\Abdullah\\Abdullah_0003.jpg</td>\n",
       "      <td>..\\Data\\lfw2_cropped\\Abdullah\\Abdullah_0001.jpg</td>\n",
       "      <td>..\\Data\\lfw2_cropped\\Abdullah\\Abdullah_0003.jpg</td>\n",
       "    </tr>\n",
       "  </tbody>\n",
       "</table>\n",
       "</div>"
      ],
      "text/plain": [
       "   pair_id_1  pair_id_2          pair_name_1 pair_name_2  \\\n",
       "0          1          2        Aaron_Peirsol        None   \n",
       "1          3          4        Aaron_Peirsol        None   \n",
       "2          1          2         Aaron_Sorkin        None   \n",
       "3          1          2  Abdel_Nasser_Assidi        None   \n",
       "4          1          3             Abdullah        None   \n",
       "\n",
       "                                      path_pair_id_1  \\\n",
       "0  ..\\Data\\lfw2\\Aaron_Peirsol\\Aaron_Peirsol_0001.jpg   \n",
       "1  ..\\Data\\lfw2\\Aaron_Peirsol\\Aaron_Peirsol_0003.jpg   \n",
       "2    ..\\Data\\lfw2\\Aaron_Sorkin\\Aaron_Sorkin_0001.jpg   \n",
       "3  ..\\Data\\lfw2\\Abdel_Nasser_Assidi\\Abdel_Nasser_...   \n",
       "4            ..\\Data\\lfw2\\Abdullah\\Abdullah_0001.jpg   \n",
       "\n",
       "                                      path_pair_id_2  \\\n",
       "0  ..\\Data\\lfw2\\Aaron_Peirsol\\Aaron_Peirsol_0002.jpg   \n",
       "1  ..\\Data\\lfw2\\Aaron_Peirsol\\Aaron_Peirsol_0004.jpg   \n",
       "2    ..\\Data\\lfw2\\Aaron_Sorkin\\Aaron_Sorkin_0002.jpg   \n",
       "3  ..\\Data\\lfw2\\Abdel_Nasser_Assidi\\Abdel_Nasser_...   \n",
       "4            ..\\Data\\lfw2\\Abdullah\\Abdullah_0003.jpg   \n",
       "\n",
       "                              path_pair_id_1_cropped  \\\n",
       "0  ..\\Data\\lfw2_cropped\\Aaron_Peirsol\\Aaron_Peirs...   \n",
       "1  ..\\Data\\lfw2_cropped\\Aaron_Peirsol\\Aaron_Peirs...   \n",
       "2  ..\\Data\\lfw2_cropped\\Aaron_Sorkin\\Aaron_Sorkin...   \n",
       "3  ..\\Data\\lfw2_cropped\\Abdel_Nasser_Assidi\\Abdel...   \n",
       "4    ..\\Data\\lfw2_cropped\\Abdullah\\Abdullah_0001.jpg   \n",
       "\n",
       "                              path_pair_id_2_cropped  \n",
       "0  ..\\Data\\lfw2_cropped\\Aaron_Peirsol\\Aaron_Peirs...  \n",
       "1  ..\\Data\\lfw2_cropped\\Aaron_Peirsol\\Aaron_Peirs...  \n",
       "2  ..\\Data\\lfw2_cropped\\Aaron_Sorkin\\Aaron_Sorkin...  \n",
       "3  ..\\Data\\lfw2_cropped\\Abdel_Nasser_Assidi\\Abdel...  \n",
       "4    ..\\Data\\lfw2_cropped\\Abdullah\\Abdullah_0003.jpg  "
      ]
     },
     "execution_count": 23,
     "metadata": {},
     "output_type": "execute_result"
    }
   ],
   "source": [
    "df_train.head()"
   ]
  },
  {
   "cell_type": "code",
   "execution_count": 24,
   "metadata": {},
   "outputs": [
    {
     "data": {
      "text/html": [
       "<div>\n",
       "<style scoped>\n",
       "    .dataframe tbody tr th:only-of-type {\n",
       "        vertical-align: middle;\n",
       "    }\n",
       "\n",
       "    .dataframe tbody tr th {\n",
       "        vertical-align: top;\n",
       "    }\n",
       "\n",
       "    .dataframe thead th {\n",
       "        text-align: right;\n",
       "    }\n",
       "</style>\n",
       "<table border=\"1\" class=\"dataframe\">\n",
       "  <thead>\n",
       "    <tr style=\"text-align: right;\">\n",
       "      <th></th>\n",
       "      <th>pair_id_1</th>\n",
       "      <th>pair_id_2</th>\n",
       "      <th>pair_name_1</th>\n",
       "      <th>pair_name_2</th>\n",
       "      <th>path_pair_id_1</th>\n",
       "      <th>path_pair_id_2</th>\n",
       "      <th>path_pair_id_1_cropped</th>\n",
       "      <th>path_pair_id_2_cropped</th>\n",
       "    </tr>\n",
       "  </thead>\n",
       "  <tbody>\n",
       "    <tr>\n",
       "      <td>0</td>\n",
       "      <td>13</td>\n",
       "      <td>14</td>\n",
       "      <td>Abdullah_Gul</td>\n",
       "      <td>None</td>\n",
       "      <td>..\\Data\\lfw2\\Abdullah_Gul\\Abdullah_Gul_0013.jpg</td>\n",
       "      <td>..\\Data\\lfw2\\Abdullah_Gul\\Abdullah_Gul_0014.jpg</td>\n",
       "      <td>..\\Data\\lfw2_cropped\\Abdullah_Gul\\Abdullah_Gul...</td>\n",
       "      <td>..\\Data\\lfw2_cropped\\Abdullah_Gul\\Abdullah_Gul...</td>\n",
       "    </tr>\n",
       "    <tr>\n",
       "      <td>1</td>\n",
       "      <td>13</td>\n",
       "      <td>16</td>\n",
       "      <td>Abdullah_Gul</td>\n",
       "      <td>None</td>\n",
       "      <td>..\\Data\\lfw2\\Abdullah_Gul\\Abdullah_Gul_0013.jpg</td>\n",
       "      <td>..\\Data\\lfw2\\Abdullah_Gul\\Abdullah_Gul_0016.jpg</td>\n",
       "      <td>..\\Data\\lfw2_cropped\\Abdullah_Gul\\Abdullah_Gul...</td>\n",
       "      <td>..\\Data\\lfw2_cropped\\Abdullah_Gul\\Abdullah_Gul...</td>\n",
       "    </tr>\n",
       "    <tr>\n",
       "      <td>2</td>\n",
       "      <td>1</td>\n",
       "      <td>2</td>\n",
       "      <td>Abdullatif_Sener</td>\n",
       "      <td>None</td>\n",
       "      <td>..\\Data\\lfw2\\Abdullatif_Sener\\Abdullatif_Sener...</td>\n",
       "      <td>..\\Data\\lfw2\\Abdullatif_Sener\\Abdullatif_Sener...</td>\n",
       "      <td>..\\Data\\lfw2_cropped\\Abdullatif_Sener\\Abdullat...</td>\n",
       "      <td>..\\Data\\lfw2_cropped\\Abdullatif_Sener\\Abdullat...</td>\n",
       "    </tr>\n",
       "    <tr>\n",
       "      <td>3</td>\n",
       "      <td>1</td>\n",
       "      <td>3</td>\n",
       "      <td>Adel_Al-Jubeir</td>\n",
       "      <td>None</td>\n",
       "      <td>..\\Data\\lfw2\\Adel_Al-Jubeir\\Adel_Al-Jubeir_000...</td>\n",
       "      <td>..\\Data\\lfw2\\Adel_Al-Jubeir\\Adel_Al-Jubeir_000...</td>\n",
       "      <td>..\\Data\\lfw2_cropped\\Adel_Al-Jubeir\\Adel_Al-Ju...</td>\n",
       "      <td>..\\Data\\lfw2_cropped\\Adel_Al-Jubeir\\Adel_Al-Ju...</td>\n",
       "    </tr>\n",
       "    <tr>\n",
       "      <td>4</td>\n",
       "      <td>1</td>\n",
       "      <td>2</td>\n",
       "      <td>Al_Pacino</td>\n",
       "      <td>None</td>\n",
       "      <td>..\\Data\\lfw2\\Al_Pacino\\Al_Pacino_0001.jpg</td>\n",
       "      <td>..\\Data\\lfw2\\Al_Pacino\\Al_Pacino_0002.jpg</td>\n",
       "      <td>..\\Data\\lfw2_cropped\\Al_Pacino\\Al_Pacino_0001.jpg</td>\n",
       "      <td>..\\Data\\lfw2_cropped\\Al_Pacino\\Al_Pacino_0002.jpg</td>\n",
       "    </tr>\n",
       "  </tbody>\n",
       "</table>\n",
       "</div>"
      ],
      "text/plain": [
       "   pair_id_1  pair_id_2       pair_name_1 pair_name_2  \\\n",
       "0         13         14      Abdullah_Gul        None   \n",
       "1         13         16      Abdullah_Gul        None   \n",
       "2          1          2  Abdullatif_Sener        None   \n",
       "3          1          3    Adel_Al-Jubeir        None   \n",
       "4          1          2         Al_Pacino        None   \n",
       "\n",
       "                                      path_pair_id_1  \\\n",
       "0    ..\\Data\\lfw2\\Abdullah_Gul\\Abdullah_Gul_0013.jpg   \n",
       "1    ..\\Data\\lfw2\\Abdullah_Gul\\Abdullah_Gul_0013.jpg   \n",
       "2  ..\\Data\\lfw2\\Abdullatif_Sener\\Abdullatif_Sener...   \n",
       "3  ..\\Data\\lfw2\\Adel_Al-Jubeir\\Adel_Al-Jubeir_000...   \n",
       "4          ..\\Data\\lfw2\\Al_Pacino\\Al_Pacino_0001.jpg   \n",
       "\n",
       "                                      path_pair_id_2  \\\n",
       "0    ..\\Data\\lfw2\\Abdullah_Gul\\Abdullah_Gul_0014.jpg   \n",
       "1    ..\\Data\\lfw2\\Abdullah_Gul\\Abdullah_Gul_0016.jpg   \n",
       "2  ..\\Data\\lfw2\\Abdullatif_Sener\\Abdullatif_Sener...   \n",
       "3  ..\\Data\\lfw2\\Adel_Al-Jubeir\\Adel_Al-Jubeir_000...   \n",
       "4          ..\\Data\\lfw2\\Al_Pacino\\Al_Pacino_0002.jpg   \n",
       "\n",
       "                              path_pair_id_1_cropped  \\\n",
       "0  ..\\Data\\lfw2_cropped\\Abdullah_Gul\\Abdullah_Gul...   \n",
       "1  ..\\Data\\lfw2_cropped\\Abdullah_Gul\\Abdullah_Gul...   \n",
       "2  ..\\Data\\lfw2_cropped\\Abdullatif_Sener\\Abdullat...   \n",
       "3  ..\\Data\\lfw2_cropped\\Adel_Al-Jubeir\\Adel_Al-Ju...   \n",
       "4  ..\\Data\\lfw2_cropped\\Al_Pacino\\Al_Pacino_0001.jpg   \n",
       "\n",
       "                              path_pair_id_2_cropped  \n",
       "0  ..\\Data\\lfw2_cropped\\Abdullah_Gul\\Abdullah_Gul...  \n",
       "1  ..\\Data\\lfw2_cropped\\Abdullah_Gul\\Abdullah_Gul...  \n",
       "2  ..\\Data\\lfw2_cropped\\Abdullatif_Sener\\Abdullat...  \n",
       "3  ..\\Data\\lfw2_cropped\\Adel_Al-Jubeir\\Adel_Al-Ju...  \n",
       "4  ..\\Data\\lfw2_cropped\\Al_Pacino\\Al_Pacino_0002.jpg  "
      ]
     },
     "execution_count": 24,
     "metadata": {},
     "output_type": "execute_result"
    }
   ],
   "source": [
    "df_test.head()"
   ]
  },
  {
   "cell_type": "code",
   "execution_count": null,
   "metadata": {},
   "outputs": [],
   "source": []
  },
  {
   "cell_type": "markdown",
   "metadata": {},
   "source": [
    "# Experiments\n",
    "\n",
    "    1- Viola Jones\n",
    "    2- Resize = 64x128\n",
    "    3- Create pair and Concatenate\n",
    "        3.2- Flatten\n",
    "    4- ICA -> ica.fit_transform() -> data train \n",
    "        4.2- process to rollback (for ilustration) -> ica.inverse_transform() and reshape()\n",
    "    5- Classifiers\n",
    "    "
   ]
  },
  {
   "cell_type": "markdown",
   "metadata": {},
   "source": [
    "### Steps 1 and 2"
   ]
  },
  {
   "cell_type": "code",
   "execution_count": null,
   "metadata": {},
   "outputs": [],
   "source": [
    "def preprocessing(path_image, path_to_save, dim=(100, 100)):\n",
    "    original_image = open_img(path_image, color=0)\n",
    "    grayscale_image = original_image.copy()\n",
    "    detected_faces = face_cascade.detectMultiScale(grayscale_image)\n",
    "    cropped_image, (column, row, width, height) = crop_biggest_area(original_image, detected_faces)\n",
    "    resized = cv2.resize(cropped_image, dim, interpolation = cv2.INTER_AREA)\n",
    "    save_img(path_img=path_to_save, img=resized)\n",
    "    return (column, row, width, height)"
   ]
  },
  {
   "cell_type": "markdown",
   "metadata": {},
   "source": [
    "### get dimensions VJ and apply pre-processing"
   ]
  },
  {
   "cell_type": "code",
   "execution_count": null,
   "metadata": {},
   "outputs": [],
   "source": [
    "df_train['VJ_pair_id_1'] = df_train.apply(lambda x: preprocessing(path_image=x['path_pair_id_1'], path_to_save=x['path_pair_id_1_cropped'], dim=(64,128)), axis=1)\n",
    "df_train['VJ_pair_id_2'] = df_train.apply(lambda x: preprocessing(path_image=x['path_pair_id_2'], path_to_save=x['path_pair_id_2_cropped'], dim=(64,128)), axis=1)\n",
    "\n",
    "df_test['VJ_pair_id_1'] = df_test.apply(lambda x: preprocessing(path_image=x['path_pair_id_1'], path_to_save=x['path_pair_id_1_cropped'], dim=(64,128)), axis=1)\n",
    "df_test['VJ_pair_id_2'] = df_test.apply(lambda x: preprocessing(path_image=x['path_pair_id_2'], path_to_save=x['path_pair_id_2_cropped'], dim=(64,128)), axis=1)"
   ]
  },
  {
   "cell_type": "code",
   "execution_count": 25,
   "metadata": {},
   "outputs": [
    {
     "data": {
      "text/html": [
       "<div>\n",
       "<style scoped>\n",
       "    .dataframe tbody tr th:only-of-type {\n",
       "        vertical-align: middle;\n",
       "    }\n",
       "\n",
       "    .dataframe tbody tr th {\n",
       "        vertical-align: top;\n",
       "    }\n",
       "\n",
       "    .dataframe thead th {\n",
       "        text-align: right;\n",
       "    }\n",
       "</style>\n",
       "<table border=\"1\" class=\"dataframe\">\n",
       "  <thead>\n",
       "    <tr style=\"text-align: right;\">\n",
       "      <th></th>\n",
       "      <th>pair_id_1</th>\n",
       "      <th>pair_id_2</th>\n",
       "      <th>pair_name_1</th>\n",
       "      <th>pair_name_2</th>\n",
       "      <th>path_pair_id_1</th>\n",
       "      <th>path_pair_id_2</th>\n",
       "      <th>path_pair_id_1_cropped</th>\n",
       "      <th>path_pair_id_2_cropped</th>\n",
       "    </tr>\n",
       "  </thead>\n",
       "  <tbody>\n",
       "    <tr>\n",
       "      <td>0</td>\n",
       "      <td>1</td>\n",
       "      <td>2</td>\n",
       "      <td>Aaron_Peirsol</td>\n",
       "      <td>None</td>\n",
       "      <td>..\\Data\\lfw2\\Aaron_Peirsol\\Aaron_Peirsol_0001.jpg</td>\n",
       "      <td>..\\Data\\lfw2\\Aaron_Peirsol\\Aaron_Peirsol_0002.jpg</td>\n",
       "      <td>..\\Data\\lfw2_cropped\\Aaron_Peirsol\\Aaron_Peirs...</td>\n",
       "      <td>..\\Data\\lfw2_cropped\\Aaron_Peirsol\\Aaron_Peirs...</td>\n",
       "    </tr>\n",
       "    <tr>\n",
       "      <td>1</td>\n",
       "      <td>3</td>\n",
       "      <td>4</td>\n",
       "      <td>Aaron_Peirsol</td>\n",
       "      <td>None</td>\n",
       "      <td>..\\Data\\lfw2\\Aaron_Peirsol\\Aaron_Peirsol_0003.jpg</td>\n",
       "      <td>..\\Data\\lfw2\\Aaron_Peirsol\\Aaron_Peirsol_0004.jpg</td>\n",
       "      <td>..\\Data\\lfw2_cropped\\Aaron_Peirsol\\Aaron_Peirs...</td>\n",
       "      <td>..\\Data\\lfw2_cropped\\Aaron_Peirsol\\Aaron_Peirs...</td>\n",
       "    </tr>\n",
       "    <tr>\n",
       "      <td>2</td>\n",
       "      <td>1</td>\n",
       "      <td>2</td>\n",
       "      <td>Aaron_Sorkin</td>\n",
       "      <td>None</td>\n",
       "      <td>..\\Data\\lfw2\\Aaron_Sorkin\\Aaron_Sorkin_0001.jpg</td>\n",
       "      <td>..\\Data\\lfw2\\Aaron_Sorkin\\Aaron_Sorkin_0002.jpg</td>\n",
       "      <td>..\\Data\\lfw2_cropped\\Aaron_Sorkin\\Aaron_Sorkin...</td>\n",
       "      <td>..\\Data\\lfw2_cropped\\Aaron_Sorkin\\Aaron_Sorkin...</td>\n",
       "    </tr>\n",
       "    <tr>\n",
       "      <td>3</td>\n",
       "      <td>1</td>\n",
       "      <td>2</td>\n",
       "      <td>Abdel_Nasser_Assidi</td>\n",
       "      <td>None</td>\n",
       "      <td>..\\Data\\lfw2\\Abdel_Nasser_Assidi\\Abdel_Nasser_...</td>\n",
       "      <td>..\\Data\\lfw2\\Abdel_Nasser_Assidi\\Abdel_Nasser_...</td>\n",
       "      <td>..\\Data\\lfw2_cropped\\Abdel_Nasser_Assidi\\Abdel...</td>\n",
       "      <td>..\\Data\\lfw2_cropped\\Abdel_Nasser_Assidi\\Abdel...</td>\n",
       "    </tr>\n",
       "    <tr>\n",
       "      <td>4</td>\n",
       "      <td>1</td>\n",
       "      <td>3</td>\n",
       "      <td>Abdullah</td>\n",
       "      <td>None</td>\n",
       "      <td>..\\Data\\lfw2\\Abdullah\\Abdullah_0001.jpg</td>\n",
       "      <td>..\\Data\\lfw2\\Abdullah\\Abdullah_0003.jpg</td>\n",
       "      <td>..\\Data\\lfw2_cropped\\Abdullah\\Abdullah_0001.jpg</td>\n",
       "      <td>..\\Data\\lfw2_cropped\\Abdullah\\Abdullah_0003.jpg</td>\n",
       "    </tr>\n",
       "  </tbody>\n",
       "</table>\n",
       "</div>"
      ],
      "text/plain": [
       "   pair_id_1  pair_id_2          pair_name_1 pair_name_2  \\\n",
       "0          1          2        Aaron_Peirsol        None   \n",
       "1          3          4        Aaron_Peirsol        None   \n",
       "2          1          2         Aaron_Sorkin        None   \n",
       "3          1          2  Abdel_Nasser_Assidi        None   \n",
       "4          1          3             Abdullah        None   \n",
       "\n",
       "                                      path_pair_id_1  \\\n",
       "0  ..\\Data\\lfw2\\Aaron_Peirsol\\Aaron_Peirsol_0001.jpg   \n",
       "1  ..\\Data\\lfw2\\Aaron_Peirsol\\Aaron_Peirsol_0003.jpg   \n",
       "2    ..\\Data\\lfw2\\Aaron_Sorkin\\Aaron_Sorkin_0001.jpg   \n",
       "3  ..\\Data\\lfw2\\Abdel_Nasser_Assidi\\Abdel_Nasser_...   \n",
       "4            ..\\Data\\lfw2\\Abdullah\\Abdullah_0001.jpg   \n",
       "\n",
       "                                      path_pair_id_2  \\\n",
       "0  ..\\Data\\lfw2\\Aaron_Peirsol\\Aaron_Peirsol_0002.jpg   \n",
       "1  ..\\Data\\lfw2\\Aaron_Peirsol\\Aaron_Peirsol_0004.jpg   \n",
       "2    ..\\Data\\lfw2\\Aaron_Sorkin\\Aaron_Sorkin_0002.jpg   \n",
       "3  ..\\Data\\lfw2\\Abdel_Nasser_Assidi\\Abdel_Nasser_...   \n",
       "4            ..\\Data\\lfw2\\Abdullah\\Abdullah_0003.jpg   \n",
       "\n",
       "                              path_pair_id_1_cropped  \\\n",
       "0  ..\\Data\\lfw2_cropped\\Aaron_Peirsol\\Aaron_Peirs...   \n",
       "1  ..\\Data\\lfw2_cropped\\Aaron_Peirsol\\Aaron_Peirs...   \n",
       "2  ..\\Data\\lfw2_cropped\\Aaron_Sorkin\\Aaron_Sorkin...   \n",
       "3  ..\\Data\\lfw2_cropped\\Abdel_Nasser_Assidi\\Abdel...   \n",
       "4    ..\\Data\\lfw2_cropped\\Abdullah\\Abdullah_0001.jpg   \n",
       "\n",
       "                              path_pair_id_2_cropped  \n",
       "0  ..\\Data\\lfw2_cropped\\Aaron_Peirsol\\Aaron_Peirs...  \n",
       "1  ..\\Data\\lfw2_cropped\\Aaron_Peirsol\\Aaron_Peirs...  \n",
       "2  ..\\Data\\lfw2_cropped\\Aaron_Sorkin\\Aaron_Sorkin...  \n",
       "3  ..\\Data\\lfw2_cropped\\Abdel_Nasser_Assidi\\Abdel...  \n",
       "4    ..\\Data\\lfw2_cropped\\Abdullah\\Abdullah_0003.jpg  "
      ]
     },
     "execution_count": 25,
     "metadata": {},
     "output_type": "execute_result"
    }
   ],
   "source": [
    "df_train.head()"
   ]
  },
  {
   "cell_type": "code",
   "execution_count": 26,
   "metadata": {},
   "outputs": [
    {
     "name": "stdout",
     "output_type": "stream",
     "text": [
      "(128, 64)\n"
     ]
    },
    {
     "data": {
      "image/png": "[encoded data removed]",
      "text/plain": [
       "<Figure size 432x288 with 1 Axes>"
      ]
     },
     "metadata": {},
     "output_type": "display_data"
    }
   ],
   "source": [
    "test_img = open_img(df_train.loc[0, 'path_pair_id_1_cropped'])\n",
    "print(test_img.shape)\n",
    "plt_img(test_img)"
   ]
  },
  {
   "cell_type": "code",
   "execution_count": 107,
   "metadata": {},
   "outputs": [
    {
     "name": "stdout",
     "output_type": "stream",
     "text": [
      "(128, 64)\n"
     ]
    },
    {
     "data": {
      "image/png": "[encoded data removed]",
      "text/plain": [
       "<Figure size 432x288 with 1 Axes>"
      ]
     },
     "metadata": {},
     "output_type": "display_data"
    }
   ],
   "source": [
    "test_img = open_img(df_train.loc[0, 'path_pair_id_2_cropped'])\n",
    "print(test_img.shape)\n",
    "plt_img(test_img)"
   ]
  },
  {
   "cell_type": "markdown",
   "metadata": {},
   "source": [
    "## Step: 3- Create pair and Concatenate"
   ]
  },
  {
   "cell_type": "markdown",
   "metadata": {},
   "source": [
    "### Create pair"
   ]
  },
  {
   "cell_type": "code",
   "execution_count": 148,
   "metadata": {},
   "outputs": [
    {
     "name": "stdout",
     "output_type": "stream",
     "text": [
      "(2200, 128, 64)\n",
      "(2200, 128, 64)\n"
     ]
    }
   ],
   "source": [
    "X_train_1 = np.array([open_img(img_1) for img_1 in df_train.loc[:,'path_pair_id_1_cropped'].values])\n",
    "X_train_2 = np.array([open_img(img_2) for img_2 in df_train.loc[:,'path_pair_id_2_cropped'].values])\n",
    "\n",
    "print(X_train_1.shape)\n",
    "print(X_train_2.shape)"
   ]
  },
  {
   "cell_type": "code",
   "execution_count": 149,
   "metadata": {},
   "outputs": [],
   "source": [
    "y_train = np.array([[1 if par==None else 0 for par in df_train.loc[:,'pair_name_2'].values]]).T"
   ]
  },
  {
   "cell_type": "code",
   "execution_count": 150,
   "metadata": {},
   "outputs": [
    {
     "name": "stdout",
     "output_type": "stream",
     "text": [
      "(1000, 128, 64)\n",
      "(1000, 128, 64)\n"
     ]
    }
   ],
   "source": [
    "X_test_1 = np.array([open_img(img_1) for img_1 in df_test.loc[:,'path_pair_id_1_cropped'].values])\n",
    "X_test_2 = np.array([open_img(img_2) for img_2 in df_test.loc[:,'path_pair_id_2_cropped'].values])\n",
    "\n",
    "print(X_test_1.shape)\n",
    "print(X_test_2.shape)"
   ]
  },
  {
   "cell_type": "code",
   "execution_count": 151,
   "metadata": {},
   "outputs": [],
   "source": [
    "y_test = np.array([[1 if par==None else 0 for par in df_test.loc[:,'pair_name_2'].values]]).T"
   ]
  },
  {
   "cell_type": "markdown",
   "metadata": {},
   "source": [
    "### Concatenate pair"
   ]
  },
  {
   "cell_type": "code",
   "execution_count": 152,
   "metadata": {},
   "outputs": [
    {
     "data": {
      "text/plain": [
       "(2200, 256, 64)"
      ]
     },
     "execution_count": 152,
     "metadata": {},
     "output_type": "execute_result"
    }
   ],
   "source": [
    "X_train = np.append(X_train_1, X_train_2, axis=1)\n",
    "X_train.shape"
   ]
  },
  {
   "cell_type": "code",
   "execution_count": 153,
   "metadata": {},
   "outputs": [
    {
     "data": {
      "text/plain": [
       "(1000, 256, 64)"
      ]
     },
     "execution_count": 153,
     "metadata": {},
     "output_type": "execute_result"
    }
   ],
   "source": [
    "X_test = np.append(X_test_1, X_test_2, axis=1)\n",
    "X_test.shape"
   ]
  },
  {
   "cell_type": "code",
   "execution_count": 154,
   "metadata": {},
   "outputs": [
    {
     "data": {
      "text/plain": [
       "(256, 64)"
      ]
     },
     "execution_count": 154,
     "metadata": {},
     "output_type": "execute_result"
    }
   ],
   "source": [
    "concatenated_pair_shape = X_train[0].shape\n",
    "concatenated_pair_shape"
   ]
  },
  {
   "cell_type": "code",
   "execution_count": 157,
   "metadata": {},
   "outputs": [
    {
     "data": {
      "image/png": "[encoded data removed]",
      "text/plain": [
       "<Figure size 432x288 with 1 Axes>"
      ]
     },
     "metadata": {},
     "output_type": "display_data"
    }
   ],
   "source": [
    "plt_img(X_train[0]) # train: instance 1: path_pair_id_1_cropped and path_pair_id_2_cropped"
   ]
  },
  {
   "cell_type": "code",
   "execution_count": 156,
   "metadata": {},
   "outputs": [
    {
     "data": {
      "image/png": "[encoded data removed]",
      "text/plain": [
       "<Figure size 432x288 with 1 Axes>"
      ]
     },
     "metadata": {},
     "output_type": "display_data"
    }
   ],
   "source": [
    "plt_img(X_test[0]) # test: instance 1: path_pair_id_1_cropped and path_pair_id_2_cropped"
   ]
  },
  {
   "cell_type": "markdown",
   "metadata": {},
   "source": [
    "## Step: 3.2 - Flatten"
   ]
  },
  {
   "cell_type": "code",
   "execution_count": 158,
   "metadata": {},
   "outputs": [
    {
     "name": "stdout",
     "output_type": "stream",
     "text": [
      "(2200, 8192)\n",
      "(2200, 8192)\n"
     ]
    }
   ],
   "source": [
    "X_train_1_flatten = np.array([open_img(img_1).flatten() for img_1 in df_train.loc[:,'path_pair_id_1_cropped'].values])\n",
    "X_train_2_flatten = np.array([open_img(img_2).flatten() for img_2 in df_train.loc[:,'path_pair_id_2_cropped'].values])\n",
    "\n",
    "print(X_train_1_flatten.shape)\n",
    "print(X_train_2_flatten.shape)"
   ]
  },
  {
   "cell_type": "code",
   "execution_count": 159,
   "metadata": {},
   "outputs": [
    {
     "data": {
      "text/plain": [
       "(2200, 16384)"
      ]
     },
     "execution_count": 159,
     "metadata": {},
     "output_type": "execute_result"
    }
   ],
   "source": [
    "X_train_flatten = np.append(X_train_1_flatten, X_train_2_flatten, axis=1)\n",
    "X_train_flatten.shape"
   ]
  },
  {
   "cell_type": "code",
   "execution_count": 160,
   "metadata": {},
   "outputs": [
    {
     "name": "stdout",
     "output_type": "stream",
     "text": [
      "(1000, 8192)\n",
      "(1000, 8192)\n"
     ]
    }
   ],
   "source": [
    "X_test_1_flatten = np.array([open_img(img_1).flatten() for img_1 in df_test.loc[:,'path_pair_id_1_cropped'].values])\n",
    "X_test_2_flatten = np.array([open_img(img_2).flatten() for img_2 in df_test.loc[:,'path_pair_id_2_cropped'].values])\n",
    "\n",
    "print(X_test_1_flatten.shape)\n",
    "print(X_test_2_flatten.shape)"
   ]
  },
  {
   "cell_type": "code",
   "execution_count": 164,
   "metadata": {},
   "outputs": [
    {
     "data": {
      "text/plain": [
       "(1000, 16384)"
      ]
     },
     "execution_count": 164,
     "metadata": {},
     "output_type": "execute_result"
    }
   ],
   "source": [
    "X_test_flatten = np.append(X_test_1_flatten, X_test_2_flatten, axis=1)\n",
    "X_test_flatten.shape"
   ]
  },
  {
   "cell_type": "markdown",
   "metadata": {},
   "source": [
    "### Step 4: ICA"
   ]
  },
  {
   "cell_type": "code",
   "execution_count": 161,
   "metadata": {},
   "outputs": [],
   "source": [
    "from sklearn.decomposition import FastICA"
   ]
  },
  {
   "cell_type": "code",
   "execution_count": 162,
   "metadata": {},
   "outputs": [],
   "source": [
    "ica = FastICA(n_components = 100)"
   ]
  },
  {
   "cell_type": "code",
   "execution_count": 163,
   "metadata": {},
   "outputs": [
    {
     "name": "stdout",
     "output_type": "stream",
     "text": [
      "(2200, 100)\n"
     ]
    }
   ],
   "source": [
    "X_train_flatten_ICA = ica.fit_transform(X_train_flatten) # train data\n",
    "print(X_train_flatten_ICA.shape)"
   ]
  },
  {
   "cell_type": "code",
   "execution_count": 165,
   "metadata": {},
   "outputs": [
    {
     "name": "stdout",
     "output_type": "stream",
     "text": [
      "(1000, 100)\n"
     ]
    }
   ],
   "source": [
    "X_test_flatten_ICA = ica.transform(X_test_flatten) # test data\n",
    "print(X_test_flatten_ICA.shape)"
   ]
  },
  {
   "cell_type": "markdown",
   "metadata": {},
   "source": [
    "## Step: 4.2- process to rollback (for ilustration)"
   ]
  },
  {
   "cell_type": "code",
   "execution_count": 140,
   "metadata": {},
   "outputs": [
    {
     "data": {
      "text/plain": [
       "(2200, 16384)"
      ]
     },
     "execution_count": 140,
     "metadata": {},
     "output_type": "execute_result"
    }
   ],
   "source": [
    "X_train_flatten_ICA_restored = ica.inverse_transform(X_train_flatten_ICA)\n",
    "X_train_flatten_ICA_restored.shape"
   ]
  },
  {
   "cell_type": "code",
   "execution_count": 166,
   "metadata": {},
   "outputs": [
    {
     "data": {
      "text/plain": [
       "(1000, 16384)"
      ]
     },
     "execution_count": 166,
     "metadata": {},
     "output_type": "execute_result"
    }
   ],
   "source": [
    "X_test_flatten_ICA_restored = ica.inverse_transform(X_test_flatten_ICA)\n",
    "X_test_flatten_ICA_restored.shape"
   ]
  },
  {
   "cell_type": "markdown",
   "metadata": {},
   "source": [
    "### reshape"
   ]
  },
  {
   "cell_type": "code",
   "execution_count": 141,
   "metadata": {},
   "outputs": [
    {
     "data": {
      "text/plain": [
       "(2200, 256, 64)"
      ]
     },
     "execution_count": 141,
     "metadata": {},
     "output_type": "execute_result"
    }
   ],
   "source": [
    "X_train_ICA_restored_reshape = np.array([pair.reshape((concatenated_pair_shape)) for pair in X_train_flatten_ICA_restored])\n",
    "X_train_ICA_restored_reshape.shape"
   ]
  },
  {
   "cell_type": "code",
   "execution_count": 167,
   "metadata": {},
   "outputs": [
    {
     "data": {
      "text/plain": [
       "(1000, 256, 64)"
      ]
     },
     "execution_count": 167,
     "metadata": {},
     "output_type": "execute_result"
    }
   ],
   "source": [
    "X_test_ICA_restored_reshape = np.array([pair.reshape((concatenated_pair_shape)) for pair in X_test_flatten_ICA_restored])\n",
    "X_test_ICA_restored_reshape.shape"
   ]
  },
  {
   "cell_type": "code",
   "execution_count": 143,
   "metadata": {},
   "outputs": [
    {
     "data": {
      "image/png": "[encoded data removed]",
      "text/plain": [
       "<Figure size 432x288 with 1 Axes>"
      ]
     },
     "metadata": {},
     "output_type": "display_data"
    }
   ],
   "source": [
    "plt_img(X_train_ICA_restored_reshape[0], normalize=True) # restore train instance 1: path_pair_id_1_cropped and path_pair_id_2_cropped"
   ]
  },
  {
   "cell_type": "code",
   "execution_count": 168,
   "metadata": {},
   "outputs": [
    {
     "data": {
      "image/png": "[encoded data removed]",
      "text/plain": [
       "<Figure size 432x288 with 1 Axes>"
      ]
     },
     "metadata": {},
     "output_type": "display_data"
    }
   ],
   "source": [
    "plt_img(X_test_ICA_restored_reshape[0], normalize=True) # restore test instance 1: path_pair_id_1_cropped and path_pair_id_2_cropped"
   ]
  },
  {
   "cell_type": "code",
   "execution_count": null,
   "metadata": {},
   "outputs": [],
   "source": []
  },
  {
   "cell_type": "code",
   "execution_count": null,
   "metadata": {},
   "outputs": [],
   "source": []
  },
  {
   "cell_type": "markdown",
   "metadata": {},
   "source": [
    "### shuffle data"
   ]
  },
  {
   "cell_type": "code",
   "execution_count": null,
   "metadata": {},
   "outputs": [],
   "source": [
    "arr = np.arange(y_train.shape[0])\n",
    "np.random.shuffle(arr)\n",
    "X = X_train_PCA[arr]\n",
    "y_d = y_train[arr]"
   ]
  },
  {
   "cell_type": "code",
   "execution_count": null,
   "metadata": {
    "scrolled": true
   },
   "outputs": [],
   "source": [
    "print(X.shape)\n",
    "print(y_d.shape)"
   ]
  },
  {
   "cell_type": "markdown",
   "metadata": {},
   "source": [
    "## Grid SVM"
   ]
  },
  {
   "cell_type": "code",
   "execution_count": 169,
   "metadata": {},
   "outputs": [],
   "source": [
    "from sklearn.svm import SVC\n",
    "from sklearn.neural_network import MLPClassifier\n",
    "from sklearn.model_selection import GridSearchCV\n",
    "from sklearn.metrics import accuracy_score\n"
   ]
  },
  {
   "cell_type": "code",
   "execution_count": 170,
   "metadata": {
    "scrolled": true
   },
   "outputs": [
    {
     "name": "stdout",
     "output_type": "stream",
     "text": [
      "Fitting 5 folds for each of 4 candidates, totalling 20 fits\n"
     ]
    },
    {
     "name": "stderr",
     "output_type": "stream",
     "text": [
      "[Parallel(n_jobs=-1)]: Using backend LokyBackend with 4 concurrent workers.\n",
      "[Parallel(n_jobs=-1)]: Done   5 tasks      | elapsed:    5.0s\n",
      "[Parallel(n_jobs=-1)]: Done  10 tasks      | elapsed:    6.0s\n",
      "[Parallel(n_jobs=-1)]: Done  16 out of  20 | elapsed:    6.9s remaining:    1.7s\n",
      "[Parallel(n_jobs=-1)]: Done  20 out of  20 | elapsed:    7.9s finished\n",
      "C:\\Users\\Rodolfo\\AppData\\Roaming\\Python\\Python36\\site-packages\\sklearn\\utils\\validation.py:760: DataConversionWarning: A column-vector y was passed when a 1d array was expected. Please change the shape of y to (n_samples, ), for example using ravel().\n",
      "  y = column_or_1d(y, warn=True)\n"
     ]
    },
    {
     "data": {
      "text/plain": [
       "GridSearchCV(cv=None, error_score=nan,\n",
       "             estimator=SVC(C=1.0, break_ties=False, cache_size=200,\n",
       "                           class_weight=None, coef0=0.0,\n",
       "                           decision_function_shape='ovr', degree=3,\n",
       "                           gamma='scale', kernel='rbf', max_iter=-1,\n",
       "                           probability=False, random_state=None, shrinking=True,\n",
       "                           tol=0.001, verbose=False),\n",
       "             iid='deprecated', n_jobs=-1,\n",
       "             param_grid=[{'C': [1, 5], 'degree': array([1, 3]),\n",
       "                          'kernel': ['poly']}],\n",
       "             pre_dispatch='2*n_jobs', refit=True, return_train_score=False,\n",
       "             scoring='accuracy', verbose=10)"
      ]
     },
     "execution_count": 170,
     "metadata": {},
     "output_type": "execute_result"
    }
   ],
   "source": [
    "param_grid = [\n",
    "  {'C': [1, 5], 'degree': np.arange(1, 5, 2), 'kernel': ['poly']}\n",
    " ]\n",
    "grid = GridSearchCV(SVC(), scoring='accuracy', n_jobs=-1, param_grid=param_grid, verbose=10)\n",
    "grid.fit(X=X_train_flatten_ICA, y=y_train)"
   ]
  },
  {
   "cell_type": "code",
   "execution_count": 171,
   "metadata": {},
   "outputs": [
    {
     "data": {
      "text/plain": [
       "0.5522727272727272"
      ]
     },
     "execution_count": 171,
     "metadata": {},
     "output_type": "execute_result"
    }
   ],
   "source": [
    "grid.best_score_"
   ]
  },
  {
   "cell_type": "code",
   "execution_count": 172,
   "metadata": {},
   "outputs": [
    {
     "data": {
      "text/plain": [
       "{'C': 1, 'degree': 3, 'kernel': 'poly'}"
      ]
     },
     "execution_count": 172,
     "metadata": {},
     "output_type": "execute_result"
    }
   ],
   "source": [
    "grid.best_params_"
   ]
  },
  {
   "cell_type": "code",
   "execution_count": 173,
   "metadata": {},
   "outputs": [],
   "source": [
    "clf_best = grid.best_estimator_"
   ]
  },
  {
   "cell_type": "code",
   "execution_count": 174,
   "metadata": {},
   "outputs": [
    {
     "data": {
      "text/plain": [
       "SVC(C=1, break_ties=False, cache_size=200, class_weight=None, coef0=0.0,\n",
       "    decision_function_shape='ovr', degree=3, gamma='scale', kernel='poly',\n",
       "    max_iter=-1, probability=False, random_state=None, shrinking=True,\n",
       "    tol=0.001, verbose=False)"
      ]
     },
     "execution_count": 174,
     "metadata": {},
     "output_type": "execute_result"
    }
   ],
   "source": [
    "clf_best"
   ]
  },
  {
   "cell_type": "code",
   "execution_count": 176,
   "metadata": {},
   "outputs": [
    {
     "name": "stderr",
     "output_type": "stream",
     "text": [
      "C:\\Users\\Rodolfo\\AppData\\Roaming\\Python\\Python36\\site-packages\\sklearn\\utils\\validation.py:760: DataConversionWarning: A column-vector y was passed when a 1d array was expected. Please change the shape of y to (n_samples, ), for example using ravel().\n",
      "  y = column_or_1d(y, warn=True)\n"
     ]
    },
    {
     "data": {
      "text/plain": [
       "SVC(C=1, break_ties=False, cache_size=200, class_weight=None, coef0=0.0,\n",
       "    decision_function_shape='ovr', degree=3, gamma='scale', kernel='poly',\n",
       "    max_iter=-1, probability=False, random_state=None, shrinking=True,\n",
       "    tol=0.001, verbose=False)"
      ]
     },
     "execution_count": 176,
     "metadata": {},
     "output_type": "execute_result"
    }
   ],
   "source": [
    "clf_best.fit(X=X_train_flatten_ICA, y=y_train)"
   ]
  },
  {
   "cell_type": "code",
   "execution_count": 177,
   "metadata": {},
   "outputs": [],
   "source": [
    "y_pred_test = clf_best.predict(X_test_flatten_ICA)"
   ]
  },
  {
   "cell_type": "code",
   "execution_count": 178,
   "metadata": {},
   "outputs": [
    {
     "data": {
      "text/plain": [
       "0.557"
      ]
     },
     "execution_count": 178,
     "metadata": {},
     "output_type": "execute_result"
    }
   ],
   "source": [
    "accuracy_score(y_true=y_test, y_pred=y_pred_test)"
   ]
  },
  {
   "cell_type": "code",
   "execution_count": 179,
   "metadata": {},
   "outputs": [
    {
     "data": {
      "text/plain": [
       "array([0, 0, 0, 1, 1, 1, 0, 1, 0, 1, 0, 1, 1, 1, 1, 1, 1, 1, 1, 1, 0, 1,\n",
       "       1, 1, 1, 0, 0, 0, 1, 1, 0, 1, 1, 1, 1, 0, 1, 1, 1, 0, 1, 1, 1, 1,\n",
       "       1, 0, 1, 1, 0, 0, 1, 1, 1, 1, 1, 1, 1, 1, 1, 0, 0, 0, 1, 1, 1, 1,\n",
       "       1, 0, 1, 1, 1, 0, 0, 1, 1, 0, 1, 1, 1, 1, 1, 1, 1, 1, 0, 1, 1, 1,\n",
       "       1, 1, 0, 1, 0, 1, 1, 0, 1, 1, 1, 0, 1, 1, 1, 1, 1, 0, 1, 1, 1, 0,\n",
       "       1, 1, 1, 1, 1, 1, 1, 0, 1, 1, 1, 1, 1, 1, 1, 1, 1, 0, 0, 1, 1, 1,\n",
       "       1, 1, 0, 1, 1, 1, 1, 1, 0, 0, 1, 1, 1, 1, 1, 0, 1, 1, 1, 0, 1, 0,\n",
       "       1, 0, 1, 1, 1, 1, 0, 1, 1, 1, 1, 0, 1, 1, 0, 0, 1, 1, 0, 0, 0, 0,\n",
       "       1, 1, 1, 1, 0, 1, 1, 1, 0, 0, 1, 1, 0, 1, 0, 1, 1, 1, 1, 1, 1, 0,\n",
       "       0, 1, 1, 0, 0, 1, 1, 0, 0, 1, 0, 0, 1, 1, 1, 0, 1, 1, 1, 0, 1, 1,\n",
       "       1, 1, 1, 1, 1, 0, 0, 1, 1, 0, 1, 1, 1, 0, 1, 0, 1, 1, 1, 1, 0, 1,\n",
       "       0, 1, 1, 1, 1, 1, 1, 1, 1, 1, 1, 0, 0, 1, 1, 0, 0, 0, 1, 1, 1, 1,\n",
       "       1, 1, 1, 0, 0, 1, 1, 1, 0, 1, 1, 1, 0, 1, 1, 1, 0, 1, 0, 0, 1, 0,\n",
       "       1, 1, 0, 1, 1, 1, 1, 1, 1, 1, 1, 0, 1, 1, 1, 1, 1, 1, 1, 1, 0, 1,\n",
       "       1, 1, 1, 1, 1, 1, 0, 0, 1, 1, 1, 1, 1, 1, 1, 0, 1, 1, 1, 1, 0, 1,\n",
       "       1, 1, 1, 1, 1, 1, 1, 1, 1, 1, 1, 1, 1, 1, 1, 1, 0, 0, 1, 0, 0, 1,\n",
       "       1, 1, 1, 0, 1, 1, 1, 1, 1, 1, 1, 1, 1, 0, 1, 1, 0, 0, 1, 1, 1, 1,\n",
       "       0, 0, 1, 1, 1, 1, 1, 1, 1, 1, 1, 1, 1, 1, 1, 0, 1, 1, 0, 1, 1, 1,\n",
       "       1, 1, 1, 1, 1, 1, 1, 1, 1, 1, 1, 1, 1, 1, 1, 1, 1, 0, 1, 1, 1, 1,\n",
       "       1, 1, 1, 0, 1, 1, 1, 0, 1, 1, 1, 0, 1, 0, 1, 1, 1, 0, 1, 1, 0, 1,\n",
       "       1, 1, 1, 1, 1, 1, 0, 1, 1, 0, 1, 1, 1, 1, 1, 1, 1, 1, 1, 0, 1, 1,\n",
       "       0, 1, 1, 1, 1, 1, 0, 0, 1, 1, 1, 1, 0, 1, 1, 1, 1, 1, 1, 1, 1, 1,\n",
       "       1, 1, 1, 1, 1, 0, 1, 1, 0, 1, 0, 1, 1, 1, 1, 1, 1, 1, 0, 1, 0, 0,\n",
       "       1, 1, 1, 1, 0, 1, 0, 0, 1, 1, 0, 1, 1, 0, 1, 1, 1, 1, 1, 1, 0, 1,\n",
       "       0, 1, 1, 1, 1, 1, 0, 0, 1, 1, 1, 1, 0, 1, 1, 1, 1, 1, 1, 1, 0, 1,\n",
       "       1, 1, 0, 0, 1, 1, 0, 1, 1, 0, 1, 1, 0, 1, 0, 1, 1, 0, 1, 1, 1, 0,\n",
       "       0, 0, 1, 0, 1, 0, 1, 1, 0, 1, 0, 0, 1, 1, 1, 0, 1, 1, 1, 0, 0, 1,\n",
       "       0, 0, 0, 1, 0, 0, 0, 1, 1, 0, 1, 1, 0, 0, 0, 1, 0, 0, 1, 1, 1, 1,\n",
       "       1, 1, 1, 1, 1, 1, 0, 1, 1, 0, 0, 1, 1, 0, 0, 1, 0, 1, 1, 1, 1, 1,\n",
       "       0, 0, 0, 0, 0, 1, 1, 0, 0, 1, 0, 1, 1, 1, 1, 0, 1, 1, 0, 1, 0, 1,\n",
       "       1, 0, 1, 1, 1, 1, 1, 1, 1, 0, 0, 1, 0, 0, 1, 1, 1, 0, 1, 0, 1, 1,\n",
       "       0, 0, 1, 1, 0, 0, 1, 0, 1, 1, 1, 1, 0, 0, 0, 0, 0, 1, 1, 0, 1, 1,\n",
       "       1, 1, 1, 0, 0, 1, 0, 1, 1, 1, 1, 1, 1, 0, 0, 0, 1, 1, 1, 1, 1, 0,\n",
       "       0, 1, 0, 1, 1, 1, 1, 1, 1, 1, 1, 1, 1, 1, 1, 1, 1, 1, 1, 0, 1, 0,\n",
       "       1, 1, 0, 0, 1, 1, 1, 1, 1, 0, 0, 0, 1, 0, 0, 0, 1, 1, 1, 1, 1, 1,\n",
       "       1, 1, 0, 0, 0, 1, 1, 0, 1, 1, 0, 0, 1, 1, 0, 0, 0, 1, 1, 1, 1, 0,\n",
       "       0, 1, 0, 1, 0, 0, 1, 1, 1, 0, 1, 1, 1, 1, 1, 1, 0, 0, 1, 1, 1, 1,\n",
       "       0, 1, 1, 1, 0, 0, 1, 1, 1, 0, 0, 0, 1, 0, 1, 1, 1, 0, 0, 1, 1, 1,\n",
       "       1, 1, 1, 1, 1, 1, 1, 1, 0, 1, 0, 1, 1, 1, 1, 1, 0, 1, 0, 0, 1, 1,\n",
       "       0, 1, 1, 1, 1, 1, 1, 1, 1, 1, 1, 1, 0, 1, 1, 0, 1, 0, 1, 1, 1, 1,\n",
       "       1, 1, 0, 0, 0, 0, 1, 0, 1, 1, 1, 1, 1, 0, 1, 0, 0, 1, 0, 1, 1, 1,\n",
       "       0, 1, 1, 0, 0, 1, 1, 0, 1, 1, 0, 0, 1, 1, 0, 1, 0, 1, 0, 1, 1, 1,\n",
       "       0, 0, 1, 1, 0, 0, 0, 1, 1, 1, 0, 1, 1, 0, 1, 1, 0, 1, 1, 1, 1, 1,\n",
       "       0, 1, 1, 1, 1, 1, 1, 1, 1, 1, 1, 0, 1, 0, 0, 1, 1, 1, 1, 0, 1, 1,\n",
       "       1, 0, 1, 1, 1, 1, 1, 0, 0, 1, 0, 1, 1, 1, 0, 1, 1, 1, 0, 0, 1, 0,\n",
       "       1, 1, 0, 0, 0, 1, 0, 1, 1, 1])"
      ]
     },
     "execution_count": 179,
     "metadata": {},
     "output_type": "execute_result"
    }
   ],
   "source": [
    "y_pred_test"
   ]
  },
  {
   "cell_type": "markdown",
   "metadata": {},
   "source": [
    "# MLP"
   ]
  },
  {
   "cell_type": "code",
   "execution_count": 180,
   "metadata": {},
   "outputs": [
    {
     "name": "stdout",
     "output_type": "stream",
     "text": [
      "Fitting 5 folds for each of 162 candidates, totalling 810 fits\n"
     ]
    },
    {
     "name": "stderr",
     "output_type": "stream",
     "text": [
      "[Parallel(n_jobs=-1)]: Using backend LokyBackend with 4 concurrent workers.\n",
      "[Parallel(n_jobs=-1)]: Batch computation too fast (0.1719s.) Setting batch_size=2.\n",
      "[Parallel(n_jobs=-1)]: Done   5 tasks      | elapsed:    0.4s\n",
      "[Parallel(n_jobs=-1)]: Done  12 tasks      | elapsed:    0.9s\n",
      "[Parallel(n_jobs=-1)]: Done  26 tasks      | elapsed:    1.6s\n",
      "[Parallel(n_jobs=-1)]: Done  40 tasks      | elapsed:    2.5s\n",
      "[Parallel(n_jobs=-1)]: Done  58 tasks      | elapsed:    3.7s\n",
      "[Parallel(n_jobs=-1)]: Done  76 tasks      | elapsed:    4.7s\n",
      "[Parallel(n_jobs=-1)]: Done  98 tasks      | elapsed:    6.1s\n",
      "[Parallel(n_jobs=-1)]: Done 120 tasks      | elapsed:    7.7s\n",
      "[Parallel(n_jobs=-1)]: Done 146 tasks      | elapsed:    9.3s\n",
      "[Parallel(n_jobs=-1)]: Done 172 tasks      | elapsed:   11.6s\n",
      "[Parallel(n_jobs=-1)]: Done 202 tasks      | elapsed:   13.6s\n",
      "[Parallel(n_jobs=-1)]: Done 232 tasks      | elapsed:   16.4s\n",
      "[Parallel(n_jobs=-1)]: Done 266 tasks      | elapsed:   19.2s\n",
      "[Parallel(n_jobs=-1)]: Done 300 tasks      | elapsed:   21.5s\n",
      "[Parallel(n_jobs=-1)]: Done 338 tasks      | elapsed:   23.7s\n",
      "[Parallel(n_jobs=-1)]: Done 376 tasks      | elapsed:   26.3s\n",
      "[Parallel(n_jobs=-1)]: Done 418 tasks      | elapsed:   28.9s\n",
      "[Parallel(n_jobs=-1)]: Done 460 tasks      | elapsed:   32.2s\n",
      "[Parallel(n_jobs=-1)]: Done 506 tasks      | elapsed:   36.1s\n",
      "[Parallel(n_jobs=-1)]: Done 552 tasks      | elapsed:   39.8s\n",
      "[Parallel(n_jobs=-1)]: Done 602 tasks      | elapsed:   43.0s\n",
      "[Parallel(n_jobs=-1)]: Done 652 tasks      | elapsed:   46.2s\n",
      "[Parallel(n_jobs=-1)]: Done 706 tasks      | elapsed:   50.0s\n",
      "[Parallel(n_jobs=-1)]: Done 760 tasks      | elapsed:   54.4s\n",
      "[Parallel(n_jobs=-1)]: Done 810 out of 810 | elapsed:   58.9s finished\n",
      "C:\\Users\\Rodolfo\\AppData\\Roaming\\Python\\Python36\\site-packages\\sklearn\\neural_network\\_multilayer_perceptron.py:934: DataConversionWarning: A column-vector y was passed when a 1d array was expected. Please change the shape of y to (n_samples, ), for example using ravel().\n",
      "  y = column_or_1d(y, warn=True)\n"
     ]
    },
    {
     "data": {
      "text/plain": [
       "GridSearchCV(cv=None, error_score=nan,\n",
       "             estimator=MLPClassifier(activation='relu', alpha=0.0001,\n",
       "                                     batch_size='auto', beta_1=0.9,\n",
       "                                     beta_2=0.999, early_stopping=False,\n",
       "                                     epsilon=1e-08, hidden_layer_sizes=(100,),\n",
       "                                     learning_rate='constant',\n",
       "                                     learning_rate_init=0.001, max_fun=15000,\n",
       "                                     max_iter=200, momentum=0.9,\n",
       "                                     n_iter_no_change=10,\n",
       "                                     nesterovs_momentum=True, power_t=0.5,\n",
       "                                     random_st...\n",
       "                                     validation_fraction=0.1, verbose=False,\n",
       "                                     warm_start=False),\n",
       "             iid='deprecated', n_jobs=-1,\n",
       "             param_grid={'activation': ['logistic'],\n",
       "                         'alpha': array([0.01  , 0.001 , 0.0001]),\n",
       "                         'hidden_layer_sizes': array([10, 15, 20, 25, 30, 35, 40, 45, 50, 55, 60, 65, 70, 75, 80, 85, 90,\n",
       "       95]),\n",
       "                         'max_iter': [1000, 2000, 5000], 'solver': ['sgd']},\n",
       "             pre_dispatch='2*n_jobs', refit=True, return_train_score=False,\n",
       "             scoring='accuracy', verbose=10)"
      ]
     },
     "execution_count": 180,
     "metadata": {},
     "output_type": "execute_result"
    }
   ],
   "source": [
    "parameters = {'solver': ['sgd'], 'max_iter': [1000, 2000, 5000], \n",
    "              'alpha': 10.0 ** -np.arange(2, 5), 'hidden_layer_sizes':np.arange(10, 100, 5), 'activation':['logistic']}\n",
    "clf = GridSearchCV(MLPClassifier(), parameters, n_jobs=-1, verbose=10, scoring='accuracy')\n",
    "clf.fit(X=X_train_flatten_ICA, y=y_train)"
   ]
  },
  {
   "cell_type": "code",
   "execution_count": 181,
   "metadata": {},
   "outputs": [
    {
     "data": {
      "text/plain": [
       "0.5272727272727273"
      ]
     },
     "execution_count": 181,
     "metadata": {},
     "output_type": "execute_result"
    }
   ],
   "source": [
    "clf.best_score_"
   ]
  },
  {
   "cell_type": "code",
   "execution_count": 182,
   "metadata": {},
   "outputs": [
    {
     "data": {
      "text/plain": [
       "{'activation': 'logistic',\n",
       " 'alpha': 0.0001,\n",
       " 'hidden_layer_sizes': 30,\n",
       " 'max_iter': 1000,\n",
       " 'solver': 'sgd'}"
      ]
     },
     "execution_count": 182,
     "metadata": {},
     "output_type": "execute_result"
    }
   ],
   "source": [
    "clf.best_params_"
   ]
  },
  {
   "cell_type": "code",
   "execution_count": 183,
   "metadata": {},
   "outputs": [
    {
     "data": {
      "text/plain": [
       "MLPClassifier(activation='logistic', alpha=0.0001, batch_size='auto',\n",
       "              beta_1=0.9, beta_2=0.999, early_stopping=False, epsilon=1e-08,\n",
       "              hidden_layer_sizes=30, learning_rate='constant',\n",
       "              learning_rate_init=0.001, max_fun=15000, max_iter=1000,\n",
       "              momentum=0.9, n_iter_no_change=10, nesterovs_momentum=True,\n",
       "              power_t=0.5, random_state=None, shuffle=True, solver='sgd',\n",
       "              tol=0.0001, validation_fraction=0.1, verbose=False,\n",
       "              warm_start=False)"
      ]
     },
     "execution_count": 183,
     "metadata": {},
     "output_type": "execute_result"
    }
   ],
   "source": [
    "best_clf_ = clf.best_estimator_\n",
    "best_clf_"
   ]
  },
  {
   "cell_type": "code",
   "execution_count": 184,
   "metadata": {},
   "outputs": [
    {
     "name": "stderr",
     "output_type": "stream",
     "text": [
      "C:\\Users\\Rodolfo\\AppData\\Roaming\\Python\\Python36\\site-packages\\sklearn\\neural_network\\_multilayer_perceptron.py:934: DataConversionWarning: A column-vector y was passed when a 1d array was expected. Please change the shape of y to (n_samples, ), for example using ravel().\n",
      "  y = column_or_1d(y, warn=True)\n"
     ]
    },
    {
     "data": {
      "text/plain": [
       "MLPClassifier(activation='logistic', alpha=0.0001, batch_size='auto',\n",
       "              beta_1=0.9, beta_2=0.999, early_stopping=False, epsilon=1e-08,\n",
       "              hidden_layer_sizes=30, learning_rate='constant',\n",
       "              learning_rate_init=0.001, max_fun=15000, max_iter=1000,\n",
       "              momentum=0.9, n_iter_no_change=10, nesterovs_momentum=True,\n",
       "              power_t=0.5, random_state=None, shuffle=True, solver='sgd',\n",
       "              tol=0.0001, validation_fraction=0.1, verbose=False,\n",
       "              warm_start=False)"
      ]
     },
     "execution_count": 184,
     "metadata": {},
     "output_type": "execute_result"
    }
   ],
   "source": [
    "best_clf_.fit(X=X_train_flatten_ICA, y=y_train)"
   ]
  },
  {
   "cell_type": "code",
   "execution_count": 185,
   "metadata": {},
   "outputs": [
    {
     "ename": "SyntaxError",
     "evalue": "invalid syntax (<ipython-input-185-b48366c17182>, line 1)",
     "output_type": "error",
     "traceback": [
      "\u001b[1;36m  File \u001b[1;32m\"<ipython-input-185-b48366c17182>\"\u001b[1;36m, line \u001b[1;32m1\u001b[0m\n\u001b[1;33m    y_pred_test_ = best_clf_.predict((X=X_test_flatten_ICA)\u001b[0m\n\u001b[1;37m                                       ^\u001b[0m\n\u001b[1;31mSyntaxError\u001b[0m\u001b[1;31m:\u001b[0m invalid syntax\n"
     ]
    }
   ],
   "source": [
    "y_pred_test_ = best_clf_.predict((X=X_test_flatten_ICA)"
   ]
  },
  {
   "cell_type": "code",
   "execution_count": null,
   "metadata": {},
   "outputs": [],
   "source": [
    "accuracy_score(y_true=y_test, y_pred=y_pred_test_)"
   ]
  },
  {
   "cell_type": "code",
   "execution_count": null,
   "metadata": {},
   "outputs": [],
   "source": [
    "y_pred_test_"
   ]
  },
  {
   "cell_type": "code",
   "execution_count": null,
   "metadata": {},
   "outputs": [],
   "source": []
  }
 ],
 "metadata": {
  "kernelspec": {
   "display_name": "Python 3",
   "language": "python",
   "name": "python3"
  },
  "language_info": {
   "codemirror_mode": {
    "name": "ipython",
    "version": 3
   },
   "file_extension": ".py",
   "mimetype": "text/x-python",
   "name": "python",
   "nbconvert_exporter": "python",
   "pygments_lexer": "ipython3",
   "version": "3.6.5"
  }
 },
 "nbformat": 4,
 "nbformat_minor": 4
}
