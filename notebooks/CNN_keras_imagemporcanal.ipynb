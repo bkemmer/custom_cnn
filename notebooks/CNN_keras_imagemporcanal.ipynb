{
 "cells": [
  {
   "cell_type": "code",
   "execution_count": 1,
   "metadata": {},
   "outputs": [
    {
     "name": "stderr",
     "output_type": "stream",
     "text": [
      "Using TensorFlow backend.\n"
     ]
    }
   ],
   "source": [
    "import keras\n",
    "import numpy as np\n",
    "import scipy.io\n",
    "from pathlib import Path\n",
    "import os"
   ]
  },
  {
   "cell_type": "markdown",
   "metadata": {},
   "source": [
    "## Open labels"
   ]
  },
  {
   "cell_type": "code",
   "execution_count": 2,
   "metadata": {},
   "outputs": [],
   "source": [
    "path = 'C:\\\\Users\\\\Rodolfo\\\\Documents\\\\algoritmos-git\\\\custom_cnn\\\\Data\\\\Processados\\\\'"
   ]
  },
  {
   "cell_type": "code",
   "execution_count": 3,
   "metadata": {},
   "outputs": [],
   "source": [
    "y_train = np.load(Path(path,'y_train.npy'))\n",
    "y_test = np.load(Path(path, 'y_test.npy'))\n",
    "y_train = np.expand_dims(y_train, axis=1)\n",
    "y_test = np.expand_dims(y_test, axis=1)"
   ]
  },
  {
   "cell_type": "code",
   "execution_count": 4,
   "metadata": {},
   "outputs": [],
   "source": [
    "from keras.utils import np_utils\n",
    "# one-hot encode the labels\n",
    "num_classes = len(np.unique(y_train))\n",
    "y_train = keras.utils.to_categorical(y_train, num_classes)\n",
    "y_test = keras.utils.to_categorical(y_test, num_classes)"
   ]
  },
  {
   "cell_type": "code",
   "execution_count": 5,
   "metadata": {},
   "outputs": [
    {
     "data": {
      "text/plain": [
       "array([[0., 1.],\n",
       "       [0., 1.],\n",
       "       [0., 1.],\n",
       "       ...,\n",
       "       [1., 0.],\n",
       "       [1., 0.],\n",
       "       [1., 0.]], dtype=float32)"
      ]
     },
     "execution_count": 5,
     "metadata": {},
     "output_type": "execute_result"
    }
   ],
   "source": [
    "y_train"
   ]
  },
  {
   "cell_type": "code",
   "execution_count": 6,
   "metadata": {},
   "outputs": [
    {
     "data": {
      "text/plain": [
       "array([[0., 1.],\n",
       "       [0., 1.],\n",
       "       [0., 1.],\n",
       "       ...,\n",
       "       [1., 0.],\n",
       "       [1., 0.],\n",
       "       [1., 0.]], dtype=float32)"
      ]
     },
     "execution_count": 6,
     "metadata": {},
     "output_type": "execute_result"
    }
   ],
   "source": [
    "y_test"
   ]
  },
  {
   "cell_type": "markdown",
   "metadata": {},
   "source": [
    "# Open data"
   ]
  },
  {
   "cell_type": "code",
   "execution_count": 7,
   "metadata": {},
   "outputs": [
    {
     "name": "stdout",
     "output_type": "stream",
     "text": [
      "(2200, 100, 100)\n",
      "(2200, 100, 100)\n",
      "(1000, 100, 100)\n",
      "(1000, 100, 100)\n"
     ]
    }
   ],
   "source": [
    "path = Path(path, '100_100')\n",
    "X_train_1 = np.load(Path(path, 'X_train_1.npy'))\n",
    "X_train_2 = np.load(Path(path, 'X_train_2.npy'))\n",
    "X_test_1 = np.load(Path(path, 'X_test_1.npy'))\n",
    "X_test_2 = np.load(Path(path, 'X_test_2.npy'))\n",
    "print(X_train_1.shape)\n",
    "print(X_train_2.shape)\n",
    "print(X_test_1.shape)\n",
    "print(X_test_2.shape)"
   ]
  },
  {
   "cell_type": "markdown",
   "metadata": {},
   "source": [
    "### Shape desejado: x_train shape: (45000, 32, 32, 3) -> n_obs, n_row, n_col, n_chan"
   ]
  },
  {
   "cell_type": "code",
   "execution_count": 8,
   "metadata": {},
   "outputs": [
    {
     "data": {
      "text/plain": [
       "(2200, 100, 100, 2)"
      ]
     },
     "execution_count": 8,
     "metadata": {},
     "output_type": "execute_result"
    }
   ],
   "source": [
    "n_obs, n_row, n_col = X_train_1.shape\n",
    "n_chan=2\n",
    "X_train = np.zeros((n_obs, n_row, n_col, n_chan))\n",
    "X_train.shape"
   ]
  },
  {
   "cell_type": "code",
   "execution_count": 9,
   "metadata": {},
   "outputs": [
    {
     "data": {
      "text/plain": [
       "(2200, 100, 100, 2)"
      ]
     },
     "execution_count": 9,
     "metadata": {},
     "output_type": "execute_result"
    }
   ],
   "source": [
    "X_train[:,:,:,0]=X_train_1\n",
    "X_train[:,:,:,1]=X_train_2\n",
    "X_train.shape"
   ]
  },
  {
   "cell_type": "code",
   "execution_count": 10,
   "metadata": {},
   "outputs": [
    {
     "data": {
      "text/plain": [
       "(1000, 100, 100, 2)"
      ]
     },
     "execution_count": 10,
     "metadata": {},
     "output_type": "execute_result"
    }
   ],
   "source": [
    "n_obs, n_row, n_col = X_test_1.shape\n",
    "n_chan=2\n",
    "X_test = np.zeros((n_obs, n_row, n_col, n_chan))\n",
    "X_test.shape"
   ]
  },
  {
   "cell_type": "code",
   "execution_count": 11,
   "metadata": {},
   "outputs": [
    {
     "data": {
      "text/plain": [
       "(1000, 100, 100, 2)"
      ]
     },
     "execution_count": 11,
     "metadata": {},
     "output_type": "execute_result"
    }
   ],
   "source": [
    "X_test[:,:,:,0]=X_test_1\n",
    "X_test[:,:,:,1]=X_test_2\n",
    "X_test.shape"
   ]
  },
  {
   "cell_type": "markdown",
   "metadata": {},
   "source": [
    "# Shuffle X_train"
   ]
  },
  {
   "cell_type": "code",
   "execution_count": 12,
   "metadata": {},
   "outputs": [],
   "source": [
    "arr = np.arange(y_train.shape[0])\n",
    "np.random.shuffle(arr)\n",
    "X_train = X_train[arr,:,:,:]\n",
    "y_train = y_train[arr]"
   ]
  },
  {
   "cell_type": "markdown",
   "metadata": {},
   "source": [
    "### 3. Rescale the Images by Dividing Every Pixel in Every Image by 255"
   ]
  },
  {
   "cell_type": "code",
   "execution_count": 13,
   "metadata": {},
   "outputs": [],
   "source": [
    "# rescale [0,255] --> [0,1]\n",
    "X_train = X_train.astype('float32')/255\n",
    "X_test = X_test.astype('float32')/255"
   ]
  },
  {
   "cell_type": "markdown",
   "metadata": {},
   "source": [
    "### 4.  Break Dataset into Training, Testing, and Validation Sets"
   ]
  },
  {
   "cell_type": "code",
   "execution_count": 14,
   "metadata": {},
   "outputs": [
    {
     "name": "stdout",
     "output_type": "stream",
     "text": [
      "x_train shape: (1800, 100, 100, 2)\n",
      "1800 train samples\n",
      "1000 test samples\n",
      "400 validation samples\n"
     ]
    }
   ],
   "source": [
    "# break training set into training and validation sets\n",
    "(X_train, X_valid) = X_train[:1800], X_train[1800:]\n",
    "(y_train, y_valid) = y_train[:1800], y_train[1800:]\n",
    "\n",
    "# print shape of training set\n",
    "print('x_train shape:', X_train.shape)\n",
    "\n",
    "# print number of training, validation, and test images\n",
    "print(X_train.shape[0], 'train samples')\n",
    "print(X_test.shape[0], 'test samples')\n",
    "print(X_valid.shape[0], 'validation samples')"
   ]
  },
  {
   "cell_type": "code",
   "execution_count": 15,
   "metadata": {},
   "outputs": [],
   "source": [
    "n_obs, n_row, n_col, n_chan = X_train.shape"
   ]
  },
  {
   "cell_type": "code",
   "execution_count": 16,
   "metadata": {},
   "outputs": [
    {
     "name": "stdout",
     "output_type": "stream",
     "text": [
      "1800 100 100 2\n"
     ]
    }
   ],
   "source": [
    "print(n_obs, n_row, n_col, n_chan)"
   ]
  },
  {
   "cell_type": "markdown",
   "metadata": {},
   "source": [
    "### 5. Define the Model Architecture "
   ]
  },
  {
   "cell_type": "code",
   "execution_count": 20,
   "metadata": {},
   "outputs": [
    {
     "name": "stdout",
     "output_type": "stream",
     "text": [
      "_________________________________________________________________\n",
      "Layer (type)                 Output Shape              Param #   \n",
      "=================================================================\n",
      "conv2d_12 (Conv2D)           (None, 99, 99, 16)        144       \n",
      "_________________________________________________________________\n",
      "max_pooling2d_12 (MaxPooling (None, 98, 98, 16)        0         \n",
      "_________________________________________________________________\n",
      "conv2d_13 (Conv2D)           (None, 49, 49, 32)        2080      \n",
      "_________________________________________________________________\n",
      "max_pooling2d_13 (MaxPooling (None, 24, 24, 32)        0         \n",
      "_________________________________________________________________\n",
      "conv2d_14 (Conv2D)           (None, 23, 23, 64)        8256      \n",
      "_________________________________________________________________\n",
      "max_pooling2d_14 (MaxPooling (None, 11, 11, 64)        0         \n",
      "_________________________________________________________________\n",
      "conv2d_15 (Conv2D)           (None, 10, 10, 128)       32896     \n",
      "_________________________________________________________________\n",
      "max_pooling2d_15 (MaxPooling (None, 5, 5, 128)         0         \n",
      "_________________________________________________________________\n",
      "dropout_7 (Dropout)          (None, 5, 5, 128)         0         \n",
      "_________________________________________________________________\n",
      "flatten_4 (Flatten)          (None, 3200)              0         \n",
      "_________________________________________________________________\n",
      "dense_7 (Dense)              (None, 500)               1600500   \n",
      "_________________________________________________________________\n",
      "dropout_8 (Dropout)          (None, 500)               0         \n",
      "_________________________________________________________________\n",
      "dense_8 (Dense)              (None, 2)                 1002      \n",
      "=================================================================\n",
      "Total params: 1,644,878\n",
      "Trainable params: 1,644,878\n",
      "Non-trainable params: 0\n",
      "_________________________________________________________________\n"
     ]
    }
   ],
   "source": [
    "from keras.models import Sequential\n",
    "from keras.layers import Conv2D, MaxPooling2D, Flatten, Dense, Dropout\n",
    "\n",
    "# \"valid\" means no padding. \"same\" results in padding\n",
    "model = Sequential()\n",
    "model.add(Conv2D(filters=16, kernel_size=2, padding='valid', activation='relu', strides=(1,1), input_shape=(n_row, n_col, n_chan)))\n",
    "model.add(MaxPooling2D(pool_size=2, strides=(1,1)))\n",
    "model.add(Conv2D(filters=32, kernel_size=2, padding='valid', activation='relu', strides=(2,2)))\n",
    "model.add(MaxPooling2D(pool_size=2))\n",
    "model.add(Conv2D(filters=64, kernel_size=2, padding='valid', activation='relu', strides=(1,1)))\n",
    "model.add(MaxPooling2D(pool_size=2))\n",
    "model.add(Conv2D(filters=128, kernel_size=2, padding='valid', activation='relu', strides=(1,1)))\n",
    "model.add(MaxPooling2D(pool_size=2))\n",
    "model.add(Dropout(0.3))\n",
    "model.add(Flatten())\n",
    "model.add(Dense(500, activation='relu'))\n",
    "model.add(Dropout(0.3))\n",
    "model.add(Dense(num_classes, activation='softmax'))\n",
    "\n",
    "model.summary()"
   ]
  },
  {
   "cell_type": "markdown",
   "metadata": {},
   "source": [
    "### 6. Compile the Model "
   ]
  },
  {
   "cell_type": "code",
   "execution_count": 21,
   "metadata": {},
   "outputs": [
    {
     "name": "stdout",
     "output_type": "stream",
     "text": [
      "WARNING:tensorflow:From C:\\ProgramData\\Anaconda3\\lib\\site-packages\\keras\\optimizers.py:790: The name tf.train.Optimizer is deprecated. Please use tf.compat.v1.train.Optimizer instead.\n",
      "\n",
      "WARNING:tensorflow:From C:\\ProgramData\\Anaconda3\\lib\\site-packages\\keras\\backend\\tensorflow_backend.py:3295: The name tf.log is deprecated. Please use tf.math.log instead.\n",
      "\n"
     ]
    }
   ],
   "source": [
    "# compile the model\n",
    "model.compile(loss='categorical_crossentropy', optimizer='rmsprop', \n",
    "                  metrics=['accuracy'])"
   ]
  },
  {
   "cell_type": "markdown",
   "metadata": {},
   "source": [
    "### 7. Train the Model "
   ]
  },
  {
   "cell_type": "code",
   "execution_count": 22,
   "metadata": {},
   "outputs": [],
   "source": [
    "model_path = 'model_9.weights.best.hdf5'"
   ]
  },
  {
   "cell_type": "code",
   "execution_count": 23,
   "metadata": {
    "scrolled": false
   },
   "outputs": [
    {
     "name": "stdout",
     "output_type": "stream",
     "text": [
      "WARNING:tensorflow:From C:\\ProgramData\\Anaconda3\\lib\\site-packages\\tensorflow_core\\python\\ops\\math_grad.py:1424: where (from tensorflow.python.ops.array_ops) is deprecated and will be removed in a future version.\n",
      "Instructions for updating:\n",
      "Use tf.where in 2.0, which has the same broadcast rule as np.where\n",
      "WARNING:tensorflow:From C:\\ProgramData\\Anaconda3\\lib\\site-packages\\keras\\backend\\tensorflow_backend.py:986: The name tf.assign_add is deprecated. Please use tf.compat.v1.assign_add instead.\n",
      "\n",
      "WARNING:tensorflow:From C:\\ProgramData\\Anaconda3\\lib\\site-packages\\keras\\backend\\tensorflow_backend.py:973: The name tf.assign is deprecated. Please use tf.compat.v1.assign instead.\n",
      "\n",
      "WARNING:tensorflow:From C:\\ProgramData\\Anaconda3\\lib\\site-packages\\keras\\backend\\tensorflow_backend.py:2741: The name tf.Session is deprecated. Please use tf.compat.v1.Session instead.\n",
      "\n",
      "Train on 1800 samples, validate on 400 samples\n",
      "Epoch 1/20\n",
      "WARNING:tensorflow:From C:\\ProgramData\\Anaconda3\\lib\\site-packages\\keras\\backend\\tensorflow_backend.py:174: The name tf.get_default_session is deprecated. Please use tf.compat.v1.get_default_session instead.\n",
      "\n",
      "WARNING:tensorflow:From C:\\ProgramData\\Anaconda3\\lib\\site-packages\\keras\\backend\\tensorflow_backend.py:181: The name tf.ConfigProto is deprecated. Please use tf.compat.v1.ConfigProto instead.\n",
      "\n",
      "WARNING:tensorflow:From C:\\ProgramData\\Anaconda3\\lib\\site-packages\\keras\\backend\\tensorflow_backend.py:190: The name tf.global_variables is deprecated. Please use tf.compat.v1.global_variables instead.\n",
      "\n",
      "WARNING:tensorflow:From C:\\ProgramData\\Anaconda3\\lib\\site-packages\\keras\\backend\\tensorflow_backend.py:199: The name tf.is_variable_initialized is deprecated. Please use tf.compat.v1.is_variable_initialized instead.\n",
      "\n",
      "WARNING:tensorflow:From C:\\ProgramData\\Anaconda3\\lib\\site-packages\\keras\\backend\\tensorflow_backend.py:206: The name tf.variables_initializer is deprecated. Please use tf.compat.v1.variables_initializer instead.\n",
      "\n",
      " - 22s - loss: 0.7206 - acc: 0.4961 - val_loss: 0.6902 - val_acc: 0.5450\n",
      "\n",
      "Epoch 00001: val_loss improved from inf to 0.69024, saving model to model_9.weights.best.hdf5\n",
      "Epoch 2/20\n",
      " - 20s - loss: 0.6912 - acc: 0.5528 - val_loss: 0.6748 - val_acc: 0.6425\n",
      "\n",
      "Epoch 00002: val_loss improved from 0.69024 to 0.67476, saving model to model_9.weights.best.hdf5\n",
      "Epoch 3/20\n",
      " - 21s - loss: 0.6710 - acc: 0.6006 - val_loss: 0.6694 - val_acc: 0.6025\n",
      "\n",
      "Epoch 00003: val_loss improved from 0.67476 to 0.66938, saving model to model_9.weights.best.hdf5\n",
      "Epoch 4/20\n",
      " - 21s - loss: 0.6438 - acc: 0.6444 - val_loss: 0.7110 - val_acc: 0.5700\n",
      "\n",
      "Epoch 00004: val_loss did not improve from 0.66938\n",
      "Epoch 5/20\n",
      " - 20s - loss: 0.6335 - acc: 0.6389 - val_loss: 0.6758 - val_acc: 0.5975\n",
      "\n",
      "Epoch 00005: val_loss did not improve from 0.66938\n",
      "Epoch 6/20\n",
      " - 20s - loss: 0.6032 - acc: 0.6817 - val_loss: 0.6882 - val_acc: 0.6175\n",
      "\n",
      "Epoch 00006: val_loss did not improve from 0.66938\n",
      "Epoch 7/20\n",
      " - 20s - loss: 0.5841 - acc: 0.6889 - val_loss: 0.6891 - val_acc: 0.6150\n",
      "\n",
      "Epoch 00007: val_loss did not improve from 0.66938\n",
      "Epoch 8/20\n",
      " - 20s - loss: 0.5696 - acc: 0.7083 - val_loss: 0.6747 - val_acc: 0.6300\n",
      "\n",
      "Epoch 00008: val_loss did not improve from 0.66938\n",
      "Epoch 9/20\n",
      " - 20s - loss: 0.5535 - acc: 0.7206 - val_loss: 0.6304 - val_acc: 0.6300\n",
      "\n",
      "Epoch 00009: val_loss improved from 0.66938 to 0.63044, saving model to model_9.weights.best.hdf5\n",
      "Epoch 10/20\n",
      " - 17s - loss: 0.5324 - acc: 0.7233 - val_loss: 0.7343 - val_acc: 0.6125\n",
      "\n",
      "Epoch 00010: val_loss did not improve from 0.63044\n",
      "Epoch 11/20\n",
      " - 17s - loss: 0.5096 - acc: 0.7522 - val_loss: 0.6937 - val_acc: 0.6125\n",
      "\n",
      "Epoch 00011: val_loss did not improve from 0.63044\n",
      "Epoch 12/20\n",
      " - 17s - loss: 0.4680 - acc: 0.7800 - val_loss: 0.7316 - val_acc: 0.6075\n",
      "\n",
      "Epoch 00012: val_loss did not improve from 0.63044\n",
      "Epoch 13/20\n",
      " - 17s - loss: 0.4526 - acc: 0.7894 - val_loss: 0.7986 - val_acc: 0.5975\n",
      "\n",
      "Epoch 00013: val_loss did not improve from 0.63044\n",
      "Epoch 14/20\n",
      " - 17s - loss: 0.4430 - acc: 0.7928 - val_loss: 0.7541 - val_acc: 0.6175\n",
      "\n",
      "Epoch 00014: val_loss did not improve from 0.63044\n",
      "Epoch 15/20\n",
      " - 17s - loss: 0.4141 - acc: 0.8050 - val_loss: 0.6887 - val_acc: 0.6400\n",
      "\n",
      "Epoch 00015: val_loss did not improve from 0.63044\n",
      "Epoch 16/20\n",
      " - 17s - loss: 0.3828 - acc: 0.8322 - val_loss: 0.7406 - val_acc: 0.6675\n",
      "\n",
      "Epoch 00016: val_loss did not improve from 0.63044\n",
      "Epoch 17/20\n",
      " - 18s - loss: 0.3412 - acc: 0.8506 - val_loss: 0.8011 - val_acc: 0.6375\n",
      "\n",
      "Epoch 00017: val_loss did not improve from 0.63044\n",
      "Epoch 18/20\n",
      " - 17s - loss: 0.3308 - acc: 0.8589 - val_loss: 0.7873 - val_acc: 0.6450\n",
      "\n",
      "Epoch 00018: val_loss did not improve from 0.63044\n",
      "Epoch 19/20\n",
      " - 17s - loss: 0.2783 - acc: 0.8828 - val_loss: 0.9521 - val_acc: 0.6550\n",
      "\n",
      "Epoch 00019: val_loss did not improve from 0.63044\n",
      "Epoch 20/20\n",
      " - 17s - loss: 0.2813 - acc: 0.8778 - val_loss: 0.9386 - val_acc: 0.6500\n",
      "\n",
      "Epoch 00020: val_loss did not improve from 0.63044\n"
     ]
    }
   ],
   "source": [
    "from keras.callbacks import ModelCheckpoint   \n",
    "\n",
    "# train the model\n",
    "checkpointer = ModelCheckpoint(filepath=model_path, verbose=1, \n",
    "                               save_best_only=True)\n",
    "hist = model.fit(X_train, y_train, batch_size=32, epochs=20,\n",
    "          validation_data=(X_valid, y_valid), callbacks=[checkpointer], \n",
    "          verbose=2, shuffle=True)"
   ]
  },
  {
   "cell_type": "code",
   "execution_count": null,
   "metadata": {},
   "outputs": [],
   "source": []
  },
  {
   "cell_type": "code",
   "execution_count": null,
   "metadata": {},
   "outputs": [],
   "source": []
  },
  {
   "cell_type": "code",
   "execution_count": 24,
   "metadata": {},
   "outputs": [
    {
     "data": {
      "text/plain": [
       "'model_9.weights.best.hdf5'"
      ]
     },
     "execution_count": 24,
     "metadata": {},
     "output_type": "execute_result"
    }
   ],
   "source": [
    "model_path"
   ]
  },
  {
   "cell_type": "markdown",
   "metadata": {},
   "source": [
    "### 8. Load the Model with the Best Validation Accuracy"
   ]
  },
  {
   "cell_type": "code",
   "execution_count": 25,
   "metadata": {},
   "outputs": [],
   "source": [
    "# load the weights that yielded the best validation accuracy\n",
    "model.load_weights(model_path)"
   ]
  },
  {
   "cell_type": "markdown",
   "metadata": {},
   "source": [
    "### 9. Calculate Classification Accuracy on Test Set"
   ]
  },
  {
   "cell_type": "code",
   "execution_count": 26,
   "metadata": {},
   "outputs": [
    {
     "name": "stdout",
     "output_type": "stream",
     "text": [
      "\n",
      " Test accuracy: 0.706\n"
     ]
    }
   ],
   "source": [
    "# evaluate and print test accuracy\n",
    "score = model.evaluate(X_test, y_test, verbose=0)\n",
    "print('\\n', 'Test accuracy:', score[1])"
   ]
  },
  {
   "cell_type": "code",
   "execution_count": 27,
   "metadata": {},
   "outputs": [
    {
     "data": {
      "text/plain": [
       "array([[0.30931488, 0.6906851 ],\n",
       "       [0.91027784, 0.08972216],\n",
       "       [0.5426848 , 0.45731518],\n",
       "       ...,\n",
       "       [0.23233077, 0.7676692 ],\n",
       "       [0.72518194, 0.27481803],\n",
       "       [0.40180582, 0.5981942 ]], dtype=float32)"
      ]
     },
     "execution_count": 27,
     "metadata": {},
     "output_type": "execute_result"
    }
   ],
   "source": [
    "model.predict(X_test)"
   ]
  },
  {
   "cell_type": "code",
   "execution_count": null,
   "metadata": {},
   "outputs": [],
   "source": [
    "model_path"
   ]
  },
  {
   "cell_type": "code",
   "execution_count": null,
   "metadata": {},
   "outputs": [],
   "source": []
  }
 ],
 "metadata": {
  "kernelspec": {
   "display_name": "Python 3",
   "language": "python",
   "name": "python3"
  },
  "language_info": {
   "codemirror_mode": {
    "name": "ipython",
    "version": 3
   },
   "file_extension": ".py",
   "mimetype": "text/x-python",
   "name": "python",
   "nbconvert_exporter": "python",
   "pygments_lexer": "ipython3",
   "version": "3.6.5"
  }
 },
 "nbformat": 4,
 "nbformat_minor": 2
}
