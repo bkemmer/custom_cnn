{
 "cells": [
  {
   "cell_type": "code",
   "execution_count": 1,
   "metadata": {},
   "outputs": [
    {
     "name": "stderr",
     "output_type": "stream",
     "text": [
      "Using TensorFlow backend.\n"
     ]
    }
   ],
   "source": [
    "import keras\n",
    "import numpy as np\n",
    "import scipy.io\n",
    "from pathlib import Path\n",
    "import os"
   ]
  },
  {
   "cell_type": "markdown",
   "metadata": {},
   "source": [
    "## Open labels"
   ]
  },
  {
   "cell_type": "code",
   "execution_count": 2,
   "metadata": {},
   "outputs": [],
   "source": [
    "path = 'C:\\\\Users\\\\Rodolfo\\\\Documents\\\\algoritmos-git\\\\custom_cnn\\\\Data\\\\Processados\\\\'"
   ]
  },
  {
   "cell_type": "code",
   "execution_count": 3,
   "metadata": {},
   "outputs": [],
   "source": [
    "y_train = np.load(Path(path,'y_train.npy'))\n",
    "y_test = np.load(Path(path, 'y_test.npy'))\n",
    "y_train = np.expand_dims(y_train, axis=1)\n",
    "y_test = np.expand_dims(y_test, axis=1)"
   ]
  },
  {
   "cell_type": "code",
   "execution_count": 4,
   "metadata": {},
   "outputs": [],
   "source": [
    "from keras.utils import np_utils\n",
    "# one-hot encode the labels\n",
    "num_classes = len(np.unique(y_train))\n",
    "y_train = keras.utils.to_categorical(y_train, num_classes)\n",
    "y_test = keras.utils.to_categorical(y_test, num_classes)"
   ]
  },
  {
   "cell_type": "code",
   "execution_count": 5,
   "metadata": {},
   "outputs": [
    {
     "data": {
      "text/plain": [
       "array([[0., 1.],\n",
       "       [0., 1.],\n",
       "       [0., 1.],\n",
       "       ...,\n",
       "       [1., 0.],\n",
       "       [1., 0.],\n",
       "       [1., 0.]], dtype=float32)"
      ]
     },
     "execution_count": 5,
     "metadata": {},
     "output_type": "execute_result"
    }
   ],
   "source": [
    "y_train"
   ]
  },
  {
   "cell_type": "code",
   "execution_count": 6,
   "metadata": {},
   "outputs": [
    {
     "data": {
      "text/plain": [
       "array([[0., 1.],\n",
       "       [0., 1.],\n",
       "       [0., 1.],\n",
       "       ...,\n",
       "       [1., 0.],\n",
       "       [1., 0.],\n",
       "       [1., 0.]], dtype=float32)"
      ]
     },
     "execution_count": 6,
     "metadata": {},
     "output_type": "execute_result"
    }
   ],
   "source": [
    "y_test"
   ]
  },
  {
   "cell_type": "markdown",
   "metadata": {},
   "source": [
    "# Open data"
   ]
  },
  {
   "cell_type": "code",
   "execution_count": 7,
   "metadata": {},
   "outputs": [
    {
     "name": "stdout",
     "output_type": "stream",
     "text": [
      "(2200, 28, 28)\n",
      "(2200, 28, 28)\n",
      "(1000, 28, 28)\n",
      "(1000, 28, 28)\n"
     ]
    }
   ],
   "source": [
    "path = Path(path, '28_28')\n",
    "X_train_1 = np.load(Path(path, 'X_train_1.npy'))\n",
    "X_train_2 = np.load(Path(path, 'X_train_2.npy'))\n",
    "X_test_1 = np.load(Path(path, 'X_test_1.npy'))\n",
    "X_test_2 = np.load(Path(path, 'X_test_2.npy'))\n",
    "print(X_train_1.shape)\n",
    "print(X_train_2.shape)\n",
    "print(X_test_1.shape)\n",
    "print(X_test_2.shape)"
   ]
  },
  {
   "cell_type": "markdown",
   "metadata": {},
   "source": [
    "### Shape desejado: x_train shape: (45000, 32, 32, 3) -> n_obs, n_row, n_col, n_chan"
   ]
  },
  {
   "cell_type": "code",
   "execution_count": 8,
   "metadata": {},
   "outputs": [
    {
     "data": {
      "text/plain": [
       "(2200, 28, 28, 2)"
      ]
     },
     "execution_count": 8,
     "metadata": {},
     "output_type": "execute_result"
    }
   ],
   "source": [
    "n_obs, n_row, n_col = X_train_1.shape\n",
    "n_chan=2\n",
    "X_train = np.zeros((n_obs, n_row, n_col, n_chan))\n",
    "X_train.shape"
   ]
  },
  {
   "cell_type": "code",
   "execution_count": 9,
   "metadata": {},
   "outputs": [
    {
     "data": {
      "text/plain": [
       "(2200, 28, 28, 2)"
      ]
     },
     "execution_count": 9,
     "metadata": {},
     "output_type": "execute_result"
    }
   ],
   "source": [
    "X_train[:,:,:,0]=X_train_1\n",
    "X_train[:,:,:,1]=X_train_2\n",
    "X_train.shape"
   ]
  },
  {
   "cell_type": "code",
   "execution_count": 10,
   "metadata": {},
   "outputs": [
    {
     "data": {
      "text/plain": [
       "(1000, 28, 28, 2)"
      ]
     },
     "execution_count": 10,
     "metadata": {},
     "output_type": "execute_result"
    }
   ],
   "source": [
    "n_obs, n_row, n_col = X_test_1.shape\n",
    "n_chan=2\n",
    "X_test = np.zeros((n_obs, n_row, n_col, n_chan))\n",
    "X_test.shape"
   ]
  },
  {
   "cell_type": "code",
   "execution_count": 11,
   "metadata": {},
   "outputs": [
    {
     "data": {
      "text/plain": [
       "(1000, 28, 28, 2)"
      ]
     },
     "execution_count": 11,
     "metadata": {},
     "output_type": "execute_result"
    }
   ],
   "source": [
    "X_test[:,:,:,0]=X_test_1\n",
    "X_test[:,:,:,1]=X_test_2\n",
    "X_test.shape"
   ]
  },
  {
   "cell_type": "markdown",
   "metadata": {},
   "source": [
    "# Shuffle X_train"
   ]
  },
  {
   "cell_type": "code",
   "execution_count": 12,
   "metadata": {},
   "outputs": [],
   "source": [
    "arr = np.arange(y_train.shape[0])\n",
    "np.random.shuffle(arr)\n",
    "X_train = X_train[arr,:,:,:]\n",
    "y_train = y_train[arr]"
   ]
  },
  {
   "cell_type": "markdown",
   "metadata": {},
   "source": [
    "### 3. Rescale the Images by Dividing Every Pixel in Every Image by 255"
   ]
  },
  {
   "cell_type": "code",
   "execution_count": 13,
   "metadata": {},
   "outputs": [],
   "source": [
    "# rescale [0,255] --> [0,1]\n",
    "X_train = X_train.astype('float32')/255\n",
    "X_test = X_test.astype('float32')/255"
   ]
  },
  {
   "cell_type": "markdown",
   "metadata": {},
   "source": [
    "### 4.  Break Dataset into Training, Testing, and Validation Sets"
   ]
  },
  {
   "cell_type": "code",
   "execution_count": 14,
   "metadata": {},
   "outputs": [
    {
     "name": "stdout",
     "output_type": "stream",
     "text": [
      "x_train shape: (1800, 28, 28, 2)\n",
      "1800 train samples\n",
      "1000 test samples\n",
      "400 validation samples\n"
     ]
    }
   ],
   "source": [
    "# break training set into training and validation sets\n",
    "(X_train, X_valid) = X_train[:1800], X_train[1800:]\n",
    "(y_train, y_valid) = y_train[:1800], y_train[1800:]\n",
    "\n",
    "# print shape of training set\n",
    "print('x_train shape:', X_train.shape)\n",
    "\n",
    "# print number of training, validation, and test images\n",
    "print(X_train.shape[0], 'train samples')\n",
    "print(X_test.shape[0], 'test samples')\n",
    "print(X_valid.shape[0], 'validation samples')"
   ]
  },
  {
   "cell_type": "code",
   "execution_count": 15,
   "metadata": {},
   "outputs": [],
   "source": [
    "n_obs, n_row, n_col, n_chan = X_train.shape"
   ]
  },
  {
   "cell_type": "code",
   "execution_count": 16,
   "metadata": {},
   "outputs": [
    {
     "name": "stdout",
     "output_type": "stream",
     "text": [
      "1800 28 28 2\n"
     ]
    }
   ],
   "source": [
    "print(n_obs, n_row, n_col, n_chan)"
   ]
  },
  {
   "cell_type": "markdown",
   "metadata": {},
   "source": [
    "### 5. Define the Model Architecture "
   ]
  },
  {
   "cell_type": "code",
   "execution_count": 22,
   "metadata": {},
   "outputs": [
    {
     "name": "stdout",
     "output_type": "stream",
     "text": [
      "_________________________________________________________________\n",
      "Layer (type)                 Output Shape              Param #   \n",
      "=================================================================\n",
      "conv2d_5 (Conv2D)            (None, 27, 27, 16)        144       \n",
      "_________________________________________________________________\n",
      "max_pooling2d_5 (MaxPooling2 (None, 26, 26, 16)        0         \n",
      "_________________________________________________________________\n",
      "conv2d_6 (Conv2D)            (None, 25, 25, 32)        2080      \n",
      "_________________________________________________________________\n",
      "max_pooling2d_6 (MaxPooling2 (None, 12, 12, 32)        0         \n",
      "_________________________________________________________________\n",
      "flatten_1 (Flatten)          (None, 4608)              0         \n",
      "_________________________________________________________________\n",
      "dense_1 (Dense)              (None, 200)               921800    \n",
      "_________________________________________________________________\n",
      "dense_2 (Dense)              (None, 2)                 402       \n",
      "=================================================================\n",
      "Total params: 924,426\n",
      "Trainable params: 924,426\n",
      "Non-trainable params: 0\n",
      "_________________________________________________________________\n"
     ]
    }
   ],
   "source": [
    "from keras.models import Sequential\n",
    "from keras.layers import Conv2D, MaxPooling2D, Flatten, Dense, Dropout\n",
    "\n",
    "# \"valid\" means no padding. \"same\" results in padding\n",
    "model = Sequential()\n",
    "model.add(Conv2D(filters=16, kernel_size=2, padding='valid', activation='relu', strides=(1,1), input_shape=(n_row, n_col, n_chan)))\n",
    "model.add(MaxPooling2D(pool_size=2, strides=(1,1)))\n",
    "model.add(Conv2D(filters=32, kernel_size=2, padding='valid', activation='relu', strides=(1,1)))\n",
    "model.add(MaxPooling2D(pool_size=2,strides=2))\n",
    "model.add(Flatten())\n",
    "model.add(Dense(200, activation='relu'))\n",
    "model.add(Dense(num_classes, activation='sigmoid'))\n",
    "model.summary()"
   ]
  },
  {
   "cell_type": "markdown",
   "metadata": {},
   "source": [
    "from keras.models import Sequential\n",
    "from keras.layers import Conv2D, MaxPooling2D, Flatten, Dense, Dropout\n",
    "\n",
    "# \"valid\" means no padding. \"same\" results in padding\n",
    "model = Sequential()\n",
    "model.add(Conv2D(filters=16, kernel_size=2, padding='valid', activation='relu', strides=(1,1), input_shape=(n_row, n_col, n_chan)))\n",
    "model.add(MaxPooling2D(pool_size=2, strides=(1,1)))\n",
    "model.add(Conv2D(filters=32, kernel_size=2, padding='valid', activation='relu', strides=(1,1)))\n",
    "model.add(MaxPooling2D(pool_size=2,strides=2)\n",
    "\n",
    "'''\n",
    "model.add(Conv2D(filters=64, kernel_size=2, padding='valid', activation='relu', strides=(1,1)))\n",
    "model.add(MaxPooling2D(pool_size=2))\n",
    "model.add(Conv2D(filters=128, kernel_size=2, padding='valid', activation='relu', strides=(1,1)))\n",
    "model.add(MaxPooling2D(pool_size=2))'''\n",
    "#model.add(Dropout(0.3))\n",
    "model.add(Flatten())\n",
    "model.add(Dense(200, activation='relu'))\n",
    "#model.add(Dropout(0.3))\n",
    "model.add(Dense(num_classes, activation='sigmoid'))\n",
    "\n",
    "model.summary()"
   ]
  },
  {
   "cell_type": "markdown",
   "metadata": {},
   "source": [
    "### 6. Compile the Model "
   ]
  },
  {
   "cell_type": "code",
   "execution_count": 23,
   "metadata": {},
   "outputs": [
    {
     "name": "stdout",
     "output_type": "stream",
     "text": [
      "WARNING:tensorflow:From C:\\ProgramData\\Anaconda3\\lib\\site-packages\\keras\\optimizers.py:790: The name tf.train.Optimizer is deprecated. Please use tf.compat.v1.train.Optimizer instead.\n",
      "\n",
      "WARNING:tensorflow:From C:\\ProgramData\\Anaconda3\\lib\\site-packages\\keras\\backend\\tensorflow_backend.py:3295: The name tf.log is deprecated. Please use tf.math.log instead.\n",
      "\n"
     ]
    }
   ],
   "source": [
    "# compile the model\n",
    "model.compile(loss='categorical_crossentropy', optimizer='rmsprop', \n",
    "                  metrics=['accuracy'])"
   ]
  },
  {
   "cell_type": "markdown",
   "metadata": {},
   "source": [
    "### 7. Train the Model "
   ]
  },
  {
   "cell_type": "code",
   "execution_count": 24,
   "metadata": {},
   "outputs": [],
   "source": [
    "model_path = 'model_15.weights.best.hdf5'"
   ]
  },
  {
   "cell_type": "code",
   "execution_count": 26,
   "metadata": {
    "scrolled": false
   },
   "outputs": [
    {
     "name": "stdout",
     "output_type": "stream",
     "text": [
      "Train on 1800 samples, validate on 400 samples\n",
      "Epoch 1/100\n",
      " - 3s - loss: 0.1472 - acc: 0.9517 - val_loss: 0.8471 - val_acc: 0.6650\n",
      "\n",
      "Epoch 00001: val_loss improved from inf to 0.84705, saving model to model_15.weights.best.hdf5\n",
      "Epoch 2/100\n",
      " - 3s - loss: 0.1433 - acc: 0.9494 - val_loss: 0.8321 - val_acc: 0.6900\n",
      "\n",
      "Epoch 00002: val_loss improved from 0.84705 to 0.83213, saving model to model_15.weights.best.hdf5\n",
      "Epoch 3/100\n",
      " - 3s - loss: 0.1454 - acc: 0.9494 - val_loss: 0.8307 - val_acc: 0.6850\n",
      "\n",
      "Epoch 00003: val_loss improved from 0.83213 to 0.83071, saving model to model_15.weights.best.hdf5\n",
      "Epoch 4/100\n",
      " - 4s - loss: 0.1071 - acc: 0.9711 - val_loss: 1.0492 - val_acc: 0.6600\n",
      "\n",
      "Epoch 00004: val_loss did not improve from 0.83071\n",
      "Epoch 5/100\n",
      " - 4s - loss: 0.1084 - acc: 0.9683 - val_loss: 0.9585 - val_acc: 0.6675\n",
      "\n",
      "Epoch 00005: val_loss did not improve from 0.83071\n",
      "Epoch 6/100\n",
      " - 3s - loss: 0.0972 - acc: 0.9750 - val_loss: 1.0781 - val_acc: 0.6750\n",
      "\n",
      "Epoch 00006: val_loss did not improve from 0.83071\n",
      "Epoch 7/100\n",
      " - 3s - loss: 0.0970 - acc: 0.9722 - val_loss: 1.0572 - val_acc: 0.6825\n",
      "\n",
      "Epoch 00007: val_loss did not improve from 0.83071\n",
      "Epoch 8/100\n",
      " - 3s - loss: 0.0895 - acc: 0.9711 - val_loss: 1.2557 - val_acc: 0.6325\n",
      "\n",
      "Epoch 00008: val_loss did not improve from 0.83071\n",
      "Epoch 9/100\n",
      " - 3s - loss: 0.0982 - acc: 0.9778 - val_loss: 0.9445 - val_acc: 0.6600\n",
      "\n",
      "Epoch 00009: val_loss did not improve from 0.83071\n",
      "Epoch 10/100\n",
      " - 3s - loss: 0.0333 - acc: 0.9978 - val_loss: 1.1280 - val_acc: 0.6775\n",
      "\n",
      "Epoch 00010: val_loss did not improve from 0.83071\n",
      "Epoch 11/100\n",
      " - 3s - loss: 0.0732 - acc: 0.9772 - val_loss: 1.2737 - val_acc: 0.6425\n",
      "\n",
      "Epoch 00011: val_loss did not improve from 0.83071\n",
      "Epoch 12/100\n",
      " - 4s - loss: 0.0996 - acc: 0.9617 - val_loss: 1.0474 - val_acc: 0.6575\n",
      "\n",
      "Epoch 00012: val_loss did not improve from 0.83071\n",
      "Epoch 13/100\n",
      " - 4s - loss: 0.0506 - acc: 0.9856 - val_loss: 1.0243 - val_acc: 0.6400\n",
      "\n",
      "Epoch 00013: val_loss did not improve from 0.83071\n",
      "Epoch 14/100\n",
      " - 4s - loss: 0.0601 - acc: 0.9833 - val_loss: 1.0433 - val_acc: 0.6775\n",
      "\n",
      "Epoch 00014: val_loss did not improve from 0.83071\n",
      "Epoch 15/100\n",
      " - 3s - loss: 0.0780 - acc: 0.9761 - val_loss: 1.0387 - val_acc: 0.6750\n",
      "\n",
      "Epoch 00015: val_loss did not improve from 0.83071\n",
      "Epoch 16/100\n",
      " - 3s - loss: 0.0380 - acc: 0.9889 - val_loss: 1.1099 - val_acc: 0.6575\n",
      "\n",
      "Epoch 00016: val_loss did not improve from 0.83071\n",
      "Epoch 17/100\n",
      " - 3s - loss: 0.0526 - acc: 0.9794 - val_loss: 1.1159 - val_acc: 0.6700\n",
      "\n",
      "Epoch 00017: val_loss did not improve from 0.83071\n",
      "Epoch 18/100\n",
      " - 3s - loss: 0.0633 - acc: 0.9822 - val_loss: 1.1445 - val_acc: 0.6625\n",
      "\n",
      "Epoch 00018: val_loss did not improve from 0.83071\n",
      "Epoch 19/100\n",
      " - 3s - loss: 0.0325 - acc: 0.9906 - val_loss: 2.1873 - val_acc: 0.5875\n",
      "\n",
      "Epoch 00019: val_loss did not improve from 0.83071\n",
      "Epoch 20/100\n",
      " - 3s - loss: 0.0272 - acc: 0.9933 - val_loss: 1.2844 - val_acc: 0.6750\n",
      "\n",
      "Epoch 00020: val_loss did not improve from 0.83071\n",
      "Epoch 21/100\n",
      " - 3s - loss: 0.0529 - acc: 0.9850 - val_loss: 1.2546 - val_acc: 0.6725\n",
      "\n",
      "Epoch 00021: val_loss did not improve from 0.83071\n",
      "Epoch 22/100\n",
      " - 3s - loss: 0.0550 - acc: 0.9833 - val_loss: 1.1922 - val_acc: 0.6750\n",
      "\n",
      "Epoch 00022: val_loss did not improve from 0.83071\n",
      "Epoch 23/100\n",
      " - 3s - loss: 0.0051 - acc: 1.0000 - val_loss: 1.4688 - val_acc: 0.6450\n",
      "\n",
      "Epoch 00023: val_loss did not improve from 0.83071\n",
      "Epoch 24/100\n",
      " - 3s - loss: 0.0643 - acc: 0.9867 - val_loss: 1.3656 - val_acc: 0.6700\n",
      "\n",
      "Epoch 00024: val_loss did not improve from 0.83071\n",
      "Epoch 25/100\n",
      " - 3s - loss: 0.0708 - acc: 0.9783 - val_loss: 1.2020 - val_acc: 0.6750\n",
      "\n",
      "Epoch 00025: val_loss did not improve from 0.83071\n",
      "Epoch 26/100\n",
      " - 3s - loss: 0.0044 - acc: 1.0000 - val_loss: 1.4749 - val_acc: 0.6900\n",
      "\n",
      "Epoch 00026: val_loss did not improve from 0.83071\n",
      "Epoch 27/100\n",
      " - 3s - loss: 0.0731 - acc: 0.9828 - val_loss: 1.2944 - val_acc: 0.6725\n",
      "\n",
      "Epoch 00027: val_loss did not improve from 0.83071\n",
      "Epoch 28/100\n",
      " - 3s - loss: 0.0031 - acc: 1.0000 - val_loss: 1.5301 - val_acc: 0.6600\n",
      "\n",
      "Epoch 00028: val_loss did not improve from 0.83071\n",
      "Epoch 29/100\n",
      " - 3s - loss: 0.0697 - acc: 0.9806 - val_loss: 1.3493 - val_acc: 0.6675\n",
      "\n",
      "Epoch 00029: val_loss did not improve from 0.83071\n",
      "Epoch 30/100\n",
      " - 3s - loss: 0.0023 - acc: 1.0000 - val_loss: 1.5558 - val_acc: 0.6650\n",
      "\n",
      "Epoch 00030: val_loss did not improve from 0.83071\n",
      "Epoch 31/100\n",
      " - 3s - loss: 0.0555 - acc: 0.9867 - val_loss: 1.4099 - val_acc: 0.6600\n",
      "\n",
      "Epoch 00031: val_loss did not improve from 0.83071\n",
      "Epoch 32/100\n",
      " - 4s - loss: 0.0018 - acc: 1.0000 - val_loss: 2.2772 - val_acc: 0.6700\n",
      "\n",
      "Epoch 00032: val_loss did not improve from 0.83071\n",
      "Epoch 33/100\n",
      " - 3s - loss: 0.0921 - acc: 0.9822 - val_loss: 1.4956 - val_acc: 0.6650\n",
      "\n",
      "Epoch 00033: val_loss did not improve from 0.83071\n",
      "Epoch 34/100\n",
      " - 3s - loss: 0.0756 - acc: 0.9822 - val_loss: 1.3903 - val_acc: 0.6500\n",
      "\n",
      "Epoch 00034: val_loss did not improve from 0.83071\n",
      "Epoch 35/100\n",
      " - 3s - loss: 0.0038 - acc: 1.0000 - val_loss: 1.5458 - val_acc: 0.6700\n",
      "\n",
      "Epoch 00035: val_loss did not improve from 0.83071\n",
      "Epoch 36/100\n",
      " - 3s - loss: 0.0010 - acc: 1.0000 - val_loss: nan - val_acc: 0.6850\n",
      "\n",
      "Epoch 00036: val_loss did not improve from 0.83071\n",
      "Epoch 37/100\n"
     ]
    },
    {
     "name": "stderr",
     "output_type": "stream",
     "text": [
      "C:\\ProgramData\\Anaconda3\\lib\\site-packages\\keras\\callbacks.py:436: RuntimeWarning: invalid value encountered in less\n",
      "  if self.monitor_op(current, self.best):\n"
     ]
    },
    {
     "name": "stdout",
     "output_type": "stream",
     "text": [
      " - 3s - loss: nan - acc: 0.5744 - val_loss: nan - val_acc: 0.5225\n",
      "\n",
      "Epoch 00037: val_loss did not improve from 0.83071\n",
      "Epoch 38/100\n",
      " - 3s - loss: nan - acc: 0.4950 - val_loss: nan - val_acc: 0.5225\n",
      "\n",
      "Epoch 00038: val_loss did not improve from 0.83071\n",
      "Epoch 39/100\n",
      " - 3s - loss: nan - acc: 0.4950 - val_loss: nan - val_acc: 0.5225\n",
      "\n",
      "Epoch 00039: val_loss did not improve from 0.83071\n",
      "Epoch 40/100\n",
      " - 3s - loss: nan - acc: 0.4950 - val_loss: nan - val_acc: 0.5225\n",
      "\n",
      "Epoch 00040: val_loss did not improve from 0.83071\n",
      "Epoch 41/100\n",
      " - 3s - loss: nan - acc: 0.4950 - val_loss: nan - val_acc: 0.5225\n",
      "\n",
      "Epoch 00041: val_loss did not improve from 0.83071\n",
      "Epoch 42/100\n",
      " - 3s - loss: nan - acc: 0.4950 - val_loss: nan - val_acc: 0.5225\n",
      "\n",
      "Epoch 00042: val_loss did not improve from 0.83071\n",
      "Epoch 43/100\n",
      " - 3s - loss: nan - acc: 0.4950 - val_loss: nan - val_acc: 0.5225\n",
      "\n",
      "Epoch 00043: val_loss did not improve from 0.83071\n",
      "Epoch 44/100\n",
      " - 3s - loss: nan - acc: 0.4950 - val_loss: nan - val_acc: 0.5225\n",
      "\n",
      "Epoch 00044: val_loss did not improve from 0.83071\n",
      "Epoch 45/100\n",
      " - 3s - loss: nan - acc: 0.4950 - val_loss: nan - val_acc: 0.5225\n",
      "\n",
      "Epoch 00045: val_loss did not improve from 0.83071\n",
      "Epoch 46/100\n",
      " - 3s - loss: nan - acc: 0.4950 - val_loss: nan - val_acc: 0.5225\n",
      "\n",
      "Epoch 00046: val_loss did not improve from 0.83071\n",
      "Epoch 47/100\n",
      " - 3s - loss: nan - acc: 0.4950 - val_loss: nan - val_acc: 0.5225\n",
      "\n",
      "Epoch 00047: val_loss did not improve from 0.83071\n",
      "Epoch 48/100\n",
      " - 3s - loss: nan - acc: 0.4950 - val_loss: nan - val_acc: 0.5225\n",
      "\n",
      "Epoch 00048: val_loss did not improve from 0.83071\n",
      "Epoch 49/100\n",
      " - 3s - loss: nan - acc: 0.4950 - val_loss: nan - val_acc: 0.5225\n",
      "\n",
      "Epoch 00049: val_loss did not improve from 0.83071\n",
      "Epoch 50/100\n",
      " - 3s - loss: nan - acc: 0.4950 - val_loss: nan - val_acc: 0.5225\n",
      "\n",
      "Epoch 00050: val_loss did not improve from 0.83071\n",
      "Epoch 51/100\n",
      " - 3s - loss: nan - acc: 0.4950 - val_loss: nan - val_acc: 0.5225\n",
      "\n",
      "Epoch 00051: val_loss did not improve from 0.83071\n",
      "Epoch 52/100\n",
      " - 3s - loss: nan - acc: 0.4950 - val_loss: nan - val_acc: 0.5225\n",
      "\n",
      "Epoch 00052: val_loss did not improve from 0.83071\n",
      "Epoch 53/100\n",
      " - 3s - loss: nan - acc: 0.4950 - val_loss: nan - val_acc: 0.5225\n",
      "\n",
      "Epoch 00053: val_loss did not improve from 0.83071\n",
      "Epoch 54/100\n",
      " - 3s - loss: nan - acc: 0.4950 - val_loss: nan - val_acc: 0.5225\n",
      "\n",
      "Epoch 00054: val_loss did not improve from 0.83071\n",
      "Epoch 55/100\n",
      " - 3s - loss: nan - acc: 0.4950 - val_loss: nan - val_acc: 0.5225\n",
      "\n",
      "Epoch 00055: val_loss did not improve from 0.83071\n",
      "Epoch 56/100\n",
      " - 3s - loss: nan - acc: 0.4950 - val_loss: nan - val_acc: 0.5225\n",
      "\n",
      "Epoch 00056: val_loss did not improve from 0.83071\n",
      "Epoch 57/100\n",
      " - 3s - loss: nan - acc: 0.4950 - val_loss: nan - val_acc: 0.5225\n",
      "\n",
      "Epoch 00057: val_loss did not improve from 0.83071\n",
      "Epoch 58/100\n",
      " - 3s - loss: nan - acc: 0.4950 - val_loss: nan - val_acc: 0.5225\n",
      "\n",
      "Epoch 00058: val_loss did not improve from 0.83071\n",
      "Epoch 59/100\n",
      " - 3s - loss: nan - acc: 0.4950 - val_loss: nan - val_acc: 0.5225\n",
      "\n",
      "Epoch 00059: val_loss did not improve from 0.83071\n",
      "Epoch 60/100\n",
      " - 4s - loss: nan - acc: 0.4950 - val_loss: nan - val_acc: 0.5225\n",
      "\n",
      "Epoch 00060: val_loss did not improve from 0.83071\n",
      "Epoch 61/100\n",
      " - 3s - loss: nan - acc: 0.4950 - val_loss: nan - val_acc: 0.5225\n",
      "\n",
      "Epoch 00061: val_loss did not improve from 0.83071\n",
      "Epoch 62/100\n",
      " - 3s - loss: nan - acc: 0.4950 - val_loss: nan - val_acc: 0.5225\n",
      "\n",
      "Epoch 00062: val_loss did not improve from 0.83071\n",
      "Epoch 63/100\n",
      " - 3s - loss: nan - acc: 0.4950 - val_loss: nan - val_acc: 0.5225\n",
      "\n",
      "Epoch 00063: val_loss did not improve from 0.83071\n",
      "Epoch 64/100\n",
      " - 3s - loss: nan - acc: 0.4950 - val_loss: nan - val_acc: 0.5225\n",
      "\n",
      "Epoch 00064: val_loss did not improve from 0.83071\n",
      "Epoch 65/100\n",
      " - 3s - loss: nan - acc: 0.4950 - val_loss: nan - val_acc: 0.5225\n",
      "\n",
      "Epoch 00065: val_loss did not improve from 0.83071\n",
      "Epoch 66/100\n",
      " - 3s - loss: nan - acc: 0.4950 - val_loss: nan - val_acc: 0.5225\n",
      "\n",
      "Epoch 00066: val_loss did not improve from 0.83071\n",
      "Epoch 67/100\n",
      " - 3s - loss: nan - acc: 0.4950 - val_loss: nan - val_acc: 0.5225\n",
      "\n",
      "Epoch 00067: val_loss did not improve from 0.83071\n",
      "Epoch 68/100\n",
      " - 3s - loss: nan - acc: 0.4950 - val_loss: nan - val_acc: 0.5225\n",
      "\n",
      "Epoch 00068: val_loss did not improve from 0.83071\n",
      "Epoch 69/100\n",
      " - 3s - loss: nan - acc: 0.4950 - val_loss: nan - val_acc: 0.5225\n",
      "\n",
      "Epoch 00069: val_loss did not improve from 0.83071\n",
      "Epoch 70/100\n",
      " - 3s - loss: nan - acc: 0.4950 - val_loss: nan - val_acc: 0.5225\n",
      "\n",
      "Epoch 00070: val_loss did not improve from 0.83071\n",
      "Epoch 71/100\n",
      " - 3s - loss: nan - acc: 0.4950 - val_loss: nan - val_acc: 0.5225\n",
      "\n",
      "Epoch 00071: val_loss did not improve from 0.83071\n",
      "Epoch 72/100\n",
      " - 3s - loss: nan - acc: 0.4950 - val_loss: nan - val_acc: 0.5225\n",
      "\n",
      "Epoch 00072: val_loss did not improve from 0.83071\n",
      "Epoch 73/100\n",
      " - 3s - loss: nan - acc: 0.4950 - val_loss: nan - val_acc: 0.5225\n",
      "\n",
      "Epoch 00073: val_loss did not improve from 0.83071\n",
      "Epoch 74/100\n",
      " - 3s - loss: nan - acc: 0.4950 - val_loss: nan - val_acc: 0.5225\n",
      "\n",
      "Epoch 00074: val_loss did not improve from 0.83071\n",
      "Epoch 75/100\n",
      " - 3s - loss: nan - acc: 0.4950 - val_loss: nan - val_acc: 0.5225\n",
      "\n",
      "Epoch 00075: val_loss did not improve from 0.83071\n",
      "Epoch 76/100\n",
      " - 3s - loss: nan - acc: 0.4950 - val_loss: nan - val_acc: 0.5225\n",
      "\n",
      "Epoch 00076: val_loss did not improve from 0.83071\n",
      "Epoch 77/100\n",
      " - 3s - loss: nan - acc: 0.4950 - val_loss: nan - val_acc: 0.5225\n",
      "\n",
      "Epoch 00077: val_loss did not improve from 0.83071\n",
      "Epoch 78/100\n",
      " - 3s - loss: nan - acc: 0.4950 - val_loss: nan - val_acc: 0.5225\n",
      "\n",
      "Epoch 00078: val_loss did not improve from 0.83071\n",
      "Epoch 79/100\n",
      " - 3s - loss: nan - acc: 0.4950 - val_loss: nan - val_acc: 0.5225\n",
      "\n",
      "Epoch 00079: val_loss did not improve from 0.83071\n",
      "Epoch 80/100\n",
      " - 3s - loss: nan - acc: 0.4950 - val_loss: nan - val_acc: 0.5225\n",
      "\n",
      "Epoch 00080: val_loss did not improve from 0.83071\n",
      "Epoch 81/100\n",
      " - 3s - loss: nan - acc: 0.4950 - val_loss: nan - val_acc: 0.5225\n",
      "\n",
      "Epoch 00081: val_loss did not improve from 0.83071\n",
      "Epoch 82/100\n",
      " - 3s - loss: nan - acc: 0.4950 - val_loss: nan - val_acc: 0.5225\n",
      "\n",
      "Epoch 00082: val_loss did not improve from 0.83071\n",
      "Epoch 83/100\n",
      " - 3s - loss: nan - acc: 0.4950 - val_loss: nan - val_acc: 0.5225\n",
      "\n",
      "Epoch 00083: val_loss did not improve from 0.83071\n",
      "Epoch 84/100\n",
      " - 3s - loss: nan - acc: 0.4950 - val_loss: nan - val_acc: 0.5225\n",
      "\n",
      "Epoch 00084: val_loss did not improve from 0.83071\n",
      "Epoch 85/100\n",
      " - 3s - loss: nan - acc: 0.4950 - val_loss: nan - val_acc: 0.5225\n",
      "\n",
      "Epoch 00085: val_loss did not improve from 0.83071\n",
      "Epoch 86/100\n",
      " - 3s - loss: nan - acc: 0.4950 - val_loss: nan - val_acc: 0.5225\n",
      "\n",
      "Epoch 00086: val_loss did not improve from 0.83071\n",
      "Epoch 87/100\n",
      " - 3s - loss: nan - acc: 0.4950 - val_loss: nan - val_acc: 0.5225\n",
      "\n",
      "Epoch 00087: val_loss did not improve from 0.83071\n",
      "Epoch 88/100\n",
      " - 3s - loss: nan - acc: 0.4950 - val_loss: nan - val_acc: 0.5225\n",
      "\n",
      "Epoch 00088: val_loss did not improve from 0.83071\n",
      "Epoch 89/100\n",
      " - 3s - loss: nan - acc: 0.4950 - val_loss: nan - val_acc: 0.5225\n",
      "\n",
      "Epoch 00089: val_loss did not improve from 0.83071\n",
      "Epoch 90/100\n",
      " - 3s - loss: nan - acc: 0.4950 - val_loss: nan - val_acc: 0.5225\n",
      "\n",
      "Epoch 00090: val_loss did not improve from 0.83071\n",
      "Epoch 91/100\n",
      " - 3s - loss: nan - acc: 0.4950 - val_loss: nan - val_acc: 0.5225\n",
      "\n",
      "Epoch 00091: val_loss did not improve from 0.83071\n",
      "Epoch 92/100\n",
      " - 3s - loss: nan - acc: 0.4950 - val_loss: nan - val_acc: 0.5225\n",
      "\n",
      "Epoch 00092: val_loss did not improve from 0.83071\n",
      "Epoch 93/100\n",
      " - 3s - loss: nan - acc: 0.4950 - val_loss: nan - val_acc: 0.5225\n",
      "\n",
      "Epoch 00093: val_loss did not improve from 0.83071\n",
      "Epoch 94/100\n",
      " - 3s - loss: nan - acc: 0.4950 - val_loss: nan - val_acc: 0.5225\n",
      "\n",
      "Epoch 00094: val_loss did not improve from 0.83071\n",
      "Epoch 95/100\n",
      " - 3s - loss: nan - acc: 0.4950 - val_loss: nan - val_acc: 0.5225\n",
      "\n",
      "Epoch 00095: val_loss did not improve from 0.83071\n",
      "Epoch 96/100\n",
      " - 3s - loss: nan - acc: 0.4950 - val_loss: nan - val_acc: 0.5225\n",
      "\n",
      "Epoch 00096: val_loss did not improve from 0.83071\n",
      "Epoch 97/100\n",
      " - 3s - loss: nan - acc: 0.4950 - val_loss: nan - val_acc: 0.5225\n",
      "\n",
      "Epoch 00097: val_loss did not improve from 0.83071\n",
      "Epoch 98/100\n",
      " - 3s - loss: nan - acc: 0.4950 - val_loss: nan - val_acc: 0.5225\n",
      "\n",
      "Epoch 00098: val_loss did not improve from 0.83071\n",
      "Epoch 99/100\n",
      " - 3s - loss: nan - acc: 0.4950 - val_loss: nan - val_acc: 0.5225\n",
      "\n",
      "Epoch 00099: val_loss did not improve from 0.83071\n",
      "Epoch 100/100\n"
     ]
    },
    {
     "name": "stdout",
     "output_type": "stream",
     "text": [
      " - 3s - loss: nan - acc: 0.4950 - val_loss: nan - val_acc: 0.5225\n",
      "\n",
      "Epoch 00100: val_loss did not improve from 0.83071\n"
     ]
    }
   ],
   "source": [
    "from keras.callbacks import ModelCheckpoint   \n",
    "\n",
    "# train the model\n",
    "checkpointer = ModelCheckpoint(filepath=model_path, verbose=1, \n",
    "                               save_best_only=True)\n",
    "hist = model.fit(X_train, y_train, batch_size=50, epochs=100,\n",
    "          validation_data=(X_valid, y_valid), callbacks=[checkpointer], \n",
    "          verbose=2, shuffle=True)"
   ]
  },
  {
   "cell_type": "code",
   "execution_count": null,
   "metadata": {},
   "outputs": [],
   "source": []
  },
  {
   "cell_type": "code",
   "execution_count": null,
   "metadata": {},
   "outputs": [],
   "source": []
  },
  {
   "cell_type": "code",
   "execution_count": 27,
   "metadata": {},
   "outputs": [
    {
     "data": {
      "text/plain": [
       "'model_15.weights.best.hdf5'"
      ]
     },
     "execution_count": 27,
     "metadata": {},
     "output_type": "execute_result"
    }
   ],
   "source": [
    "model_path"
   ]
  },
  {
   "cell_type": "markdown",
   "metadata": {},
   "source": [
    "### 8. Load the Model with the Best Validation Accuracy"
   ]
  },
  {
   "cell_type": "code",
   "execution_count": 28,
   "metadata": {},
   "outputs": [],
   "source": [
    "# load the weights that yielded the best validation accuracy\n",
    "model.load_weights(model_path)"
   ]
  },
  {
   "cell_type": "markdown",
   "metadata": {},
   "source": [
    "### 9. Calculate Classification Accuracy on Test Set"
   ]
  },
  {
   "cell_type": "code",
   "execution_count": 29,
   "metadata": {},
   "outputs": [
    {
     "name": "stdout",
     "output_type": "stream",
     "text": [
      "\n",
      " Test accuracy: 0.677\n"
     ]
    }
   ],
   "source": [
    "# evaluate and print test accuracy\n",
    "score = model.evaluate(X_test, y_test, verbose=0)\n",
    "print('\\n', 'Test accuracy:', score[1])"
   ]
  },
  {
   "cell_type": "code",
   "execution_count": 30,
   "metadata": {},
   "outputs": [
    {
     "data": {
      "text/plain": [
       "array([[2.5439262e-04, 1.1388659e-03],\n",
       "       [1.8231273e-03, 2.5123358e-05],\n",
       "       [1.6225874e-03, 1.2640059e-03],\n",
       "       ...,\n",
       "       [1.5443563e-04, 6.8783462e-03],\n",
       "       [4.2042196e-02, 2.2790134e-03],\n",
       "       [4.3201149e-03, 1.3833761e-02]], dtype=float32)"
      ]
     },
     "execution_count": 30,
     "metadata": {},
     "output_type": "execute_result"
    }
   ],
   "source": [
    "model.predict(X_test)"
   ]
  },
  {
   "cell_type": "code",
   "execution_count": 31,
   "metadata": {},
   "outputs": [
    {
     "data": {
      "text/plain": [
       "'model_15.weights.best.hdf5'"
      ]
     },
     "execution_count": 31,
     "metadata": {},
     "output_type": "execute_result"
    }
   ],
   "source": [
    "model_path"
   ]
  },
  {
   "cell_type": "code",
   "execution_count": null,
   "metadata": {},
   "outputs": [],
   "source": []
  }
 ],
 "metadata": {
  "kernelspec": {
   "display_name": "Python 3",
   "language": "python",
   "name": "python3"
  },
  "language_info": {
   "codemirror_mode": {
    "name": "ipython",
    "version": 3
   },
   "file_extension": ".py",
   "mimetype": "text/x-python",
   "name": "python",
   "nbconvert_exporter": "python",
   "pygments_lexer": "ipython3",
   "version": "3.6.5"
  }
 },
 "nbformat": 4,
 "nbformat_minor": 2
}
