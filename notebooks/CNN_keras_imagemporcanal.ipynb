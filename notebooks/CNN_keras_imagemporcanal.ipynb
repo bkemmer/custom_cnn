{
 "cells": [
  {
   "cell_type": "code",
   "execution_count": 1,
   "metadata": {},
   "outputs": [
    {
     "name": "stderr",
     "output_type": "stream",
     "text": [
      "Using TensorFlow backend.\n"
     ]
    }
   ],
   "source": [
    "import keras\n",
    "import numpy as np\n",
    "import scipy.io\n",
    "from pathlib import Path\n",
    "import os"
   ]
  },
  {
   "cell_type": "markdown",
   "metadata": {},
   "source": [
    "## Open labels"
   ]
  },
  {
   "cell_type": "code",
   "execution_count": 2,
   "metadata": {},
   "outputs": [],
   "source": [
    "path = 'C:\\\\Users\\\\Rodolfo\\\\Documents\\\\algoritmos-git\\\\custom_cnn\\\\Data\\\\Processados\\\\'"
   ]
  },
  {
   "cell_type": "code",
   "execution_count": 3,
   "metadata": {},
   "outputs": [],
   "source": [
    "y_train = np.load(Path(path,'y_train.npy'))\n",
    "y_test = np.load(Path(path, 'y_test.npy'))\n",
    "y_train = np.expand_dims(y_train, axis=1)\n",
    "y_test = np.expand_dims(y_test, axis=1)"
   ]
  },
  {
   "cell_type": "code",
   "execution_count": 4,
   "metadata": {},
   "outputs": [],
   "source": [
    "from keras.utils import np_utils\n",
    "# one-hot encode the labels\n",
    "num_classes = len(np.unique(y_train))\n",
    "y_train = keras.utils.to_categorical(y_train, num_classes)\n",
    "y_test = keras.utils.to_categorical(y_test, num_classes)"
   ]
  },
  {
   "cell_type": "code",
   "execution_count": 5,
   "metadata": {},
   "outputs": [
    {
     "data": {
      "text/plain": [
       "array([[0., 1.],\n",
       "       [0., 1.],\n",
       "       [0., 1.],\n",
       "       ...,\n",
       "       [1., 0.],\n",
       "       [1., 0.],\n",
       "       [1., 0.]], dtype=float32)"
      ]
     },
     "execution_count": 5,
     "metadata": {},
     "output_type": "execute_result"
    }
   ],
   "source": [
    "y_train"
   ]
  },
  {
   "cell_type": "code",
   "execution_count": 6,
   "metadata": {},
   "outputs": [
    {
     "data": {
      "text/plain": [
       "array([[0., 1.],\n",
       "       [0., 1.],\n",
       "       [0., 1.],\n",
       "       ...,\n",
       "       [1., 0.],\n",
       "       [1., 0.],\n",
       "       [1., 0.]], dtype=float32)"
      ]
     },
     "execution_count": 6,
     "metadata": {},
     "output_type": "execute_result"
    }
   ],
   "source": [
    "y_test"
   ]
  },
  {
   "cell_type": "markdown",
   "metadata": {},
   "source": [
    "# Open data"
   ]
  },
  {
   "cell_type": "code",
   "execution_count": 7,
   "metadata": {},
   "outputs": [
    {
     "name": "stdout",
     "output_type": "stream",
     "text": [
      "(2200, 28, 28)\n",
      "(2200, 28, 28)\n",
      "(1000, 28, 28)\n",
      "(1000, 28, 28)\n"
     ]
    }
   ],
   "source": [
    "path = Path(path, '28_28')\n",
    "X_train_1 = np.load(Path(path, 'X_train_1.npy'))\n",
    "X_train_2 = np.load(Path(path, 'X_train_2.npy'))\n",
    "X_test_1 = np.load(Path(path, 'X_test_1.npy'))\n",
    "X_test_2 = np.load(Path(path, 'X_test_2.npy'))\n",
    "print(X_train_1.shape)\n",
    "print(X_train_2.shape)\n",
    "print(X_test_1.shape)\n",
    "print(X_test_2.shape)"
   ]
  },
  {
   "cell_type": "markdown",
   "metadata": {},
   "source": [
    "### Shape desejado: x_train shape: (45000, 32, 32, 3) -> n_obs, n_row, n_col, n_chan"
   ]
  },
  {
   "cell_type": "code",
   "execution_count": 8,
   "metadata": {},
   "outputs": [
    {
     "data": {
      "text/plain": [
       "(2200, 28, 28, 2)"
      ]
     },
     "execution_count": 8,
     "metadata": {},
     "output_type": "execute_result"
    }
   ],
   "source": [
    "n_obs, n_row, n_col = X_train_1.shape\n",
    "n_chan=2\n",
    "X_train = np.zeros((n_obs, n_row, n_col, n_chan))\n",
    "X_train.shape"
   ]
  },
  {
   "cell_type": "code",
   "execution_count": 9,
   "metadata": {},
   "outputs": [
    {
     "data": {
      "text/plain": [
       "(2200, 28, 28, 2)"
      ]
     },
     "execution_count": 9,
     "metadata": {},
     "output_type": "execute_result"
    }
   ],
   "source": [
    "X_train[:,:,:,0]=X_train_1\n",
    "X_train[:,:,:,1]=X_train_2\n",
    "X_train.shape"
   ]
  },
  {
   "cell_type": "code",
   "execution_count": 10,
   "metadata": {},
   "outputs": [
    {
     "data": {
      "text/plain": [
       "(1000, 28, 28, 2)"
      ]
     },
     "execution_count": 10,
     "metadata": {},
     "output_type": "execute_result"
    }
   ],
   "source": [
    "n_obs, n_row, n_col = X_test_1.shape\n",
    "n_chan=2\n",
    "X_test = np.zeros((n_obs, n_row, n_col, n_chan))\n",
    "X_test.shape"
   ]
  },
  {
   "cell_type": "code",
   "execution_count": 11,
   "metadata": {},
   "outputs": [
    {
     "data": {
      "text/plain": [
       "(1000, 28, 28, 2)"
      ]
     },
     "execution_count": 11,
     "metadata": {},
     "output_type": "execute_result"
    }
   ],
   "source": [
    "X_test[:,:,:,0]=X_test_1\n",
    "X_test[:,:,:,1]=X_test_2\n",
    "X_test.shape"
   ]
  },
  {
   "cell_type": "markdown",
   "metadata": {},
   "source": [
    "# Shuffle X_train"
   ]
  },
  {
   "cell_type": "code",
   "execution_count": 12,
   "metadata": {},
   "outputs": [],
   "source": [
    "arr = np.arange(y_train.shape[0])\n",
    "np.random.shuffle(arr)\n",
    "X_train = X_train[arr,:,:,:]\n",
    "y_train = y_train[arr]"
   ]
  },
  {
   "cell_type": "markdown",
   "metadata": {},
   "source": [
    "### 3. Rescale the Images by Dividing Every Pixel in Every Image by 255"
   ]
  },
  {
   "cell_type": "code",
   "execution_count": 13,
   "metadata": {},
   "outputs": [],
   "source": [
    "# rescale [0,255] --> [0,1]\n",
    "X_train = X_train.astype('float32')/255\n",
    "X_test = X_test.astype('float32')/255"
   ]
  },
  {
   "cell_type": "markdown",
   "metadata": {},
   "source": [
    "### 4.  Break Dataset into Training, Testing, and Validation Sets"
   ]
  },
  {
   "cell_type": "code",
   "execution_count": 14,
   "metadata": {},
   "outputs": [
    {
     "name": "stdout",
     "output_type": "stream",
     "text": [
      "x_train shape: (1800, 28, 28, 2)\n",
      "1800 train samples\n",
      "1000 test samples\n",
      "400 validation samples\n"
     ]
    }
   ],
   "source": [
    "# break training set into training and validation sets\n",
    "(X_train, X_valid) = X_train[:1800], X_train[1800:]\n",
    "(y_train, y_valid) = y_train[:1800], y_train[1800:]\n",
    "\n",
    "# print shape of training set\n",
    "print('x_train shape:', X_train.shape)\n",
    "\n",
    "# print number of training, validation, and test images\n",
    "print(X_train.shape[0], 'train samples')\n",
    "print(X_test.shape[0], 'test samples')\n",
    "print(X_valid.shape[0], 'validation samples')"
   ]
  },
  {
   "cell_type": "code",
   "execution_count": 15,
   "metadata": {},
   "outputs": [],
   "source": [
    "n_obs, n_row, n_col, n_chan = X_train.shape"
   ]
  },
  {
   "cell_type": "code",
   "execution_count": 16,
   "metadata": {},
   "outputs": [
    {
     "name": "stdout",
     "output_type": "stream",
     "text": [
      "1800 28 28 2\n"
     ]
    }
   ],
   "source": [
    "print(n_obs, n_row, n_col, n_chan)"
   ]
  },
  {
   "cell_type": "markdown",
   "metadata": {},
   "source": [
    "### 5. Define the Model Architecture "
   ]
  },
  {
   "cell_type": "code",
   "execution_count": 17,
   "metadata": {},
   "outputs": [
    {
     "name": "stdout",
     "output_type": "stream",
     "text": [
      "WARNING:tensorflow:From C:\\ProgramData\\Anaconda3\\lib\\site-packages\\keras\\backend\\tensorflow_backend.py:74: The name tf.get_default_graph is deprecated. Please use tf.compat.v1.get_default_graph instead.\n",
      "\n",
      "WARNING:tensorflow:From C:\\ProgramData\\Anaconda3\\lib\\site-packages\\keras\\backend\\tensorflow_backend.py:517: The name tf.placeholder is deprecated. Please use tf.compat.v1.placeholder instead.\n",
      "\n",
      "WARNING:tensorflow:From C:\\ProgramData\\Anaconda3\\lib\\site-packages\\keras\\backend\\tensorflow_backend.py:4138: The name tf.random_uniform is deprecated. Please use tf.random.uniform instead.\n",
      "\n",
      "WARNING:tensorflow:From C:\\ProgramData\\Anaconda3\\lib\\site-packages\\keras\\backend\\tensorflow_backend.py:3976: The name tf.nn.max_pool is deprecated. Please use tf.nn.max_pool2d instead.\n",
      "\n",
      "WARNING:tensorflow:From C:\\ProgramData\\Anaconda3\\lib\\site-packages\\keras\\backend\\tensorflow_backend.py:133: The name tf.placeholder_with_default is deprecated. Please use tf.compat.v1.placeholder_with_default instead.\n",
      "\n",
      "WARNING:tensorflow:From C:\\ProgramData\\Anaconda3\\lib\\site-packages\\keras\\backend\\tensorflow_backend.py:3445: calling dropout (from tensorflow.python.ops.nn_ops) with keep_prob is deprecated and will be removed in a future version.\n",
      "Instructions for updating:\n",
      "Please use `rate` instead of `keep_prob`. Rate should be set to `rate = 1 - keep_prob`.\n",
      "_________________________________________________________________\n",
      "Layer (type)                 Output Shape              Param #   \n",
      "=================================================================\n",
      "conv2d_1 (Conv2D)            (None, 27, 27, 16)        144       \n",
      "_________________________________________________________________\n",
      "max_pooling2d_1 (MaxPooling2 (None, 26, 26, 16)        0         \n",
      "_________________________________________________________________\n",
      "conv2d_2 (Conv2D)            (None, 13, 13, 32)        2080      \n",
      "_________________________________________________________________\n",
      "max_pooling2d_2 (MaxPooling2 (None, 6, 6, 32)          0         \n",
      "_________________________________________________________________\n",
      "dropout_1 (Dropout)          (None, 6, 6, 32)          0         \n",
      "_________________________________________________________________\n",
      "flatten_1 (Flatten)          (None, 1152)              0         \n",
      "_________________________________________________________________\n",
      "dense_1 (Dense)              (None, 250)               288250    \n",
      "_________________________________________________________________\n",
      "dropout_2 (Dropout)          (None, 250)               0         \n",
      "_________________________________________________________________\n",
      "dense_2 (Dense)              (None, 2)                 502       \n",
      "=================================================================\n",
      "Total params: 290,976\n",
      "Trainable params: 290,976\n",
      "Non-trainable params: 0\n",
      "_________________________________________________________________\n"
     ]
    }
   ],
   "source": [
    "from keras.models import Sequential\n",
    "from keras.layers import Conv2D, MaxPooling2D, Flatten, Dense, Dropout\n",
    "\n",
    "# \"valid\" means no padding. \"same\" results in padding\n",
    "model = Sequential()\n",
    "model.add(Conv2D(filters=16, kernel_size=2, padding='valid', activation='relu', strides=(1,1), input_shape=(n_row, n_col, n_chan)))\n",
    "model.add(MaxPooling2D(pool_size=2, strides=(1,1)))\n",
    "model.add(Conv2D(filters=32, kernel_size=2, padding='valid', activation='relu', strides=(2,2)))\n",
    "model.add(MaxPooling2D(pool_size=2))\n",
    "\n",
    "'''\n",
    "model.add(Conv2D(filters=64, kernel_size=2, padding='valid', activation='relu', strides=(1,1)))\n",
    "model.add(MaxPooling2D(pool_size=2))\n",
    "model.add(Conv2D(filters=128, kernel_size=2, padding='valid', activation='relu', strides=(1,1)))\n",
    "model.add(MaxPooling2D(pool_size=2))\n",
    "'''\n",
    "model.add(Dropout(0.3))\n",
    "model.add(Flatten())\n",
    "model.add(Dense(250, activation='relu'))\n",
    "model.add(Dropout(0.3))\n",
    "model.add(Dense(num_classes, activation='softmax'))\n",
    "\n",
    "model.summary()"
   ]
  },
  {
   "cell_type": "markdown",
   "metadata": {},
   "source": [
    "### 6. Compile the Model "
   ]
  },
  {
   "cell_type": "code",
   "execution_count": 18,
   "metadata": {},
   "outputs": [
    {
     "name": "stdout",
     "output_type": "stream",
     "text": [
      "WARNING:tensorflow:From C:\\ProgramData\\Anaconda3\\lib\\site-packages\\keras\\optimizers.py:790: The name tf.train.Optimizer is deprecated. Please use tf.compat.v1.train.Optimizer instead.\n",
      "\n",
      "WARNING:tensorflow:From C:\\ProgramData\\Anaconda3\\lib\\site-packages\\keras\\backend\\tensorflow_backend.py:3295: The name tf.log is deprecated. Please use tf.math.log instead.\n",
      "\n"
     ]
    }
   ],
   "source": [
    "# compile the model\n",
    "model.compile(loss='categorical_crossentropy', optimizer='rmsprop', \n",
    "                  metrics=['accuracy'])"
   ]
  },
  {
   "cell_type": "markdown",
   "metadata": {},
   "source": [
    "### 7. Train the Model "
   ]
  },
  {
   "cell_type": "code",
   "execution_count": 19,
   "metadata": {},
   "outputs": [],
   "source": [
    "model_path = 'model_13.weights.best.hdf5'"
   ]
  },
  {
   "cell_type": "code",
   "execution_count": 20,
   "metadata": {
    "scrolled": false
   },
   "outputs": [
    {
     "name": "stdout",
     "output_type": "stream",
     "text": [
      "WARNING:tensorflow:From C:\\ProgramData\\Anaconda3\\lib\\site-packages\\tensorflow_core\\python\\ops\\math_grad.py:1424: where (from tensorflow.python.ops.array_ops) is deprecated and will be removed in a future version.\n",
      "Instructions for updating:\n",
      "Use tf.where in 2.0, which has the same broadcast rule as np.where\n",
      "WARNING:tensorflow:From C:\\ProgramData\\Anaconda3\\lib\\site-packages\\keras\\backend\\tensorflow_backend.py:986: The name tf.assign_add is deprecated. Please use tf.compat.v1.assign_add instead.\n",
      "\n",
      "WARNING:tensorflow:From C:\\ProgramData\\Anaconda3\\lib\\site-packages\\keras\\backend\\tensorflow_backend.py:973: The name tf.assign is deprecated. Please use tf.compat.v1.assign instead.\n",
      "\n",
      "WARNING:tensorflow:From C:\\ProgramData\\Anaconda3\\lib\\site-packages\\keras\\backend\\tensorflow_backend.py:2741: The name tf.Session is deprecated. Please use tf.compat.v1.Session instead.\n",
      "\n",
      "Train on 1800 samples, validate on 400 samples\n",
      "Epoch 1/100\n",
      "WARNING:tensorflow:From C:\\ProgramData\\Anaconda3\\lib\\site-packages\\keras\\backend\\tensorflow_backend.py:174: The name tf.get_default_session is deprecated. Please use tf.compat.v1.get_default_session instead.\n",
      "\n",
      "WARNING:tensorflow:From C:\\ProgramData\\Anaconda3\\lib\\site-packages\\keras\\backend\\tensorflow_backend.py:181: The name tf.ConfigProto is deprecated. Please use tf.compat.v1.ConfigProto instead.\n",
      "\n",
      "WARNING:tensorflow:From C:\\ProgramData\\Anaconda3\\lib\\site-packages\\keras\\backend\\tensorflow_backend.py:190: The name tf.global_variables is deprecated. Please use tf.compat.v1.global_variables instead.\n",
      "\n",
      "WARNING:tensorflow:From C:\\ProgramData\\Anaconda3\\lib\\site-packages\\keras\\backend\\tensorflow_backend.py:199: The name tf.is_variable_initialized is deprecated. Please use tf.compat.v1.is_variable_initialized instead.\n",
      "\n",
      "WARNING:tensorflow:From C:\\ProgramData\\Anaconda3\\lib\\site-packages\\keras\\backend\\tensorflow_backend.py:206: The name tf.variables_initializer is deprecated. Please use tf.compat.v1.variables_initializer instead.\n",
      "\n",
      " - 3s - loss: 0.6988 - acc: 0.5194 - val_loss: 0.7067 - val_acc: 0.5075\n",
      "\n",
      "Epoch 00001: val_loss improved from inf to 0.70673, saving model to model_13.weights.best.hdf5\n",
      "Epoch 2/100\n",
      " - 2s - loss: 0.6797 - acc: 0.5778 - val_loss: 0.7228 - val_acc: 0.5000\n",
      "\n",
      "Epoch 00002: val_loss did not improve from 0.70673\n",
      "Epoch 3/100\n",
      " - 2s - loss: 0.6642 - acc: 0.6006 - val_loss: 0.7683 - val_acc: 0.5125\n",
      "\n",
      "Epoch 00003: val_loss did not improve from 0.70673\n",
      "Epoch 4/100\n",
      " - 2s - loss: 0.6571 - acc: 0.6194 - val_loss: 0.6743 - val_acc: 0.5825\n",
      "\n",
      "Epoch 00004: val_loss improved from 0.70673 to 0.67427, saving model to model_13.weights.best.hdf5\n",
      "Epoch 5/100\n",
      " - 2s - loss: 0.6367 - acc: 0.6389 - val_loss: 0.6816 - val_acc: 0.5525\n",
      "\n",
      "Epoch 00005: val_loss did not improve from 0.67427\n",
      "Epoch 6/100\n",
      " - 2s - loss: 0.6211 - acc: 0.6528 - val_loss: 0.6426 - val_acc: 0.5950\n",
      "\n",
      "Epoch 00006: val_loss improved from 0.67427 to 0.64264, saving model to model_13.weights.best.hdf5\n",
      "Epoch 7/100\n",
      " - 2s - loss: 0.6095 - acc: 0.6694 - val_loss: 0.6379 - val_acc: 0.6150\n",
      "\n",
      "Epoch 00007: val_loss improved from 0.64264 to 0.63786, saving model to model_13.weights.best.hdf5\n",
      "Epoch 8/100\n",
      " - 2s - loss: 0.5864 - acc: 0.6783 - val_loss: 0.6295 - val_acc: 0.6350\n",
      "\n",
      "Epoch 00008: val_loss improved from 0.63786 to 0.62947, saving model to model_13.weights.best.hdf5\n",
      "Epoch 9/100\n",
      " - 2s - loss: 0.5854 - acc: 0.6906 - val_loss: 0.7350 - val_acc: 0.6000\n",
      "\n",
      "Epoch 00009: val_loss did not improve from 0.62947\n",
      "Epoch 10/100\n",
      " - 2s - loss: 0.5719 - acc: 0.7006 - val_loss: 0.9454 - val_acc: 0.5325\n",
      "\n",
      "Epoch 00010: val_loss did not improve from 0.62947\n",
      "Epoch 11/100\n",
      " - 2s - loss: 0.5567 - acc: 0.7194 - val_loss: 0.6435 - val_acc: 0.6450\n",
      "\n",
      "Epoch 00011: val_loss did not improve from 0.62947\n",
      "Epoch 12/100\n",
      " - 2s - loss: 0.5471 - acc: 0.7217 - val_loss: 0.6634 - val_acc: 0.6400\n",
      "\n",
      "Epoch 00012: val_loss did not improve from 0.62947\n",
      "Epoch 13/100\n",
      " - 2s - loss: 0.5435 - acc: 0.7200 - val_loss: 0.7312 - val_acc: 0.6025\n",
      "\n",
      "Epoch 00013: val_loss did not improve from 0.62947\n",
      "Epoch 14/100\n",
      " - 2s - loss: 0.5334 - acc: 0.7350 - val_loss: 0.6107 - val_acc: 0.6650\n",
      "\n",
      "Epoch 00014: val_loss improved from 0.62947 to 0.61066, saving model to model_13.weights.best.hdf5\n",
      "Epoch 15/100\n",
      " - 2s - loss: 0.5230 - acc: 0.7244 - val_loss: 0.7752 - val_acc: 0.5825\n",
      "\n",
      "Epoch 00015: val_loss did not improve from 0.61066\n",
      "Epoch 16/100\n",
      " - 3s - loss: 0.5182 - acc: 0.7283 - val_loss: 0.6080 - val_acc: 0.6600\n",
      "\n",
      "Epoch 00016: val_loss improved from 0.61066 to 0.60803, saving model to model_13.weights.best.hdf5\n",
      "Epoch 17/100\n",
      " - 2s - loss: 0.5163 - acc: 0.7406 - val_loss: 0.6283 - val_acc: 0.6325\n",
      "\n",
      "Epoch 00017: val_loss did not improve from 0.60803\n",
      "Epoch 18/100\n",
      " - 2s - loss: 0.5012 - acc: 0.7517 - val_loss: 0.6203 - val_acc: 0.6650\n",
      "\n",
      "Epoch 00018: val_loss did not improve from 0.60803\n",
      "Epoch 19/100\n",
      " - 2s - loss: 0.4746 - acc: 0.7628 - val_loss: 0.6116 - val_acc: 0.6500\n",
      "\n",
      "Epoch 00019: val_loss did not improve from 0.60803\n",
      "Epoch 20/100\n",
      " - 2s - loss: 0.4867 - acc: 0.7706 - val_loss: 0.6283 - val_acc: 0.6700\n",
      "\n",
      "Epoch 00020: val_loss did not improve from 0.60803\n",
      "Epoch 21/100\n",
      " - 2s - loss: 0.4709 - acc: 0.7761 - val_loss: 0.6498 - val_acc: 0.6325\n",
      "\n",
      "Epoch 00021: val_loss did not improve from 0.60803\n",
      "Epoch 22/100\n",
      " - 2s - loss: 0.4771 - acc: 0.7639 - val_loss: 0.6464 - val_acc: 0.6300\n",
      "\n",
      "Epoch 00022: val_loss did not improve from 0.60803\n",
      "Epoch 23/100\n",
      " - 2s - loss: 0.4636 - acc: 0.7833 - val_loss: 0.6226 - val_acc: 0.6375\n",
      "\n",
      "Epoch 00023: val_loss did not improve from 0.60803\n",
      "Epoch 24/100\n",
      " - 2s - loss: 0.4448 - acc: 0.7867 - val_loss: 0.6728 - val_acc: 0.6350\n",
      "\n",
      "Epoch 00024: val_loss did not improve from 0.60803\n",
      "Epoch 25/100\n",
      " - 2s - loss: 0.4494 - acc: 0.7883 - val_loss: 0.8329 - val_acc: 0.5975\n",
      "\n",
      "Epoch 00025: val_loss did not improve from 0.60803\n",
      "Epoch 26/100\n",
      " - 2s - loss: 0.4241 - acc: 0.8017 - val_loss: 0.7328 - val_acc: 0.6275\n",
      "\n",
      "Epoch 00026: val_loss did not improve from 0.60803\n",
      "Epoch 27/100\n",
      " - 2s - loss: 0.4216 - acc: 0.8067 - val_loss: 0.7238 - val_acc: 0.6550\n",
      "\n",
      "Epoch 00027: val_loss did not improve from 0.60803\n",
      "Epoch 28/100\n",
      " - 2s - loss: 0.4142 - acc: 0.8183 - val_loss: 0.6267 - val_acc: 0.6650\n",
      "\n",
      "Epoch 00028: val_loss did not improve from 0.60803\n",
      "Epoch 29/100\n",
      " - 2s - loss: 0.4043 - acc: 0.8128 - val_loss: 0.6441 - val_acc: 0.6650\n",
      "\n",
      "Epoch 00029: val_loss did not improve from 0.60803\n",
      "Epoch 30/100\n",
      " - 2s - loss: 0.4006 - acc: 0.8217 - val_loss: 0.6460 - val_acc: 0.6300\n",
      "\n",
      "Epoch 00030: val_loss did not improve from 0.60803\n",
      "Epoch 31/100\n",
      " - 2s - loss: 0.3885 - acc: 0.8294 - val_loss: 0.6411 - val_acc: 0.6650\n",
      "\n",
      "Epoch 00031: val_loss did not improve from 0.60803\n",
      "Epoch 32/100\n",
      " - 3s - loss: 0.3934 - acc: 0.8250 - val_loss: 0.6313 - val_acc: 0.6625\n",
      "\n",
      "Epoch 00032: val_loss did not improve from 0.60803\n",
      "Epoch 33/100\n",
      " - 2s - loss: 0.3688 - acc: 0.8450 - val_loss: 0.7269 - val_acc: 0.6475\n",
      "\n",
      "Epoch 00033: val_loss did not improve from 0.60803\n",
      "Epoch 34/100\n",
      " - 2s - loss: 0.3680 - acc: 0.8350 - val_loss: 0.7408 - val_acc: 0.6325\n",
      "\n",
      "Epoch 00034: val_loss did not improve from 0.60803\n",
      "Epoch 35/100\n",
      " - 2s - loss: 0.3672 - acc: 0.8467 - val_loss: 0.7085 - val_acc: 0.6275\n",
      "\n",
      "Epoch 00035: val_loss did not improve from 0.60803\n",
      "Epoch 36/100\n",
      " - 2s - loss: 0.3389 - acc: 0.8606 - val_loss: 0.8445 - val_acc: 0.6725\n",
      "\n",
      "Epoch 00036: val_loss did not improve from 0.60803\n",
      "Epoch 37/100\n",
      " - 2s - loss: 0.3394 - acc: 0.8594 - val_loss: 0.6526 - val_acc: 0.6450\n",
      "\n",
      "Epoch 00037: val_loss did not improve from 0.60803\n",
      "Epoch 38/100\n",
      " - 2s - loss: 0.3308 - acc: 0.8533 - val_loss: 0.6756 - val_acc: 0.6725\n",
      "\n",
      "Epoch 00038: val_loss did not improve from 0.60803\n",
      "Epoch 39/100\n",
      " - 2s - loss: 0.3213 - acc: 0.8600 - val_loss: 0.7225 - val_acc: 0.6325\n",
      "\n",
      "Epoch 00039: val_loss did not improve from 0.60803\n",
      "Epoch 40/100\n",
      " - 2s - loss: 0.3190 - acc: 0.8650 - val_loss: 0.7511 - val_acc: 0.6325\n",
      "\n",
      "Epoch 00040: val_loss did not improve from 0.60803\n",
      "Epoch 41/100\n",
      " - 2s - loss: 0.3214 - acc: 0.8633 - val_loss: 0.6695 - val_acc: 0.6500\n",
      "\n",
      "Epoch 00041: val_loss did not improve from 0.60803\n",
      "Epoch 42/100\n",
      " - 2s - loss: 0.2922 - acc: 0.8794 - val_loss: 0.8058 - val_acc: 0.6700\n",
      "\n",
      "Epoch 00042: val_loss did not improve from 0.60803\n",
      "Epoch 43/100\n",
      " - 2s - loss: 0.2975 - acc: 0.8656 - val_loss: 0.7385 - val_acc: 0.6450\n",
      "\n",
      "Epoch 00043: val_loss did not improve from 0.60803\n",
      "Epoch 44/100\n",
      " - 3s - loss: 0.2865 - acc: 0.8861 - val_loss: 0.7859 - val_acc: 0.6550\n"
     ]
    },
    {
     "name": "stdout",
     "output_type": "stream",
     "text": [
      "\n",
      "Epoch 00044: val_loss did not improve from 0.60803\n",
      "Epoch 45/100\n",
      " - 2s - loss: 0.2667 - acc: 0.8906 - val_loss: 0.6770 - val_acc: 0.6550\n",
      "\n",
      "Epoch 00045: val_loss did not improve from 0.60803\n",
      "Epoch 46/100\n",
      " - 2s - loss: 0.2731 - acc: 0.8844 - val_loss: 0.8136 - val_acc: 0.6675\n",
      "\n",
      "Epoch 00046: val_loss did not improve from 0.60803\n",
      "Epoch 47/100\n",
      " - 5s - loss: 0.2644 - acc: 0.8939 - val_loss: 0.7855 - val_acc: 0.6500\n",
      "\n",
      "Epoch 00047: val_loss did not improve from 0.60803\n",
      "Epoch 48/100\n",
      " - 6s - loss: 0.2543 - acc: 0.8956 - val_loss: 0.7454 - val_acc: 0.6800\n",
      "\n",
      "Epoch 00048: val_loss did not improve from 0.60803\n",
      "Epoch 49/100\n",
      " - 2s - loss: 0.2493 - acc: 0.9072 - val_loss: 0.7237 - val_acc: 0.6325\n",
      "\n",
      "Epoch 00049: val_loss did not improve from 0.60803\n",
      "Epoch 50/100\n",
      " - 2s - loss: 0.2606 - acc: 0.8911 - val_loss: 0.7737 - val_acc: 0.6450\n",
      "\n",
      "Epoch 00050: val_loss did not improve from 0.60803\n",
      "Epoch 51/100\n",
      " - 2s - loss: 0.2351 - acc: 0.9111 - val_loss: 0.7853 - val_acc: 0.6075\n",
      "\n",
      "Epoch 00051: val_loss did not improve from 0.60803\n",
      "Epoch 52/100\n",
      " - 2s - loss: 0.2392 - acc: 0.9044 - val_loss: 0.7341 - val_acc: 0.6550\n",
      "\n",
      "Epoch 00052: val_loss did not improve from 0.60803\n",
      "Epoch 53/100\n",
      " - 2s - loss: 0.2496 - acc: 0.8983 - val_loss: 0.7032 - val_acc: 0.6450\n",
      "\n",
      "Epoch 00053: val_loss did not improve from 0.60803\n",
      "Epoch 54/100\n",
      " - 2s - loss: 0.2270 - acc: 0.9067 - val_loss: 0.8152 - val_acc: 0.6375\n",
      "\n",
      "Epoch 00054: val_loss did not improve from 0.60803\n",
      "Epoch 55/100\n",
      " - 2s - loss: 0.2173 - acc: 0.9156 - val_loss: 0.8071 - val_acc: 0.6500\n",
      "\n",
      "Epoch 00055: val_loss did not improve from 0.60803\n",
      "Epoch 56/100\n",
      " - 2s - loss: 0.2109 - acc: 0.9172 - val_loss: 0.9856 - val_acc: 0.6400\n",
      "\n",
      "Epoch 00056: val_loss did not improve from 0.60803\n",
      "Epoch 57/100\n",
      " - 2s - loss: 0.2005 - acc: 0.9217 - val_loss: 0.9053 - val_acc: 0.6425\n",
      "\n",
      "Epoch 00057: val_loss did not improve from 0.60803\n",
      "Epoch 58/100\n",
      " - 2s - loss: 0.1974 - acc: 0.9194 - val_loss: 0.7874 - val_acc: 0.6450\n",
      "\n",
      "Epoch 00058: val_loss did not improve from 0.60803\n",
      "Epoch 59/100\n",
      " - 2s - loss: 0.1797 - acc: 0.9289 - val_loss: 1.0751 - val_acc: 0.6200\n",
      "\n",
      "Epoch 00059: val_loss did not improve from 0.60803\n",
      "Epoch 60/100\n",
      " - 2s - loss: 0.2031 - acc: 0.9183 - val_loss: 0.8798 - val_acc: 0.6550\n",
      "\n",
      "Epoch 00060: val_loss did not improve from 0.60803\n",
      "Epoch 61/100\n",
      " - 2s - loss: 0.1724 - acc: 0.9417 - val_loss: 0.8243 - val_acc: 0.6425\n",
      "\n",
      "Epoch 00061: val_loss did not improve from 0.60803\n",
      "Epoch 62/100\n",
      " - 2s - loss: 0.1873 - acc: 0.9256 - val_loss: 0.8311 - val_acc: 0.6525\n",
      "\n",
      "Epoch 00062: val_loss did not improve from 0.60803\n",
      "Epoch 63/100\n",
      " - 2s - loss: 0.1771 - acc: 0.9300 - val_loss: 0.9306 - val_acc: 0.6250\n",
      "\n",
      "Epoch 00063: val_loss did not improve from 0.60803\n",
      "Epoch 64/100\n",
      " - 2s - loss: 0.1728 - acc: 0.9378 - val_loss: 0.9959 - val_acc: 0.6350\n",
      "\n",
      "Epoch 00064: val_loss did not improve from 0.60803\n",
      "Epoch 65/100\n",
      " - 2s - loss: 0.1706 - acc: 0.9306 - val_loss: 0.9258 - val_acc: 0.6425\n",
      "\n",
      "Epoch 00065: val_loss did not improve from 0.60803\n",
      "Epoch 66/100\n",
      " - 2s - loss: 0.1632 - acc: 0.9417 - val_loss: 0.9167 - val_acc: 0.6375\n",
      "\n",
      "Epoch 00066: val_loss did not improve from 0.60803\n",
      "Epoch 67/100\n",
      " - 2s - loss: 0.1561 - acc: 0.9411 - val_loss: 1.1133 - val_acc: 0.6450\n",
      "\n",
      "Epoch 00067: val_loss did not improve from 0.60803\n",
      "Epoch 68/100\n",
      " - 2s - loss: 0.1548 - acc: 0.9350 - val_loss: 0.9275 - val_acc: 0.6625\n",
      "\n",
      "Epoch 00068: val_loss did not improve from 0.60803\n",
      "Epoch 69/100\n",
      " - 2s - loss: 0.1403 - acc: 0.9528 - val_loss: 0.9704 - val_acc: 0.6525\n",
      "\n",
      "Epoch 00069: val_loss did not improve from 0.60803\n",
      "Epoch 70/100\n",
      " - 2s - loss: 0.1465 - acc: 0.9428 - val_loss: 0.9210 - val_acc: 0.6425\n",
      "\n",
      "Epoch 00070: val_loss did not improve from 0.60803\n",
      "Epoch 71/100\n",
      " - 2s - loss: 0.1517 - acc: 0.9456 - val_loss: 0.8716 - val_acc: 0.6550\n",
      "\n",
      "Epoch 00071: val_loss did not improve from 0.60803\n",
      "Epoch 72/100\n",
      " - 2s - loss: 0.1359 - acc: 0.9522 - val_loss: 0.9398 - val_acc: 0.6375\n",
      "\n",
      "Epoch 00072: val_loss did not improve from 0.60803\n",
      "Epoch 73/100\n",
      " - 2s - loss: 0.1361 - acc: 0.9522 - val_loss: 0.9190 - val_acc: 0.6600\n",
      "\n",
      "Epoch 00073: val_loss did not improve from 0.60803\n",
      "Epoch 74/100\n",
      " - 2s - loss: 0.1260 - acc: 0.9522 - val_loss: 1.0117 - val_acc: 0.6375\n",
      "\n",
      "Epoch 00074: val_loss did not improve from 0.60803\n",
      "Epoch 75/100\n",
      " - 2s - loss: 0.1188 - acc: 0.9578 - val_loss: 0.9779 - val_acc: 0.6500\n",
      "\n",
      "Epoch 00075: val_loss did not improve from 0.60803\n",
      "Epoch 76/100\n",
      " - 2s - loss: 0.1231 - acc: 0.9578 - val_loss: 1.1102 - val_acc: 0.6675\n",
      "\n",
      "Epoch 00076: val_loss did not improve from 0.60803\n",
      "Epoch 77/100\n",
      " - 2s - loss: 0.1329 - acc: 0.9511 - val_loss: 0.9214 - val_acc: 0.6525\n",
      "\n",
      "Epoch 00077: val_loss did not improve from 0.60803\n",
      "Epoch 78/100\n",
      " - 2s - loss: 0.1297 - acc: 0.9494 - val_loss: 0.9578 - val_acc: 0.6475\n",
      "\n",
      "Epoch 00078: val_loss did not improve from 0.60803\n",
      "Epoch 79/100\n",
      " - 2s - loss: 0.1061 - acc: 0.9600 - val_loss: 1.0887 - val_acc: 0.6400\n",
      "\n",
      "Epoch 00079: val_loss did not improve from 0.60803\n",
      "Epoch 80/100\n",
      " - 2s - loss: 0.1219 - acc: 0.9528 - val_loss: 0.9701 - val_acc: 0.6625\n",
      "\n",
      "Epoch 00080: val_loss did not improve from 0.60803\n",
      "Epoch 81/100\n",
      " - 2s - loss: 0.1127 - acc: 0.9661 - val_loss: 0.9673 - val_acc: 0.6300\n",
      "\n",
      "Epoch 00081: val_loss did not improve from 0.60803\n",
      "Epoch 82/100\n",
      " - 2s - loss: 0.1187 - acc: 0.9567 - val_loss: 0.9443 - val_acc: 0.6550\n",
      "\n",
      "Epoch 00082: val_loss did not improve from 0.60803\n",
      "Epoch 83/100\n",
      " - 2s - loss: 0.1074 - acc: 0.9622 - val_loss: 0.9782 - val_acc: 0.6550\n",
      "\n",
      "Epoch 00083: val_loss did not improve from 0.60803\n",
      "Epoch 84/100\n",
      " - 2s - loss: 0.1201 - acc: 0.9561 - val_loss: 1.0464 - val_acc: 0.6600\n",
      "\n",
      "Epoch 00084: val_loss did not improve from 0.60803\n",
      "Epoch 85/100\n",
      " - 2s - loss: 0.0964 - acc: 0.9661 - val_loss: 1.1373 - val_acc: 0.6275\n",
      "\n",
      "Epoch 00085: val_loss did not improve from 0.60803\n",
      "Epoch 86/100\n",
      " - 2s - loss: 0.1037 - acc: 0.9633 - val_loss: 1.0900 - val_acc: 0.6350\n",
      "\n",
      "Epoch 00086: val_loss did not improve from 0.60803\n",
      "Epoch 87/100\n",
      " - 2s - loss: 0.0981 - acc: 0.9678 - val_loss: 1.2528 - val_acc: 0.6525\n",
      "\n",
      "Epoch 00087: val_loss did not improve from 0.60803\n",
      "Epoch 88/100\n",
      " - 2s - loss: 0.0902 - acc: 0.9683 - val_loss: 1.0391 - val_acc: 0.6400\n",
      "\n",
      "Epoch 00088: val_loss did not improve from 0.60803\n",
      "Epoch 89/100\n",
      " - 2s - loss: 0.0923 - acc: 0.9689 - val_loss: 1.3117 - val_acc: 0.6375\n",
      "\n",
      "Epoch 00089: val_loss did not improve from 0.60803\n",
      "Epoch 90/100\n",
      " - 2s - loss: 0.1145 - acc: 0.9611 - val_loss: 1.1879 - val_acc: 0.6325\n",
      "\n",
      "Epoch 00090: val_loss did not improve from 0.60803\n",
      "Epoch 91/100\n",
      " - 2s - loss: 0.1047 - acc: 0.9628 - val_loss: 1.1059 - val_acc: 0.6700\n",
      "\n",
      "Epoch 00091: val_loss did not improve from 0.60803\n",
      "Epoch 92/100\n",
      " - 2s - loss: 0.0838 - acc: 0.9706 - val_loss: 1.1330 - val_acc: 0.6500\n",
      "\n",
      "Epoch 00092: val_loss did not improve from 0.60803\n",
      "Epoch 93/100\n",
      " - 2s - loss: 0.0875 - acc: 0.9706 - val_loss: 1.3306 - val_acc: 0.6425\n",
      "\n",
      "Epoch 00093: val_loss did not improve from 0.60803\n",
      "Epoch 94/100\n",
      " - 2s - loss: 0.0736 - acc: 0.9739 - val_loss: 1.2348 - val_acc: 0.6600\n",
      "\n",
      "Epoch 00094: val_loss did not improve from 0.60803\n",
      "Epoch 95/100\n",
      " - 2s - loss: 0.0863 - acc: 0.9728 - val_loss: 1.2627 - val_acc: 0.6475\n",
      "\n",
      "Epoch 00095: val_loss did not improve from 0.60803\n",
      "Epoch 96/100\n",
      " - 2s - loss: 0.0887 - acc: 0.9683 - val_loss: 1.0957 - val_acc: 0.6600\n",
      "\n",
      "Epoch 00096: val_loss did not improve from 0.60803\n",
      "Epoch 97/100\n",
      " - 2s - loss: 0.0749 - acc: 0.9750 - val_loss: 1.2381 - val_acc: 0.6350\n",
      "\n",
      "Epoch 00097: val_loss did not improve from 0.60803\n",
      "Epoch 98/100\n",
      " - 2s - loss: 0.0913 - acc: 0.9667 - val_loss: 1.1277 - val_acc: 0.6675\n",
      "\n",
      "Epoch 00098: val_loss did not improve from 0.60803\n",
      "Epoch 99/100\n",
      " - 2s - loss: 0.0729 - acc: 0.9722 - val_loss: 1.1358 - val_acc: 0.6575\n",
      "\n",
      "Epoch 00099: val_loss did not improve from 0.60803\n",
      "Epoch 100/100\n",
      " - 2s - loss: 0.0836 - acc: 0.9700 - val_loss: 1.0937 - val_acc: 0.6500\n",
      "\n",
      "Epoch 00100: val_loss did not improve from 0.60803\n"
     ]
    }
   ],
   "source": [
    "from keras.callbacks import ModelCheckpoint   \n",
    "\n",
    "# train the model\n",
    "checkpointer = ModelCheckpoint(filepath=model_path, verbose=1, \n",
    "                               save_best_only=True)\n",
    "hist = model.fit(X_train, y_train, batch_size=32, epochs=100,\n",
    "          validation_data=(X_valid, y_valid), callbacks=[checkpointer], \n",
    "          verbose=2, shuffle=True)"
   ]
  },
  {
   "cell_type": "code",
   "execution_count": null,
   "metadata": {},
   "outputs": [],
   "source": []
  },
  {
   "cell_type": "code",
   "execution_count": null,
   "metadata": {},
   "outputs": [],
   "source": []
  },
  {
   "cell_type": "code",
   "execution_count": 21,
   "metadata": {},
   "outputs": [
    {
     "data": {
      "text/plain": [
       "'model_13.weights.best.hdf5'"
      ]
     },
     "execution_count": 21,
     "metadata": {},
     "output_type": "execute_result"
    }
   ],
   "source": [
    "model_path"
   ]
  },
  {
   "cell_type": "markdown",
   "metadata": {},
   "source": [
    "### 8. Load the Model with the Best Validation Accuracy"
   ]
  },
  {
   "cell_type": "code",
   "execution_count": 22,
   "metadata": {},
   "outputs": [],
   "source": [
    "# load the weights that yielded the best validation accuracy\n",
    "model.load_weights(model_path)"
   ]
  },
  {
   "cell_type": "markdown",
   "metadata": {},
   "source": [
    "### 9. Calculate Classification Accuracy on Test Set"
   ]
  },
  {
   "cell_type": "code",
   "execution_count": 23,
   "metadata": {},
   "outputs": [
    {
     "name": "stdout",
     "output_type": "stream",
     "text": [
      "\n",
      " Test accuracy: 0.722\n"
     ]
    }
   ],
   "source": [
    "# evaluate and print test accuracy\n",
    "score = model.evaluate(X_test, y_test, verbose=0)\n",
    "print('\\n', 'Test accuracy:', score[1])"
   ]
  },
  {
   "cell_type": "code",
   "execution_count": 24,
   "metadata": {},
   "outputs": [
    {
     "data": {
      "text/plain": [
       "array([[0.28381956, 0.7161804 ],\n",
       "       [0.94627106, 0.0537289 ],\n",
       "       [0.70623875, 0.29376128],\n",
       "       ...,\n",
       "       [0.12042034, 0.8795797 ],\n",
       "       [0.7401453 , 0.25985464],\n",
       "       [0.22487183, 0.7751282 ]], dtype=float32)"
      ]
     },
     "execution_count": 24,
     "metadata": {},
     "output_type": "execute_result"
    }
   ],
   "source": [
    "model.predict(X_test)"
   ]
  },
  {
   "cell_type": "code",
   "execution_count": null,
   "metadata": {},
   "outputs": [],
   "source": [
    "model_path"
   ]
  },
  {
   "cell_type": "code",
   "execution_count": null,
   "metadata": {},
   "outputs": [],
   "source": []
  }
 ],
 "metadata": {
  "kernelspec": {
   "display_name": "Python 3",
   "language": "python",
   "name": "python3"
  },
  "language_info": {
   "codemirror_mode": {
    "name": "ipython",
    "version": 3
   },
   "file_extension": ".py",
   "mimetype": "text/x-python",
   "name": "python",
   "nbconvert_exporter": "python",
   "pygments_lexer": "ipython3",
   "version": "3.6.5"
  }
 },
 "nbformat": 4,
 "nbformat_minor": 2
}
