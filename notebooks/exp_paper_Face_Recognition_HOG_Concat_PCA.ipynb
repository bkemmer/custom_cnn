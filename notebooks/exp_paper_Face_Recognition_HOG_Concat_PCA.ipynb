{
 "cells": [
  {
   "cell_type": "code",
   "execution_count": 1,
   "metadata": {},
   "outputs": [],
   "source": [
    "import os\n",
    "from glob import glob\n",
    "from skimage import data, io, feature, color, exposure\n",
    "import numpy as np\n",
    "import cv2\n",
    "\n",
    "from pathlib import Path\n",
    "import pandas as pd\n",
    "import matplotlib.pyplot as plt\n",
    "from matplotlib.patches import Rectangle\n",
    "from sklearn.decomposition import PCA\n",
    "import seaborn as sns\n",
    "%matplotlib inline"
   ]
  },
  {
   "cell_type": "markdown",
   "metadata": {},
   "source": [
    "# Paper: Face Recognition Based on HOG and Fast PCA Algorithm\n",
    "\n",
    "    1- Viola Jones\n",
    "    2- Resize = 64x128\n",
    "    3- HOG:\n",
    "        3780 HOG features\n",
    "    4- PCA\n",
    "    5- Normalização: median normalization method (Eq 10)\n",
    "    "
   ]
  },
  {
   "cell_type": "markdown",
   "metadata": {},
   "source": [
    "# declare functions"
   ]
  },
  {
   "cell_type": "code",
   "execution_count": 2,
   "metadata": {},
   "outputs": [],
   "source": [
    "lfw2 = os.path.join('..', 'Data', 'lfw2')\n",
    "def image_path(person, id_, lfw_folder = lfw2):\n",
    "    return glob(os.path.join(lfw_folder, person, '*' + id_ + '.jpg'))[0]"
   ]
  },
  {
   "cell_type": "code",
   "execution_count": 3,
   "metadata": {},
   "outputs": [],
   "source": [
    "'''\n",
    "Parameters: \n",
    "    - img_matrix: (ndarray)\n",
    "    - title: (string)\n",
    "Output:\n",
    "    - image plot\n",
    "'''\n",
    "def plt_img(img_matrix, title='Image', normalize=False):\n",
    "    if normalize:\n",
    "        plt.imshow(img_matrix, vmin=np.min(img_matrix), vmax=np.max(img_matrix), cmap='gray')\n",
    "    else:\n",
    "        io.imshow(img_matrix)\n",
    "    plt.title(title)\n",
    "    plt.show()"
   ]
  },
  {
   "cell_type": "code",
   "execution_count": 4,
   "metadata": {},
   "outputs": [],
   "source": [
    "def plt_two_imgs(img_a, img_b, cmap='gray', normalize=False):\n",
    "    f = plt.figure(figsize=(12, 8))\n",
    "    f.add_subplot(1,2, 1)\n",
    "    if normalize:\n",
    "        plt.imshow(img_a, vmin=np.min(img_matrix), vmax=np.max(img_matrix), cmap=cmap)\n",
    "    else:\n",
    "        plt.imshow(img_a, cmap=cmap)\n",
    "    f.add_subplot(1,2, 2)\n",
    "    if normalize:\n",
    "        plt.imshow(img_b, vmin=np.min(img_matrix), vmax=np.max(img_matrix), cmap=cmap)\n",
    "    else:\n",
    "        plt.imshow(img_b, cmap=cmap)\n",
    "    \n",
    "    plt.show(block=True)\n",
    "    \n",
    "    "
   ]
  },
  {
   "cell_type": "code",
   "execution_count": 5,
   "metadata": {},
   "outputs": [],
   "source": [
    "'''\n",
    "Parameters: \n",
    "- Path: The image should be in the working directory or a full path of image\n",
    "should be given;\n",
    "- color: Second argument is a flag which specifies the way image should be read.\n",
    "    cv2.IMREAD_COLOR : Loads a color image. Any transparency of image\n",
    "    will be neglected;\n",
    "    cv2.IMREAD_GRAYSCALE : Loads image in grayscale mode;\n",
    "    cv2.IMREAD_UNCHANGED : Loads image as such including alpha channel;\n",
    "Note Instead of these three flags, you can simply pass integers 1, 0 or -1\n",
    "respectively.\n",
    "Output:\n",
    "- img_array: (ndarray)\n",
    "'''\n",
    "def open_img(path, color=0):\n",
    "    return cv2.imread(path, color)"
   ]
  },
  {
   "cell_type": "code",
   "execution_count": 6,
   "metadata": {},
   "outputs": [],
   "source": [
    "'''\n",
    "Parameters:\n",
    "- path_img: A string representing the file name. The filename must include image format like .jpg, .png, etc.\n",
    "\n",
    "- img: It is the image that is to be saved (ndarray).\n",
    "\n",
    "Return Value: It returns true if image is saved successfully.\n",
    "'''\n",
    "\n",
    "def save_img(path_img, img):\n",
    "    cv2.imwrite(path_img, img) "
   ]
  },
  {
   "cell_type": "code",
   "execution_count": 7,
   "metadata": {},
   "outputs": [],
   "source": [
    "def getDF(path):\n",
    "    with open(path) as f:\n",
    "        file_list = f.readlines()\n",
    "    n = int(file_list[0].strip())\n",
    "    df_inicial = pd.read_csv(path, sep='\\t', skiprows=1, nrows=n, names=['pair_name_1', 'pair_id_1', 'pair_id_2'])\n",
    "    df_inicial['pair_name_2'] = None\n",
    "    df_secondary = pd.read_csv(path, sep='\\t', skiprows=n+1, names=['pair_name_1', 'pair_id_1', 'pair_name_2', 'pair_id_2'])\n",
    "    df = pd.concat([df_inicial, df_secondary])\n",
    "    df = df.reset_index(drop=True)\n",
    "    print(df.shape)\n",
    "    return df"
   ]
  },
  {
   "cell_type": "code",
   "execution_count": 8,
   "metadata": {},
   "outputs": [],
   "source": [
    "def plt_img_batch(df, show=False, limit=np.inf):\n",
    "    for index, row in df.iterrows():\n",
    "        plt_img(open_img(row['path_pair_id_1'], color=0), title=os.path.split(row['path_pair_id_1'])[-1].split('.')[0])\n",
    "        plt_img(open_img(row['path_pair_id_2'], color=0), title=os.path.split(row['path_pair_id_2'])[-1].split('.')[0])\n",
    "        if limit == index + 1:\n",
    "            break"
   ]
  },
  {
   "cell_type": "markdown",
   "metadata": {},
   "source": [
    "# example"
   ]
  },
  {
   "cell_type": "code",
   "execution_count": 9,
   "metadata": {},
   "outputs": [],
   "source": [
    "# data_folder = os.path.abspath('..\\\\data\\\\')\n",
    "data_folder = os.path.join('..', 'Data')\n",
    "train_path = Path(data_folder, 'pairsDevTrain.txt')\n",
    "test_path = Path(data_folder, 'pairsDevTest.txt')"
   ]
  },
  {
   "cell_type": "code",
   "execution_count": 10,
   "metadata": {},
   "outputs": [
    {
     "name": "stdout",
     "output_type": "stream",
     "text": [
      "(2200, 4)\n",
      "(1000, 4)\n"
     ]
    },
    {
     "name": "stderr",
     "output_type": "stream",
     "text": [
      "C:\\ProgramData\\Anaconda3\\lib\\site-packages\\ipykernel_launcher.py:8: FutureWarning: Sorting because non-concatenation axis is not aligned. A future version\n",
      "of pandas will change to not sort by default.\n",
      "\n",
      "To accept the future behavior, pass 'sort=False'.\n",
      "\n",
      "To retain the current behavior and silence the warning, pass 'sort=True'.\n",
      "\n",
      "  \n"
     ]
    }
   ],
   "source": [
    "df_train = getDF(train_path)\n",
    "df_test = getDF(test_path)"
   ]
  },
  {
   "cell_type": "code",
   "execution_count": 11,
   "metadata": {},
   "outputs": [],
   "source": [
    "df_train['path_pair_id_1'] = df_train.apply(lambda x: image_path(person=x['pair_name_1'], id_= str(x['pair_id_1'])), axis=1)\n",
    "df_train['path_pair_id_2'] = df_train.apply(lambda x: image_path(person=x['pair_name_1'], id_= str(x['pair_id_2'])) if x['pair_name_2']==None \n",
    "                                            else image_path(person=x['pair_name_2'], id_= str(x['pair_id_2'])), axis=1)\n",
    "\n",
    "df_test['path_pair_id_1'] = df_test.apply(lambda x: image_path(person=x['pair_name_1'], id_= str(x['pair_id_1'])), axis=1)\n",
    "df_test['path_pair_id_2'] = df_test.apply(lambda x: image_path(person=x['pair_name_1'], id_= str(x['pair_id_2'])) if x['pair_name_2']==None \n",
    "                                          else image_path(person=x['pair_name_2'], id_= str(x['pair_id_2'])), axis=1)"
   ]
  },
  {
   "cell_type": "code",
   "execution_count": 12,
   "metadata": {},
   "outputs": [
    {
     "data": {
      "text/html": [
       "<div>\n",
       "<style scoped>\n",
       "    .dataframe tbody tr th:only-of-type {\n",
       "        vertical-align: middle;\n",
       "    }\n",
       "\n",
       "    .dataframe tbody tr th {\n",
       "        vertical-align: top;\n",
       "    }\n",
       "\n",
       "    .dataframe thead th {\n",
       "        text-align: right;\n",
       "    }\n",
       "</style>\n",
       "<table border=\"1\" class=\"dataframe\">\n",
       "  <thead>\n",
       "    <tr style=\"text-align: right;\">\n",
       "      <th></th>\n",
       "      <th>pair_id_1</th>\n",
       "      <th>pair_id_2</th>\n",
       "      <th>pair_name_1</th>\n",
       "      <th>pair_name_2</th>\n",
       "      <th>path_pair_id_1</th>\n",
       "      <th>path_pair_id_2</th>\n",
       "    </tr>\n",
       "  </thead>\n",
       "  <tbody>\n",
       "    <tr>\n",
       "      <td>0</td>\n",
       "      <td>1</td>\n",
       "      <td>2</td>\n",
       "      <td>Aaron_Peirsol</td>\n",
       "      <td>None</td>\n",
       "      <td>..\\Data\\lfw2\\Aaron_Peirsol\\Aaron_Peirsol_0001.jpg</td>\n",
       "      <td>..\\Data\\lfw2\\Aaron_Peirsol\\Aaron_Peirsol_0002.jpg</td>\n",
       "    </tr>\n",
       "    <tr>\n",
       "      <td>1</td>\n",
       "      <td>3</td>\n",
       "      <td>4</td>\n",
       "      <td>Aaron_Peirsol</td>\n",
       "      <td>None</td>\n",
       "      <td>..\\Data\\lfw2\\Aaron_Peirsol\\Aaron_Peirsol_0003.jpg</td>\n",
       "      <td>..\\Data\\lfw2\\Aaron_Peirsol\\Aaron_Peirsol_0004.jpg</td>\n",
       "    </tr>\n",
       "    <tr>\n",
       "      <td>2</td>\n",
       "      <td>1</td>\n",
       "      <td>2</td>\n",
       "      <td>Aaron_Sorkin</td>\n",
       "      <td>None</td>\n",
       "      <td>..\\Data\\lfw2\\Aaron_Sorkin\\Aaron_Sorkin_0001.jpg</td>\n",
       "      <td>..\\Data\\lfw2\\Aaron_Sorkin\\Aaron_Sorkin_0002.jpg</td>\n",
       "    </tr>\n",
       "    <tr>\n",
       "      <td>3</td>\n",
       "      <td>1</td>\n",
       "      <td>2</td>\n",
       "      <td>Abdel_Nasser_Assidi</td>\n",
       "      <td>None</td>\n",
       "      <td>..\\Data\\lfw2\\Abdel_Nasser_Assidi\\Abdel_Nasser_...</td>\n",
       "      <td>..\\Data\\lfw2\\Abdel_Nasser_Assidi\\Abdel_Nasser_...</td>\n",
       "    </tr>\n",
       "    <tr>\n",
       "      <td>4</td>\n",
       "      <td>1</td>\n",
       "      <td>3</td>\n",
       "      <td>Abdullah</td>\n",
       "      <td>None</td>\n",
       "      <td>..\\Data\\lfw2\\Abdullah\\Abdullah_0001.jpg</td>\n",
       "      <td>..\\Data\\lfw2\\Abdullah\\Abdullah_0003.jpg</td>\n",
       "    </tr>\n",
       "  </tbody>\n",
       "</table>\n",
       "</div>"
      ],
      "text/plain": [
       "   pair_id_1  pair_id_2          pair_name_1 pair_name_2  \\\n",
       "0          1          2        Aaron_Peirsol        None   \n",
       "1          3          4        Aaron_Peirsol        None   \n",
       "2          1          2         Aaron_Sorkin        None   \n",
       "3          1          2  Abdel_Nasser_Assidi        None   \n",
       "4          1          3             Abdullah        None   \n",
       "\n",
       "                                      path_pair_id_1  \\\n",
       "0  ..\\Data\\lfw2\\Aaron_Peirsol\\Aaron_Peirsol_0001.jpg   \n",
       "1  ..\\Data\\lfw2\\Aaron_Peirsol\\Aaron_Peirsol_0003.jpg   \n",
       "2    ..\\Data\\lfw2\\Aaron_Sorkin\\Aaron_Sorkin_0001.jpg   \n",
       "3  ..\\Data\\lfw2\\Abdel_Nasser_Assidi\\Abdel_Nasser_...   \n",
       "4            ..\\Data\\lfw2\\Abdullah\\Abdullah_0001.jpg   \n",
       "\n",
       "                                      path_pair_id_2  \n",
       "0  ..\\Data\\lfw2\\Aaron_Peirsol\\Aaron_Peirsol_0002.jpg  \n",
       "1  ..\\Data\\lfw2\\Aaron_Peirsol\\Aaron_Peirsol_0004.jpg  \n",
       "2    ..\\Data\\lfw2\\Aaron_Sorkin\\Aaron_Sorkin_0002.jpg  \n",
       "3  ..\\Data\\lfw2\\Abdel_Nasser_Assidi\\Abdel_Nasser_...  \n",
       "4            ..\\Data\\lfw2\\Abdullah\\Abdullah_0003.jpg  "
      ]
     },
     "execution_count": 12,
     "metadata": {},
     "output_type": "execute_result"
    }
   ],
   "source": [
    "df_train.head()"
   ]
  },
  {
   "cell_type": "code",
   "execution_count": 13,
   "metadata": {},
   "outputs": [
    {
     "data": {
      "text/html": [
       "<div>\n",
       "<style scoped>\n",
       "    .dataframe tbody tr th:only-of-type {\n",
       "        vertical-align: middle;\n",
       "    }\n",
       "\n",
       "    .dataframe tbody tr th {\n",
       "        vertical-align: top;\n",
       "    }\n",
       "\n",
       "    .dataframe thead th {\n",
       "        text-align: right;\n",
       "    }\n",
       "</style>\n",
       "<table border=\"1\" class=\"dataframe\">\n",
       "  <thead>\n",
       "    <tr style=\"text-align: right;\">\n",
       "      <th></th>\n",
       "      <th>pair_id_1</th>\n",
       "      <th>pair_id_2</th>\n",
       "      <th>pair_name_1</th>\n",
       "      <th>pair_name_2</th>\n",
       "      <th>path_pair_id_1</th>\n",
       "      <th>path_pair_id_2</th>\n",
       "    </tr>\n",
       "  </thead>\n",
       "  <tbody>\n",
       "    <tr>\n",
       "      <td>0</td>\n",
       "      <td>13</td>\n",
       "      <td>14</td>\n",
       "      <td>Abdullah_Gul</td>\n",
       "      <td>None</td>\n",
       "      <td>..\\Data\\lfw2\\Abdullah_Gul\\Abdullah_Gul_0013.jpg</td>\n",
       "      <td>..\\Data\\lfw2\\Abdullah_Gul\\Abdullah_Gul_0014.jpg</td>\n",
       "    </tr>\n",
       "    <tr>\n",
       "      <td>1</td>\n",
       "      <td>13</td>\n",
       "      <td>16</td>\n",
       "      <td>Abdullah_Gul</td>\n",
       "      <td>None</td>\n",
       "      <td>..\\Data\\lfw2\\Abdullah_Gul\\Abdullah_Gul_0013.jpg</td>\n",
       "      <td>..\\Data\\lfw2\\Abdullah_Gul\\Abdullah_Gul_0016.jpg</td>\n",
       "    </tr>\n",
       "    <tr>\n",
       "      <td>2</td>\n",
       "      <td>1</td>\n",
       "      <td>2</td>\n",
       "      <td>Abdullatif_Sener</td>\n",
       "      <td>None</td>\n",
       "      <td>..\\Data\\lfw2\\Abdullatif_Sener\\Abdullatif_Sener...</td>\n",
       "      <td>..\\Data\\lfw2\\Abdullatif_Sener\\Abdullatif_Sener...</td>\n",
       "    </tr>\n",
       "    <tr>\n",
       "      <td>3</td>\n",
       "      <td>1</td>\n",
       "      <td>3</td>\n",
       "      <td>Adel_Al-Jubeir</td>\n",
       "      <td>None</td>\n",
       "      <td>..\\Data\\lfw2\\Adel_Al-Jubeir\\Adel_Al-Jubeir_000...</td>\n",
       "      <td>..\\Data\\lfw2\\Adel_Al-Jubeir\\Adel_Al-Jubeir_000...</td>\n",
       "    </tr>\n",
       "    <tr>\n",
       "      <td>4</td>\n",
       "      <td>1</td>\n",
       "      <td>2</td>\n",
       "      <td>Al_Pacino</td>\n",
       "      <td>None</td>\n",
       "      <td>..\\Data\\lfw2\\Al_Pacino\\Al_Pacino_0001.jpg</td>\n",
       "      <td>..\\Data\\lfw2\\Al_Pacino\\Al_Pacino_0002.jpg</td>\n",
       "    </tr>\n",
       "  </tbody>\n",
       "</table>\n",
       "</div>"
      ],
      "text/plain": [
       "   pair_id_1  pair_id_2       pair_name_1 pair_name_2  \\\n",
       "0         13         14      Abdullah_Gul        None   \n",
       "1         13         16      Abdullah_Gul        None   \n",
       "2          1          2  Abdullatif_Sener        None   \n",
       "3          1          3    Adel_Al-Jubeir        None   \n",
       "4          1          2         Al_Pacino        None   \n",
       "\n",
       "                                      path_pair_id_1  \\\n",
       "0    ..\\Data\\lfw2\\Abdullah_Gul\\Abdullah_Gul_0013.jpg   \n",
       "1    ..\\Data\\lfw2\\Abdullah_Gul\\Abdullah_Gul_0013.jpg   \n",
       "2  ..\\Data\\lfw2\\Abdullatif_Sener\\Abdullatif_Sener...   \n",
       "3  ..\\Data\\lfw2\\Adel_Al-Jubeir\\Adel_Al-Jubeir_000...   \n",
       "4          ..\\Data\\lfw2\\Al_Pacino\\Al_Pacino_0001.jpg   \n",
       "\n",
       "                                      path_pair_id_2  \n",
       "0    ..\\Data\\lfw2\\Abdullah_Gul\\Abdullah_Gul_0014.jpg  \n",
       "1    ..\\Data\\lfw2\\Abdullah_Gul\\Abdullah_Gul_0016.jpg  \n",
       "2  ..\\Data\\lfw2\\Abdullatif_Sener\\Abdullatif_Sener...  \n",
       "3  ..\\Data\\lfw2\\Adel_Al-Jubeir\\Adel_Al-Jubeir_000...  \n",
       "4          ..\\Data\\lfw2\\Al_Pacino\\Al_Pacino_0002.jpg  "
      ]
     },
     "execution_count": 13,
     "metadata": {},
     "output_type": "execute_result"
    }
   ],
   "source": [
    "df_test.head()"
   ]
  },
  {
   "cell_type": "markdown",
   "metadata": {},
   "source": [
    "# Viola Jones"
   ]
  },
  {
   "cell_type": "code",
   "execution_count": 14,
   "metadata": {},
   "outputs": [],
   "source": [
    "def plot_rectangle(detected_faces, image, title='Image', cmap_type='gray', kwargs={'lw': 20.}):\n",
    "    # Create figure and axes\n",
    "    fig,ax = plt.subplots(1)\n",
    "    # Display the image\n",
    "    ax.imshow(image, cmap=cmap_type)\n",
    "    plt.title(title)\n",
    "    for (column, row, width, height) in detected_faces:\n",
    "        rect = Rectangle(\n",
    "                (column, row),\n",
    "                width = width,\n",
    "                height = height,\n",
    "                fill=False,\n",
    "                edgecolor='r',\n",
    "                \n",
    "                )\n",
    "        # Add the patch to the Axes\n",
    "        ax.add_patch(rect)\n",
    "#     plt.axis('off')\n",
    "    plt.show()"
   ]
  },
  {
   "cell_type": "code",
   "execution_count": 15,
   "metadata": {},
   "outputs": [],
   "source": [
    "def crop_image(original_image, column, row, width, height):\n",
    "    # the goal is crop the biggest area\n",
    "    return original_image[row:row+height, column:column + width]\n"
   ]
  },
  {
   "cell_type": "markdown",
   "metadata": {},
   "source": [
    "### Load the classifier and create a cascade object for face detection"
   ]
  },
  {
   "cell_type": "code",
   "execution_count": 16,
   "metadata": {},
   "outputs": [],
   "source": [
    "cascade_path = os.path.join('..', 'haarcascades', 'haarcascade_frontalface_alt.xml')\n",
    "face_cascade = cv2.CascadeClassifier(cascade_path)"
   ]
  },
  {
   "cell_type": "markdown",
   "metadata": {},
   "source": [
    "## Problem: what image to use?\n",
    "### Response: Use the biggest area"
   ]
  },
  {
   "cell_type": "code",
   "execution_count": 17,
   "metadata": {},
   "outputs": [],
   "source": [
    "def crop_biggest_area(original_image, detected_faces):\n",
    "    \n",
    "    # the goal is crop the biggest area\n",
    "    if len(detected_faces) == 0: # viola jones didnt recognize any face\n",
    "        return original_image, (None, None, original_image.shape[0], original_image.shape[1])\n",
    "    else:\n",
    "        # detected_faces returns: column, row, width, height\n",
    "        # So, assuming all width == height\n",
    "        # get np.argmax of height\n",
    "        id_max_max_width = np.argmax(detected_faces[:, -1])\n",
    "        column, row, width, height = detected_faces[id_max_max_width]\n",
    "        return crop_image(original_image, column, row, width, height), (column, row, width, height)"
   ]
  },
  {
   "cell_type": "markdown",
   "metadata": {},
   "source": [
    "## Problem: images with differents shapes\n",
    "### Response: Use the resize methods. So, cropped all images, then used resize methods to get a standard shape"
   ]
  },
  {
   "cell_type": "markdown",
   "metadata": {},
   "source": [
    "### Update df_train and df_test"
   ]
  },
  {
   "cell_type": "code",
   "execution_count": 18,
   "metadata": {},
   "outputs": [],
   "source": [
    "df_train['path_pair_id_1_cropped'] = df_train['path_pair_id_1'].apply(lambda x: x.replace('lfw2', 'lfw2_cropped'))\n",
    "_ = df_train['path_pair_id_1_cropped'].apply(lambda x: None if os.path.isdir(os.path.split(x)[0]) else os.mkdir(os.path.split(x)[0]))\n",
    "\n",
    "df_train['path_pair_id_2_cropped'] = df_train['path_pair_id_2'].apply(lambda x: x.replace('lfw2', 'lfw2_cropped'))\n",
    "_ = df_train['path_pair_id_2_cropped'].apply(lambda x: None if os.path.isdir(os.path.split(x)[0]) else os.mkdir(os.path.split(x)[0]))"
   ]
  },
  {
   "cell_type": "code",
   "execution_count": 19,
   "metadata": {},
   "outputs": [],
   "source": [
    "df_test['path_pair_id_1_cropped'] = df_test['path_pair_id_1'].apply(lambda x: x.replace('lfw2', 'lfw2_cropped'))\n",
    "_ = df_test['path_pair_id_1_cropped'].apply(lambda x: None if os.path.isdir(os.path.split(x)[0]) else os.mkdir(os.path.split(x)[0]))\n",
    "\n",
    "df_test['path_pair_id_2_cropped'] = df_test['path_pair_id_2'].apply(lambda x: x.replace('lfw2', 'lfw2_cropped'))\n",
    "_ = df_test['path_pair_id_2_cropped'].apply(lambda x: None if os.path.isdir(os.path.split(x)[0]) else os.mkdir(os.path.split(x)[0]))"
   ]
  },
  {
   "cell_type": "code",
   "execution_count": 20,
   "metadata": {},
   "outputs": [
    {
     "data": {
      "text/html": [
       "<div>\n",
       "<style scoped>\n",
       "    .dataframe tbody tr th:only-of-type {\n",
       "        vertical-align: middle;\n",
       "    }\n",
       "\n",
       "    .dataframe tbody tr th {\n",
       "        vertical-align: top;\n",
       "    }\n",
       "\n",
       "    .dataframe thead th {\n",
       "        text-align: right;\n",
       "    }\n",
       "</style>\n",
       "<table border=\"1\" class=\"dataframe\">\n",
       "  <thead>\n",
       "    <tr style=\"text-align: right;\">\n",
       "      <th></th>\n",
       "      <th>pair_id_1</th>\n",
       "      <th>pair_id_2</th>\n",
       "      <th>pair_name_1</th>\n",
       "      <th>pair_name_2</th>\n",
       "      <th>path_pair_id_1</th>\n",
       "      <th>path_pair_id_2</th>\n",
       "      <th>path_pair_id_1_cropped</th>\n",
       "      <th>path_pair_id_2_cropped</th>\n",
       "    </tr>\n",
       "  </thead>\n",
       "  <tbody>\n",
       "    <tr>\n",
       "      <td>0</td>\n",
       "      <td>1</td>\n",
       "      <td>2</td>\n",
       "      <td>Aaron_Peirsol</td>\n",
       "      <td>None</td>\n",
       "      <td>..\\Data\\lfw2\\Aaron_Peirsol\\Aaron_Peirsol_0001.jpg</td>\n",
       "      <td>..\\Data\\lfw2\\Aaron_Peirsol\\Aaron_Peirsol_0002.jpg</td>\n",
       "      <td>..\\Data\\lfw2_cropped\\Aaron_Peirsol\\Aaron_Peirs...</td>\n",
       "      <td>..\\Data\\lfw2_cropped\\Aaron_Peirsol\\Aaron_Peirs...</td>\n",
       "    </tr>\n",
       "    <tr>\n",
       "      <td>1</td>\n",
       "      <td>3</td>\n",
       "      <td>4</td>\n",
       "      <td>Aaron_Peirsol</td>\n",
       "      <td>None</td>\n",
       "      <td>..\\Data\\lfw2\\Aaron_Peirsol\\Aaron_Peirsol_0003.jpg</td>\n",
       "      <td>..\\Data\\lfw2\\Aaron_Peirsol\\Aaron_Peirsol_0004.jpg</td>\n",
       "      <td>..\\Data\\lfw2_cropped\\Aaron_Peirsol\\Aaron_Peirs...</td>\n",
       "      <td>..\\Data\\lfw2_cropped\\Aaron_Peirsol\\Aaron_Peirs...</td>\n",
       "    </tr>\n",
       "    <tr>\n",
       "      <td>2</td>\n",
       "      <td>1</td>\n",
       "      <td>2</td>\n",
       "      <td>Aaron_Sorkin</td>\n",
       "      <td>None</td>\n",
       "      <td>..\\Data\\lfw2\\Aaron_Sorkin\\Aaron_Sorkin_0001.jpg</td>\n",
       "      <td>..\\Data\\lfw2\\Aaron_Sorkin\\Aaron_Sorkin_0002.jpg</td>\n",
       "      <td>..\\Data\\lfw2_cropped\\Aaron_Sorkin\\Aaron_Sorkin...</td>\n",
       "      <td>..\\Data\\lfw2_cropped\\Aaron_Sorkin\\Aaron_Sorkin...</td>\n",
       "    </tr>\n",
       "    <tr>\n",
       "      <td>3</td>\n",
       "      <td>1</td>\n",
       "      <td>2</td>\n",
       "      <td>Abdel_Nasser_Assidi</td>\n",
       "      <td>None</td>\n",
       "      <td>..\\Data\\lfw2\\Abdel_Nasser_Assidi\\Abdel_Nasser_...</td>\n",
       "      <td>..\\Data\\lfw2\\Abdel_Nasser_Assidi\\Abdel_Nasser_...</td>\n",
       "      <td>..\\Data\\lfw2_cropped\\Abdel_Nasser_Assidi\\Abdel...</td>\n",
       "      <td>..\\Data\\lfw2_cropped\\Abdel_Nasser_Assidi\\Abdel...</td>\n",
       "    </tr>\n",
       "    <tr>\n",
       "      <td>4</td>\n",
       "      <td>1</td>\n",
       "      <td>3</td>\n",
       "      <td>Abdullah</td>\n",
       "      <td>None</td>\n",
       "      <td>..\\Data\\lfw2\\Abdullah\\Abdullah_0001.jpg</td>\n",
       "      <td>..\\Data\\lfw2\\Abdullah\\Abdullah_0003.jpg</td>\n",
       "      <td>..\\Data\\lfw2_cropped\\Abdullah\\Abdullah_0001.jpg</td>\n",
       "      <td>..\\Data\\lfw2_cropped\\Abdullah\\Abdullah_0003.jpg</td>\n",
       "    </tr>\n",
       "  </tbody>\n",
       "</table>\n",
       "</div>"
      ],
      "text/plain": [
       "   pair_id_1  pair_id_2          pair_name_1 pair_name_2  \\\n",
       "0          1          2        Aaron_Peirsol        None   \n",
       "1          3          4        Aaron_Peirsol        None   \n",
       "2          1          2         Aaron_Sorkin        None   \n",
       "3          1          2  Abdel_Nasser_Assidi        None   \n",
       "4          1          3             Abdullah        None   \n",
       "\n",
       "                                      path_pair_id_1  \\\n",
       "0  ..\\Data\\lfw2\\Aaron_Peirsol\\Aaron_Peirsol_0001.jpg   \n",
       "1  ..\\Data\\lfw2\\Aaron_Peirsol\\Aaron_Peirsol_0003.jpg   \n",
       "2    ..\\Data\\lfw2\\Aaron_Sorkin\\Aaron_Sorkin_0001.jpg   \n",
       "3  ..\\Data\\lfw2\\Abdel_Nasser_Assidi\\Abdel_Nasser_...   \n",
       "4            ..\\Data\\lfw2\\Abdullah\\Abdullah_0001.jpg   \n",
       "\n",
       "                                      path_pair_id_2  \\\n",
       "0  ..\\Data\\lfw2\\Aaron_Peirsol\\Aaron_Peirsol_0002.jpg   \n",
       "1  ..\\Data\\lfw2\\Aaron_Peirsol\\Aaron_Peirsol_0004.jpg   \n",
       "2    ..\\Data\\lfw2\\Aaron_Sorkin\\Aaron_Sorkin_0002.jpg   \n",
       "3  ..\\Data\\lfw2\\Abdel_Nasser_Assidi\\Abdel_Nasser_...   \n",
       "4            ..\\Data\\lfw2\\Abdullah\\Abdullah_0003.jpg   \n",
       "\n",
       "                              path_pair_id_1_cropped  \\\n",
       "0  ..\\Data\\lfw2_cropped\\Aaron_Peirsol\\Aaron_Peirs...   \n",
       "1  ..\\Data\\lfw2_cropped\\Aaron_Peirsol\\Aaron_Peirs...   \n",
       "2  ..\\Data\\lfw2_cropped\\Aaron_Sorkin\\Aaron_Sorkin...   \n",
       "3  ..\\Data\\lfw2_cropped\\Abdel_Nasser_Assidi\\Abdel...   \n",
       "4    ..\\Data\\lfw2_cropped\\Abdullah\\Abdullah_0001.jpg   \n",
       "\n",
       "                              path_pair_id_2_cropped  \n",
       "0  ..\\Data\\lfw2_cropped\\Aaron_Peirsol\\Aaron_Peirs...  \n",
       "1  ..\\Data\\lfw2_cropped\\Aaron_Peirsol\\Aaron_Peirs...  \n",
       "2  ..\\Data\\lfw2_cropped\\Aaron_Sorkin\\Aaron_Sorkin...  \n",
       "3  ..\\Data\\lfw2_cropped\\Abdel_Nasser_Assidi\\Abdel...  \n",
       "4    ..\\Data\\lfw2_cropped\\Abdullah\\Abdullah_0003.jpg  "
      ]
     },
     "execution_count": 20,
     "metadata": {},
     "output_type": "execute_result"
    }
   ],
   "source": [
    "df_train.head()"
   ]
  },
  {
   "cell_type": "code",
   "execution_count": 21,
   "metadata": {},
   "outputs": [
    {
     "data": {
      "text/html": [
       "<div>\n",
       "<style scoped>\n",
       "    .dataframe tbody tr th:only-of-type {\n",
       "        vertical-align: middle;\n",
       "    }\n",
       "\n",
       "    .dataframe tbody tr th {\n",
       "        vertical-align: top;\n",
       "    }\n",
       "\n",
       "    .dataframe thead th {\n",
       "        text-align: right;\n",
       "    }\n",
       "</style>\n",
       "<table border=\"1\" class=\"dataframe\">\n",
       "  <thead>\n",
       "    <tr style=\"text-align: right;\">\n",
       "      <th></th>\n",
       "      <th>pair_id_1</th>\n",
       "      <th>pair_id_2</th>\n",
       "      <th>pair_name_1</th>\n",
       "      <th>pair_name_2</th>\n",
       "      <th>path_pair_id_1</th>\n",
       "      <th>path_pair_id_2</th>\n",
       "      <th>path_pair_id_1_cropped</th>\n",
       "      <th>path_pair_id_2_cropped</th>\n",
       "    </tr>\n",
       "  </thead>\n",
       "  <tbody>\n",
       "    <tr>\n",
       "      <td>0</td>\n",
       "      <td>13</td>\n",
       "      <td>14</td>\n",
       "      <td>Abdullah_Gul</td>\n",
       "      <td>None</td>\n",
       "      <td>..\\Data\\lfw2\\Abdullah_Gul\\Abdullah_Gul_0013.jpg</td>\n",
       "      <td>..\\Data\\lfw2\\Abdullah_Gul\\Abdullah_Gul_0014.jpg</td>\n",
       "      <td>..\\Data\\lfw2_cropped\\Abdullah_Gul\\Abdullah_Gul...</td>\n",
       "      <td>..\\Data\\lfw2_cropped\\Abdullah_Gul\\Abdullah_Gul...</td>\n",
       "    </tr>\n",
       "    <tr>\n",
       "      <td>1</td>\n",
       "      <td>13</td>\n",
       "      <td>16</td>\n",
       "      <td>Abdullah_Gul</td>\n",
       "      <td>None</td>\n",
       "      <td>..\\Data\\lfw2\\Abdullah_Gul\\Abdullah_Gul_0013.jpg</td>\n",
       "      <td>..\\Data\\lfw2\\Abdullah_Gul\\Abdullah_Gul_0016.jpg</td>\n",
       "      <td>..\\Data\\lfw2_cropped\\Abdullah_Gul\\Abdullah_Gul...</td>\n",
       "      <td>..\\Data\\lfw2_cropped\\Abdullah_Gul\\Abdullah_Gul...</td>\n",
       "    </tr>\n",
       "    <tr>\n",
       "      <td>2</td>\n",
       "      <td>1</td>\n",
       "      <td>2</td>\n",
       "      <td>Abdullatif_Sener</td>\n",
       "      <td>None</td>\n",
       "      <td>..\\Data\\lfw2\\Abdullatif_Sener\\Abdullatif_Sener...</td>\n",
       "      <td>..\\Data\\lfw2\\Abdullatif_Sener\\Abdullatif_Sener...</td>\n",
       "      <td>..\\Data\\lfw2_cropped\\Abdullatif_Sener\\Abdullat...</td>\n",
       "      <td>..\\Data\\lfw2_cropped\\Abdullatif_Sener\\Abdullat...</td>\n",
       "    </tr>\n",
       "    <tr>\n",
       "      <td>3</td>\n",
       "      <td>1</td>\n",
       "      <td>3</td>\n",
       "      <td>Adel_Al-Jubeir</td>\n",
       "      <td>None</td>\n",
       "      <td>..\\Data\\lfw2\\Adel_Al-Jubeir\\Adel_Al-Jubeir_000...</td>\n",
       "      <td>..\\Data\\lfw2\\Adel_Al-Jubeir\\Adel_Al-Jubeir_000...</td>\n",
       "      <td>..\\Data\\lfw2_cropped\\Adel_Al-Jubeir\\Adel_Al-Ju...</td>\n",
       "      <td>..\\Data\\lfw2_cropped\\Adel_Al-Jubeir\\Adel_Al-Ju...</td>\n",
       "    </tr>\n",
       "    <tr>\n",
       "      <td>4</td>\n",
       "      <td>1</td>\n",
       "      <td>2</td>\n",
       "      <td>Al_Pacino</td>\n",
       "      <td>None</td>\n",
       "      <td>..\\Data\\lfw2\\Al_Pacino\\Al_Pacino_0001.jpg</td>\n",
       "      <td>..\\Data\\lfw2\\Al_Pacino\\Al_Pacino_0002.jpg</td>\n",
       "      <td>..\\Data\\lfw2_cropped\\Al_Pacino\\Al_Pacino_0001.jpg</td>\n",
       "      <td>..\\Data\\lfw2_cropped\\Al_Pacino\\Al_Pacino_0002.jpg</td>\n",
       "    </tr>\n",
       "  </tbody>\n",
       "</table>\n",
       "</div>"
      ],
      "text/plain": [
       "   pair_id_1  pair_id_2       pair_name_1 pair_name_2  \\\n",
       "0         13         14      Abdullah_Gul        None   \n",
       "1         13         16      Abdullah_Gul        None   \n",
       "2          1          2  Abdullatif_Sener        None   \n",
       "3          1          3    Adel_Al-Jubeir        None   \n",
       "4          1          2         Al_Pacino        None   \n",
       "\n",
       "                                      path_pair_id_1  \\\n",
       "0    ..\\Data\\lfw2\\Abdullah_Gul\\Abdullah_Gul_0013.jpg   \n",
       "1    ..\\Data\\lfw2\\Abdullah_Gul\\Abdullah_Gul_0013.jpg   \n",
       "2  ..\\Data\\lfw2\\Abdullatif_Sener\\Abdullatif_Sener...   \n",
       "3  ..\\Data\\lfw2\\Adel_Al-Jubeir\\Adel_Al-Jubeir_000...   \n",
       "4          ..\\Data\\lfw2\\Al_Pacino\\Al_Pacino_0001.jpg   \n",
       "\n",
       "                                      path_pair_id_2  \\\n",
       "0    ..\\Data\\lfw2\\Abdullah_Gul\\Abdullah_Gul_0014.jpg   \n",
       "1    ..\\Data\\lfw2\\Abdullah_Gul\\Abdullah_Gul_0016.jpg   \n",
       "2  ..\\Data\\lfw2\\Abdullatif_Sener\\Abdullatif_Sener...   \n",
       "3  ..\\Data\\lfw2\\Adel_Al-Jubeir\\Adel_Al-Jubeir_000...   \n",
       "4          ..\\Data\\lfw2\\Al_Pacino\\Al_Pacino_0002.jpg   \n",
       "\n",
       "                              path_pair_id_1_cropped  \\\n",
       "0  ..\\Data\\lfw2_cropped\\Abdullah_Gul\\Abdullah_Gul...   \n",
       "1  ..\\Data\\lfw2_cropped\\Abdullah_Gul\\Abdullah_Gul...   \n",
       "2  ..\\Data\\lfw2_cropped\\Abdullatif_Sener\\Abdullat...   \n",
       "3  ..\\Data\\lfw2_cropped\\Adel_Al-Jubeir\\Adel_Al-Ju...   \n",
       "4  ..\\Data\\lfw2_cropped\\Al_Pacino\\Al_Pacino_0001.jpg   \n",
       "\n",
       "                              path_pair_id_2_cropped  \n",
       "0  ..\\Data\\lfw2_cropped\\Abdullah_Gul\\Abdullah_Gul...  \n",
       "1  ..\\Data\\lfw2_cropped\\Abdullah_Gul\\Abdullah_Gul...  \n",
       "2  ..\\Data\\lfw2_cropped\\Abdullatif_Sener\\Abdullat...  \n",
       "3  ..\\Data\\lfw2_cropped\\Adel_Al-Jubeir\\Adel_Al-Ju...  \n",
       "4  ..\\Data\\lfw2_cropped\\Al_Pacino\\Al_Pacino_0002.jpg  "
      ]
     },
     "execution_count": 21,
     "metadata": {},
     "output_type": "execute_result"
    }
   ],
   "source": [
    "df_test.head()"
   ]
  },
  {
   "cell_type": "code",
   "execution_count": null,
   "metadata": {},
   "outputs": [],
   "source": []
  },
  {
   "cell_type": "markdown",
   "metadata": {},
   "source": [
    "# Paper: Face Recognition Based on HOG and Fast PCA Algorithm\n",
    "\n",
    "    1- Viola Jones\n",
    "    2- Resize = 64x128\n",
    "    3- HOG:\n",
    "        3780 HOG features\n",
    "    4- PCA\n",
    "    5- Normalização: median normalization method (Eq 10)\n",
    "    "
   ]
  },
  {
   "cell_type": "markdown",
   "metadata": {},
   "source": [
    "### Steps 1 and 2"
   ]
  },
  {
   "cell_type": "code",
   "execution_count": 22,
   "metadata": {},
   "outputs": [],
   "source": [
    "def preprocessing(path_image, path_to_save, dim=(100, 100)):\n",
    "    original_image = open_img(path_image, color=0)\n",
    "    grayscale_image = original_image.copy()\n",
    "    detected_faces = face_cascade.detectMultiScale(grayscale_image)# step 1\n",
    "    cropped_image, (column, row, width, height) = crop_biggest_area(original_image, detected_faces)\n",
    "    resized = cv2.resize(cropped_image, dim, interpolation = cv2.INTER_AREA) #step 2\n",
    "    save_img(path_img=path_to_save, img=resized)\n",
    "    return (column, row, width, height)"
   ]
  },
  {
   "cell_type": "markdown",
   "metadata": {},
   "source": [
    "### get dimensions VJ and apply pre-processing"
   ]
  },
  {
   "cell_type": "code",
   "execution_count": 23,
   "metadata": {},
   "outputs": [],
   "source": [
    "df_train['VJ_pair_id_1'] = df_train.apply(lambda x: preprocessing(path_image=x['path_pair_id_1'], path_to_save=x['path_pair_id_1_cropped'], dim=(64,128)), axis=1)\n",
    "df_train['VJ_pair_id_2'] = df_train.apply(lambda x: preprocessing(path_image=x['path_pair_id_2'], path_to_save=x['path_pair_id_2_cropped'], dim=(64,128)), axis=1)\n",
    "\n",
    "df_test['VJ_pair_id_1'] = df_test.apply(lambda x: preprocessing(path_image=x['path_pair_id_1'], path_to_save=x['path_pair_id_1_cropped'], dim=(64,128)), axis=1)\n",
    "df_test['VJ_pair_id_2'] = df_test.apply(lambda x: preprocessing(path_image=x['path_pair_id_2'], path_to_save=x['path_pair_id_2_cropped'], dim=(64,128)), axis=1)"
   ]
  },
  {
   "cell_type": "code",
   "execution_count": 24,
   "metadata": {},
   "outputs": [
    {
     "data": {
      "text/html": [
       "<div>\n",
       "<style scoped>\n",
       "    .dataframe tbody tr th:only-of-type {\n",
       "        vertical-align: middle;\n",
       "    }\n",
       "\n",
       "    .dataframe tbody tr th {\n",
       "        vertical-align: top;\n",
       "    }\n",
       "\n",
       "    .dataframe thead th {\n",
       "        text-align: right;\n",
       "    }\n",
       "</style>\n",
       "<table border=\"1\" class=\"dataframe\">\n",
       "  <thead>\n",
       "    <tr style=\"text-align: right;\">\n",
       "      <th></th>\n",
       "      <th>pair_id_1</th>\n",
       "      <th>pair_id_2</th>\n",
       "      <th>pair_name_1</th>\n",
       "      <th>pair_name_2</th>\n",
       "      <th>path_pair_id_1</th>\n",
       "      <th>path_pair_id_2</th>\n",
       "      <th>path_pair_id_1_cropped</th>\n",
       "      <th>path_pair_id_2_cropped</th>\n",
       "      <th>VJ_pair_id_1</th>\n",
       "      <th>VJ_pair_id_2</th>\n",
       "    </tr>\n",
       "  </thead>\n",
       "  <tbody>\n",
       "    <tr>\n",
       "      <td>0</td>\n",
       "      <td>1</td>\n",
       "      <td>2</td>\n",
       "      <td>Aaron_Peirsol</td>\n",
       "      <td>None</td>\n",
       "      <td>..\\Data\\lfw2\\Aaron_Peirsol\\Aaron_Peirsol_0001.jpg</td>\n",
       "      <td>..\\Data\\lfw2\\Aaron_Peirsol\\Aaron_Peirsol_0002.jpg</td>\n",
       "      <td>..\\Data\\lfw2_cropped\\Aaron_Peirsol\\Aaron_Peirs...</td>\n",
       "      <td>..\\Data\\lfw2_cropped\\Aaron_Peirsol\\Aaron_Peirs...</td>\n",
       "      <td>(63, 63, 127, 127)</td>\n",
       "      <td>(69, 68, 114, 114)</td>\n",
       "    </tr>\n",
       "    <tr>\n",
       "      <td>1</td>\n",
       "      <td>3</td>\n",
       "      <td>4</td>\n",
       "      <td>Aaron_Peirsol</td>\n",
       "      <td>None</td>\n",
       "      <td>..\\Data\\lfw2\\Aaron_Peirsol\\Aaron_Peirsol_0003.jpg</td>\n",
       "      <td>..\\Data\\lfw2\\Aaron_Peirsol\\Aaron_Peirsol_0004.jpg</td>\n",
       "      <td>..\\Data\\lfw2_cropped\\Aaron_Peirsol\\Aaron_Peirs...</td>\n",
       "      <td>..\\Data\\lfw2_cropped\\Aaron_Peirsol\\Aaron_Peirs...</td>\n",
       "      <td>(61, 61, 130, 130)</td>\n",
       "      <td>(70, 66, 112, 112)</td>\n",
       "    </tr>\n",
       "    <tr>\n",
       "      <td>2</td>\n",
       "      <td>1</td>\n",
       "      <td>2</td>\n",
       "      <td>Aaron_Sorkin</td>\n",
       "      <td>None</td>\n",
       "      <td>..\\Data\\lfw2\\Aaron_Sorkin\\Aaron_Sorkin_0001.jpg</td>\n",
       "      <td>..\\Data\\lfw2\\Aaron_Sorkin\\Aaron_Sorkin_0002.jpg</td>\n",
       "      <td>..\\Data\\lfw2_cropped\\Aaron_Sorkin\\Aaron_Sorkin...</td>\n",
       "      <td>..\\Data\\lfw2_cropped\\Aaron_Sorkin\\Aaron_Sorkin...</td>\n",
       "      <td>(69, 69, 114, 114)</td>\n",
       "      <td>(63, 64, 125, 125)</td>\n",
       "    </tr>\n",
       "    <tr>\n",
       "      <td>3</td>\n",
       "      <td>1</td>\n",
       "      <td>2</td>\n",
       "      <td>Abdel_Nasser_Assidi</td>\n",
       "      <td>None</td>\n",
       "      <td>..\\Data\\lfw2\\Abdel_Nasser_Assidi\\Abdel_Nasser_...</td>\n",
       "      <td>..\\Data\\lfw2\\Abdel_Nasser_Assidi\\Abdel_Nasser_...</td>\n",
       "      <td>..\\Data\\lfw2_cropped\\Abdel_Nasser_Assidi\\Abdel...</td>\n",
       "      <td>..\\Data\\lfw2_cropped\\Abdel_Nasser_Assidi\\Abdel...</td>\n",
       "      <td>(66, 66, 118, 118)</td>\n",
       "      <td>(68, 70, 113, 113)</td>\n",
       "    </tr>\n",
       "    <tr>\n",
       "      <td>4</td>\n",
       "      <td>1</td>\n",
       "      <td>3</td>\n",
       "      <td>Abdullah</td>\n",
       "      <td>None</td>\n",
       "      <td>..\\Data\\lfw2\\Abdullah\\Abdullah_0001.jpg</td>\n",
       "      <td>..\\Data\\lfw2\\Abdullah\\Abdullah_0003.jpg</td>\n",
       "      <td>..\\Data\\lfw2_cropped\\Abdullah\\Abdullah_0001.jpg</td>\n",
       "      <td>..\\Data\\lfw2_cropped\\Abdullah\\Abdullah_0003.jpg</td>\n",
       "      <td>(64, 63, 125, 125)</td>\n",
       "      <td>(63, 64, 124, 124)</td>\n",
       "    </tr>\n",
       "  </tbody>\n",
       "</table>\n",
       "</div>"
      ],
      "text/plain": [
       "   pair_id_1  pair_id_2          pair_name_1 pair_name_2  \\\n",
       "0          1          2        Aaron_Peirsol        None   \n",
       "1          3          4        Aaron_Peirsol        None   \n",
       "2          1          2         Aaron_Sorkin        None   \n",
       "3          1          2  Abdel_Nasser_Assidi        None   \n",
       "4          1          3             Abdullah        None   \n",
       "\n",
       "                                      path_pair_id_1  \\\n",
       "0  ..\\Data\\lfw2\\Aaron_Peirsol\\Aaron_Peirsol_0001.jpg   \n",
       "1  ..\\Data\\lfw2\\Aaron_Peirsol\\Aaron_Peirsol_0003.jpg   \n",
       "2    ..\\Data\\lfw2\\Aaron_Sorkin\\Aaron_Sorkin_0001.jpg   \n",
       "3  ..\\Data\\lfw2\\Abdel_Nasser_Assidi\\Abdel_Nasser_...   \n",
       "4            ..\\Data\\lfw2\\Abdullah\\Abdullah_0001.jpg   \n",
       "\n",
       "                                      path_pair_id_2  \\\n",
       "0  ..\\Data\\lfw2\\Aaron_Peirsol\\Aaron_Peirsol_0002.jpg   \n",
       "1  ..\\Data\\lfw2\\Aaron_Peirsol\\Aaron_Peirsol_0004.jpg   \n",
       "2    ..\\Data\\lfw2\\Aaron_Sorkin\\Aaron_Sorkin_0002.jpg   \n",
       "3  ..\\Data\\lfw2\\Abdel_Nasser_Assidi\\Abdel_Nasser_...   \n",
       "4            ..\\Data\\lfw2\\Abdullah\\Abdullah_0003.jpg   \n",
       "\n",
       "                              path_pair_id_1_cropped  \\\n",
       "0  ..\\Data\\lfw2_cropped\\Aaron_Peirsol\\Aaron_Peirs...   \n",
       "1  ..\\Data\\lfw2_cropped\\Aaron_Peirsol\\Aaron_Peirs...   \n",
       "2  ..\\Data\\lfw2_cropped\\Aaron_Sorkin\\Aaron_Sorkin...   \n",
       "3  ..\\Data\\lfw2_cropped\\Abdel_Nasser_Assidi\\Abdel...   \n",
       "4    ..\\Data\\lfw2_cropped\\Abdullah\\Abdullah_0001.jpg   \n",
       "\n",
       "                              path_pair_id_2_cropped        VJ_pair_id_1  \\\n",
       "0  ..\\Data\\lfw2_cropped\\Aaron_Peirsol\\Aaron_Peirs...  (63, 63, 127, 127)   \n",
       "1  ..\\Data\\lfw2_cropped\\Aaron_Peirsol\\Aaron_Peirs...  (61, 61, 130, 130)   \n",
       "2  ..\\Data\\lfw2_cropped\\Aaron_Sorkin\\Aaron_Sorkin...  (69, 69, 114, 114)   \n",
       "3  ..\\Data\\lfw2_cropped\\Abdel_Nasser_Assidi\\Abdel...  (66, 66, 118, 118)   \n",
       "4    ..\\Data\\lfw2_cropped\\Abdullah\\Abdullah_0003.jpg  (64, 63, 125, 125)   \n",
       "\n",
       "         VJ_pair_id_2  \n",
       "0  (69, 68, 114, 114)  \n",
       "1  (70, 66, 112, 112)  \n",
       "2  (63, 64, 125, 125)  \n",
       "3  (68, 70, 113, 113)  \n",
       "4  (63, 64, 124, 124)  "
      ]
     },
     "execution_count": 24,
     "metadata": {},
     "output_type": "execute_result"
    }
   ],
   "source": [
    "df_train.head()"
   ]
  },
  {
   "cell_type": "code",
   "execution_count": 25,
   "metadata": {},
   "outputs": [
    {
     "name": "stdout",
     "output_type": "stream",
     "text": [
      "(128, 64)\n"
     ]
    },
    {
     "data": {
      "image/png": "[encoded data removed]",
      "text/plain": [
       "<Figure size 432x288 with 1 Axes>"
      ]
     },
     "metadata": {},
     "output_type": "display_data"
    }
   ],
   "source": [
    "test_img = open_img(df_train.loc[0, 'path_pair_id_1_cropped'])\n",
    "print(test_img.shape)\n",
    "plt_img(test_img)"
   ]
  },
  {
   "cell_type": "markdown",
   "metadata": {},
   "source": [
    "### Step 3: apply HOG in pre processed images (VJ + resize)"
   ]
  },
  {
   "cell_type": "markdown",
   "metadata": {},
   "source": [
    "#### apply HOG: paper 3780 HOG features"
   ]
  },
  {
   "cell_type": "code",
   "execution_count": 26,
   "metadata": {},
   "outputs": [],
   "source": [
    "X_train_1_HOG = np.array([feature.hog(open_img(img_1), orientations=9, pixels_per_cell=(8, 8), cells_per_block=(2, 2), \n",
    "                                  block_norm='L2', visualize=False, transform_sqrt=False, feature_vector=True, \n",
    "                                  multichannel=False)\n",
    "                      for img_1 in df_train.loc[:,'path_pair_id_1_cropped'].values])"
   ]
  },
  {
   "cell_type": "code",
   "execution_count": 27,
   "metadata": {},
   "outputs": [
    {
     "data": {
      "text/plain": [
       "(2200, 3780)"
      ]
     },
     "execution_count": 27,
     "metadata": {},
     "output_type": "execute_result"
    }
   ],
   "source": [
    "X_train_1_HOG.shape"
   ]
  },
  {
   "cell_type": "code",
   "execution_count": 28,
   "metadata": {},
   "outputs": [],
   "source": [
    "X_train_2_HOG = np.array([feature.hog(open_img(img_2), orientations=9, pixels_per_cell=(8, 8), cells_per_block=(2, 2), \n",
    "                                  block_norm='L2', visualize=False, transform_sqrt=False, feature_vector=True, \n",
    "                                  multichannel=False)\n",
    "                      for img_2 in df_train.loc[:,'path_pair_id_2_cropped'].values])"
   ]
  },
  {
   "cell_type": "code",
   "execution_count": 29,
   "metadata": {},
   "outputs": [
    {
     "data": {
      "text/plain": [
       "(2200, 3780)"
      ]
     },
     "execution_count": 29,
     "metadata": {},
     "output_type": "execute_result"
    }
   ],
   "source": [
    "X_train_2_HOG.shape"
   ]
  },
  {
   "cell_type": "code",
   "execution_count": 30,
   "metadata": {},
   "outputs": [],
   "source": [
    "y_train = np.array([[1 if par==None else 0 for par in df_train.loc[:,'pair_name_2'].values]]).T"
   ]
  },
  {
   "cell_type": "code",
   "execution_count": 31,
   "metadata": {},
   "outputs": [
    {
     "data": {
      "text/plain": [
       "{0: 1100, 1: 1100}"
      ]
     },
     "execution_count": 31,
     "metadata": {},
     "output_type": "execute_result"
    }
   ],
   "source": [
    "unique, counts = np.unique(y_train, return_counts=True)\n",
    "dict(zip(unique, counts))"
   ]
  },
  {
   "cell_type": "markdown",
   "metadata": {},
   "source": [
    "#### Df_test"
   ]
  },
  {
   "cell_type": "code",
   "execution_count": 32,
   "metadata": {},
   "outputs": [
    {
     "data": {
      "text/html": [
       "<div>\n",
       "<style scoped>\n",
       "    .dataframe tbody tr th:only-of-type {\n",
       "        vertical-align: middle;\n",
       "    }\n",
       "\n",
       "    .dataframe tbody tr th {\n",
       "        vertical-align: top;\n",
       "    }\n",
       "\n",
       "    .dataframe thead th {\n",
       "        text-align: right;\n",
       "    }\n",
       "</style>\n",
       "<table border=\"1\" class=\"dataframe\">\n",
       "  <thead>\n",
       "    <tr style=\"text-align: right;\">\n",
       "      <th></th>\n",
       "      <th>pair_id_1</th>\n",
       "      <th>pair_id_2</th>\n",
       "      <th>pair_name_1</th>\n",
       "      <th>pair_name_2</th>\n",
       "      <th>path_pair_id_1</th>\n",
       "      <th>path_pair_id_2</th>\n",
       "      <th>path_pair_id_1_cropped</th>\n",
       "      <th>path_pair_id_2_cropped</th>\n",
       "      <th>VJ_pair_id_1</th>\n",
       "      <th>VJ_pair_id_2</th>\n",
       "    </tr>\n",
       "  </thead>\n",
       "  <tbody>\n",
       "    <tr>\n",
       "      <td>0</td>\n",
       "      <td>13</td>\n",
       "      <td>14</td>\n",
       "      <td>Abdullah_Gul</td>\n",
       "      <td>None</td>\n",
       "      <td>..\\Data\\lfw2\\Abdullah_Gul\\Abdullah_Gul_0013.jpg</td>\n",
       "      <td>..\\Data\\lfw2\\Abdullah_Gul\\Abdullah_Gul_0014.jpg</td>\n",
       "      <td>..\\Data\\lfw2_cropped\\Abdullah_Gul\\Abdullah_Gul...</td>\n",
       "      <td>..\\Data\\lfw2_cropped\\Abdullah_Gul\\Abdullah_Gul...</td>\n",
       "      <td>(63, 61, 129, 129)</td>\n",
       "      <td>(63, 65, 126, 126)</td>\n",
       "    </tr>\n",
       "    <tr>\n",
       "      <td>1</td>\n",
       "      <td>13</td>\n",
       "      <td>16</td>\n",
       "      <td>Abdullah_Gul</td>\n",
       "      <td>None</td>\n",
       "      <td>..\\Data\\lfw2\\Abdullah_Gul\\Abdullah_Gul_0013.jpg</td>\n",
       "      <td>..\\Data\\lfw2\\Abdullah_Gul\\Abdullah_Gul_0016.jpg</td>\n",
       "      <td>..\\Data\\lfw2_cropped\\Abdullah_Gul\\Abdullah_Gul...</td>\n",
       "      <td>..\\Data\\lfw2_cropped\\Abdullah_Gul\\Abdullah_Gul...</td>\n",
       "      <td>(63, 61, 129, 129)</td>\n",
       "      <td>(1, 112, 73, 73)</td>\n",
       "    </tr>\n",
       "    <tr>\n",
       "      <td>2</td>\n",
       "      <td>1</td>\n",
       "      <td>2</td>\n",
       "      <td>Abdullatif_Sener</td>\n",
       "      <td>None</td>\n",
       "      <td>..\\Data\\lfw2\\Abdullatif_Sener\\Abdullatif_Sener...</td>\n",
       "      <td>..\\Data\\lfw2\\Abdullatif_Sener\\Abdullatif_Sener...</td>\n",
       "      <td>..\\Data\\lfw2_cropped\\Abdullatif_Sener\\Abdullat...</td>\n",
       "      <td>..\\Data\\lfw2_cropped\\Abdullatif_Sener\\Abdullat...</td>\n",
       "      <td>(65, 62, 123, 123)</td>\n",
       "      <td>(63, 62, 125, 125)</td>\n",
       "    </tr>\n",
       "    <tr>\n",
       "      <td>3</td>\n",
       "      <td>1</td>\n",
       "      <td>3</td>\n",
       "      <td>Adel_Al-Jubeir</td>\n",
       "      <td>None</td>\n",
       "      <td>..\\Data\\lfw2\\Adel_Al-Jubeir\\Adel_Al-Jubeir_000...</td>\n",
       "      <td>..\\Data\\lfw2\\Adel_Al-Jubeir\\Adel_Al-Jubeir_000...</td>\n",
       "      <td>..\\Data\\lfw2_cropped\\Adel_Al-Jubeir\\Adel_Al-Ju...</td>\n",
       "      <td>..\\Data\\lfw2_cropped\\Adel_Al-Jubeir\\Adel_Al-Ju...</td>\n",
       "      <td>(66, 67, 120, 120)</td>\n",
       "      <td>(65, 61, 125, 125)</td>\n",
       "    </tr>\n",
       "    <tr>\n",
       "      <td>4</td>\n",
       "      <td>1</td>\n",
       "      <td>2</td>\n",
       "      <td>Al_Pacino</td>\n",
       "      <td>None</td>\n",
       "      <td>..\\Data\\lfw2\\Al_Pacino\\Al_Pacino_0001.jpg</td>\n",
       "      <td>..\\Data\\lfw2\\Al_Pacino\\Al_Pacino_0002.jpg</td>\n",
       "      <td>..\\Data\\lfw2_cropped\\Al_Pacino\\Al_Pacino_0001.jpg</td>\n",
       "      <td>..\\Data\\lfw2_cropped\\Al_Pacino\\Al_Pacino_0002.jpg</td>\n",
       "      <td>(68, 68, 116, 116)</td>\n",
       "      <td>(71, 69, 112, 112)</td>\n",
       "    </tr>\n",
       "  </tbody>\n",
       "</table>\n",
       "</div>"
      ],
      "text/plain": [
       "   pair_id_1  pair_id_2       pair_name_1 pair_name_2  \\\n",
       "0         13         14      Abdullah_Gul        None   \n",
       "1         13         16      Abdullah_Gul        None   \n",
       "2          1          2  Abdullatif_Sener        None   \n",
       "3          1          3    Adel_Al-Jubeir        None   \n",
       "4          1          2         Al_Pacino        None   \n",
       "\n",
       "                                      path_pair_id_1  \\\n",
       "0    ..\\Data\\lfw2\\Abdullah_Gul\\Abdullah_Gul_0013.jpg   \n",
       "1    ..\\Data\\lfw2\\Abdullah_Gul\\Abdullah_Gul_0013.jpg   \n",
       "2  ..\\Data\\lfw2\\Abdullatif_Sener\\Abdullatif_Sener...   \n",
       "3  ..\\Data\\lfw2\\Adel_Al-Jubeir\\Adel_Al-Jubeir_000...   \n",
       "4          ..\\Data\\lfw2\\Al_Pacino\\Al_Pacino_0001.jpg   \n",
       "\n",
       "                                      path_pair_id_2  \\\n",
       "0    ..\\Data\\lfw2\\Abdullah_Gul\\Abdullah_Gul_0014.jpg   \n",
       "1    ..\\Data\\lfw2\\Abdullah_Gul\\Abdullah_Gul_0016.jpg   \n",
       "2  ..\\Data\\lfw2\\Abdullatif_Sener\\Abdullatif_Sener...   \n",
       "3  ..\\Data\\lfw2\\Adel_Al-Jubeir\\Adel_Al-Jubeir_000...   \n",
       "4          ..\\Data\\lfw2\\Al_Pacino\\Al_Pacino_0002.jpg   \n",
       "\n",
       "                              path_pair_id_1_cropped  \\\n",
       "0  ..\\Data\\lfw2_cropped\\Abdullah_Gul\\Abdullah_Gul...   \n",
       "1  ..\\Data\\lfw2_cropped\\Abdullah_Gul\\Abdullah_Gul...   \n",
       "2  ..\\Data\\lfw2_cropped\\Abdullatif_Sener\\Abdullat...   \n",
       "3  ..\\Data\\lfw2_cropped\\Adel_Al-Jubeir\\Adel_Al-Ju...   \n",
       "4  ..\\Data\\lfw2_cropped\\Al_Pacino\\Al_Pacino_0001.jpg   \n",
       "\n",
       "                              path_pair_id_2_cropped        VJ_pair_id_1  \\\n",
       "0  ..\\Data\\lfw2_cropped\\Abdullah_Gul\\Abdullah_Gul...  (63, 61, 129, 129)   \n",
       "1  ..\\Data\\lfw2_cropped\\Abdullah_Gul\\Abdullah_Gul...  (63, 61, 129, 129)   \n",
       "2  ..\\Data\\lfw2_cropped\\Abdullatif_Sener\\Abdullat...  (65, 62, 123, 123)   \n",
       "3  ..\\Data\\lfw2_cropped\\Adel_Al-Jubeir\\Adel_Al-Ju...  (66, 67, 120, 120)   \n",
       "4  ..\\Data\\lfw2_cropped\\Al_Pacino\\Al_Pacino_0002.jpg  (68, 68, 116, 116)   \n",
       "\n",
       "         VJ_pair_id_2  \n",
       "0  (63, 65, 126, 126)  \n",
       "1    (1, 112, 73, 73)  \n",
       "2  (63, 62, 125, 125)  \n",
       "3  (65, 61, 125, 125)  \n",
       "4  (71, 69, 112, 112)  "
      ]
     },
     "execution_count": 32,
     "metadata": {},
     "output_type": "execute_result"
    }
   ],
   "source": [
    "df_test.head()"
   ]
  },
  {
   "cell_type": "code",
   "execution_count": 33,
   "metadata": {},
   "outputs": [],
   "source": [
    "X_test_1_HOG = np.array([feature.hog(open_img(img_1), orientations=9, pixels_per_cell=(8, 8), cells_per_block=(2, 2), \n",
    "                                  block_norm='L2', visualize=False, transform_sqrt=False, feature_vector=True, \n",
    "                                  multichannel=False)\n",
    "                      for img_1 in df_test.loc[:,'path_pair_id_1_cropped'].values])"
   ]
  },
  {
   "cell_type": "code",
   "execution_count": 34,
   "metadata": {},
   "outputs": [],
   "source": [
    "X_test_2_HOG= np.array([feature.hog(open_img(img_2), orientations=9, pixels_per_cell=(8, 8), cells_per_block=(2, 2), \n",
    "                                  block_norm='L2', visualize=False, transform_sqrt=False, feature_vector=True, \n",
    "                                  multichannel=False)\n",
    "                      for img_2 in df_test.loc[:,'path_pair_id_2_cropped'].values])"
   ]
  },
  {
   "cell_type": "code",
   "execution_count": 35,
   "metadata": {},
   "outputs": [],
   "source": [
    "y_test = np.array([[1 if par==None else 0 for par in df_test.loc[:,'pair_name_2'].values]]).T"
   ]
  },
  {
   "cell_type": "code",
   "execution_count": 36,
   "metadata": {},
   "outputs": [
    {
     "data": {
      "text/plain": [
       "{0: 500, 1: 500}"
      ]
     },
     "execution_count": 36,
     "metadata": {},
     "output_type": "execute_result"
    }
   ],
   "source": [
    "unique, counts = np.unique(y_test, return_counts=True)\n",
    "dict(zip(unique, counts))"
   ]
  },
  {
   "cell_type": "markdown",
   "metadata": {},
   "source": [
    "# Os vetores X_train1_hog e X_train_2 serao concatenados via coluna para o PCA neste experimento"
   ]
  },
  {
   "cell_type": "code",
   "execution_count": 37,
   "metadata": {
    "scrolled": true
   },
   "outputs": [
    {
     "name": "stdout",
     "output_type": "stream",
     "text": [
      "(2200, 7560)\n"
     ]
    }
   ],
   "source": [
    "X_train_HOG = np.append(X_train_1_HOG, X_train_2_HOG, axis=1)\n",
    "print(X_train_HOG.shape)"
   ]
  },
  {
   "cell_type": "code",
   "execution_count": 38,
   "metadata": {},
   "outputs": [
    {
     "name": "stdout",
     "output_type": "stream",
     "text": [
      "(1000, 7560)\n"
     ]
    }
   ],
   "source": [
    "X_test_HOG = np.append(X_test_1_HOG, X_test_2_HOG, axis=1)\n",
    "print(X_test_HOG.shape)"
   ]
  },
  {
   "cell_type": "markdown",
   "metadata": {},
   "source": [
    "### Step 4: PCA"
   ]
  },
  {
   "cell_type": "markdown",
   "metadata": {},
   "source": [
    "# Atenção:\n",
    "- The Step 4 (PCA): is performed on resulting Hog Vector, here will be concatenate hog_vec_1 and hog_vec_2 before PCA"
   ]
  },
  {
   "cell_type": "code",
   "execution_count": 39,
   "metadata": {},
   "outputs": [
    {
     "data": {
      "image/png": "[encoded data removed]",
      "text/plain": [
       "<Figure size 432x288 with 1 Axes>"
      ]
     },
     "metadata": {},
     "output_type": "display_data"
    }
   ],
   "source": [
    "pca = PCA().fit(X_train_HOG)\n",
    "plt.plot(np.cumsum(pca.explained_variance_ratio_))\n",
    "plt.xlabel('number of components')\n",
    "plt.ylabel('cumulative explained variance');"
   ]
  },
  {
   "cell_type": "code",
   "execution_count": 40,
   "metadata": {},
   "outputs": [
    {
     "data": {
      "text/plain": [
       "0.8603273858998128"
      ]
     },
     "execution_count": 40,
     "metadata": {},
     "output_type": "execute_result"
    }
   ],
   "source": [
    "np.sum(pca.explained_variance_ratio_[:600])"
   ]
  },
  {
   "cell_type": "code",
   "execution_count": 41,
   "metadata": {},
   "outputs": [
    {
     "data": {
      "text/plain": [
       "0.8209395228569059"
      ]
     },
     "execution_count": 41,
     "metadata": {},
     "output_type": "execute_result"
    }
   ],
   "source": [
    "np.sum(pca.explained_variance_ratio_[:500])"
   ]
  },
  {
   "cell_type": "code",
   "execution_count": 42,
   "metadata": {},
   "outputs": [
    {
     "data": {
      "text/plain": [
       "0.7699141022684344"
      ]
     },
     "execution_count": 42,
     "metadata": {},
     "output_type": "execute_result"
    }
   ],
   "source": [
    "np.sum(pca.explained_variance_ratio_[:400])"
   ]
  },
  {
   "cell_type": "code",
   "execution_count": 43,
   "metadata": {},
   "outputs": [
    {
     "data": {
      "text/plain": [
       "PCA(copy=True, iterated_power='auto', n_components=400, random_state=None,\n",
       "    svd_solver='auto', tol=0.0, whiten=False)"
      ]
     },
     "execution_count": 43,
     "metadata": {},
     "output_type": "execute_result"
    }
   ],
   "source": [
    "pca.set_params(**{'n_components':400})"
   ]
  },
  {
   "cell_type": "code",
   "execution_count": 47,
   "metadata": {},
   "outputs": [],
   "source": [
    "X_train_PCA = pca.fit_transform(X=X_train_HOG)"
   ]
  },
  {
   "cell_type": "code",
   "execution_count": 48,
   "metadata": {},
   "outputs": [
    {
     "data": {
      "text/plain": [
       "(2200, 400)"
      ]
     },
     "execution_count": 48,
     "metadata": {},
     "output_type": "execute_result"
    }
   ],
   "source": [
    "X_train_PCA.shape"
   ]
  },
  {
   "cell_type": "code",
   "execution_count": 49,
   "metadata": {},
   "outputs": [],
   "source": [
    "X_test_PCA = pca.transform(X=X_test_HOG)"
   ]
  },
  {
   "cell_type": "code",
   "execution_count": 50,
   "metadata": {},
   "outputs": [
    {
     "data": {
      "text/plain": [
       "(1000, 400)"
      ]
     },
     "execution_count": 50,
     "metadata": {},
     "output_type": "execute_result"
    }
   ],
   "source": [
    "X_test_PCA.shape"
   ]
  },
  {
   "cell_type": "code",
   "execution_count": null,
   "metadata": {},
   "outputs": [],
   "source": []
  },
  {
   "cell_type": "markdown",
   "metadata": {},
   "source": [
    "### shuffle data"
   ]
  },
  {
   "cell_type": "code",
   "execution_count": 51,
   "metadata": {},
   "outputs": [],
   "source": [
    "arr = np.arange(y_train.shape[0])\n",
    "np.random.shuffle(arr)\n",
    "X = X_train_PCA[arr]\n",
    "y_d = y_train[arr]"
   ]
  },
  {
   "cell_type": "code",
   "execution_count": 52,
   "metadata": {
    "scrolled": true
   },
   "outputs": [
    {
     "name": "stdout",
     "output_type": "stream",
     "text": [
      "(2200, 400)\n",
      "(2200, 1)\n"
     ]
    }
   ],
   "source": [
    "print(X.shape)\n",
    "print(y_d.shape)"
   ]
  },
  {
   "cell_type": "markdown",
   "metadata": {},
   "source": [
    "## Grid SVM"
   ]
  },
  {
   "cell_type": "code",
   "execution_count": 63,
   "metadata": {},
   "outputs": [],
   "source": [
    "from sklearn.svm import SVC\n",
    "from sklearn.neural_network import MLPClassifier\n",
    "from sklearn.model_selection import GridSearchCV\n",
    "from sklearn.metrics import accuracy_score\n"
   ]
  },
  {
   "cell_type": "code",
   "execution_count": 54,
   "metadata": {},
   "outputs": [
    {
     "data": {
      "text/plain": [
       "SVC(C=1.0, break_ties=False, cache_size=200, class_weight=None, coef0=0.0,\n",
       "    decision_function_shape='ovr', degree=3, gamma='scale', kernel='rbf',\n",
       "    max_iter=-1, probability=False, random_state=None, shrinking=True,\n",
       "    tol=0.001, verbose=False)"
      ]
     },
     "execution_count": 54,
     "metadata": {},
     "output_type": "execute_result"
    }
   ],
   "source": [
    "SVC()"
   ]
  },
  {
   "cell_type": "code",
   "execution_count": 55,
   "metadata": {
    "scrolled": true
   },
   "outputs": [
    {
     "name": "stdout",
     "output_type": "stream",
     "text": [
      "Fitting 5 folds for each of 4 candidates, totalling 20 fits\n"
     ]
    },
    {
     "name": "stderr",
     "output_type": "stream",
     "text": [
      "[Parallel(n_jobs=-1)]: Using backend LokyBackend with 4 concurrent workers.\n",
      "[Parallel(n_jobs=-1)]: Done   5 tasks      | elapsed:   11.8s\n",
      "[Parallel(n_jobs=-1)]: Done  10 tasks      | elapsed:   17.4s\n",
      "[Parallel(n_jobs=-1)]: Done  16 out of  20 | elapsed:   23.5s remaining:    5.8s\n",
      "[Parallel(n_jobs=-1)]: Done  20 out of  20 | elapsed:   29.5s finished\n",
      "C:\\Users\\Rodolfo\\AppData\\Roaming\\Python\\Python36\\site-packages\\sklearn\\utils\\validation.py:760: DataConversionWarning: A column-vector y was passed when a 1d array was expected. Please change the shape of y to (n_samples, ), for example using ravel().\n",
      "  y = column_or_1d(y, warn=True)\n"
     ]
    },
    {
     "data": {
      "text/plain": [
       "GridSearchCV(cv=None, error_score=nan,\n",
       "             estimator=SVC(C=1.0, break_ties=False, cache_size=200,\n",
       "                           class_weight=None, coef0=0.0,\n",
       "                           decision_function_shape='ovr', degree=3,\n",
       "                           gamma='scale', kernel='rbf', max_iter=-1,\n",
       "                           probability=False, random_state=None, shrinking=True,\n",
       "                           tol=0.001, verbose=False),\n",
       "             iid='deprecated', n_jobs=-1,\n",
       "             param_grid=[{'C': [1, 5], 'degree': array([1, 3]),\n",
       "                          'kernel': ['poly']}],\n",
       "             pre_dispatch='2*n_jobs', refit=True, return_train_score=False,\n",
       "             scoring='accuracy', verbose=10)"
      ]
     },
     "execution_count": 55,
     "metadata": {},
     "output_type": "execute_result"
    }
   ],
   "source": [
    "param_grid = [\n",
    "  {'C': [1, 5], 'degree': np.arange(1, 5, 2), 'kernel': ['poly']}\n",
    " ]\n",
    "grid = GridSearchCV(SVC(), scoring='accuracy', n_jobs=-1, param_grid=param_grid, verbose=10)\n",
    "grid.fit(X=X, y=y_d)"
   ]
  },
  {
   "cell_type": "code",
   "execution_count": 56,
   "metadata": {},
   "outputs": [
    {
     "data": {
      "text/plain": [
       "0.6377272727272727"
      ]
     },
     "execution_count": 56,
     "metadata": {},
     "output_type": "execute_result"
    }
   ],
   "source": [
    "grid.best_score_"
   ]
  },
  {
   "cell_type": "code",
   "execution_count": 57,
   "metadata": {},
   "outputs": [
    {
     "data": {
      "text/plain": [
       "{'C': 5, 'degree': 3, 'kernel': 'poly'}"
      ]
     },
     "execution_count": 57,
     "metadata": {},
     "output_type": "execute_result"
    }
   ],
   "source": [
    "grid.best_params_"
   ]
  },
  {
   "cell_type": "code",
   "execution_count": 58,
   "metadata": {},
   "outputs": [],
   "source": [
    "clf_best = grid.best_estimator_"
   ]
  },
  {
   "cell_type": "code",
   "execution_count": 59,
   "metadata": {},
   "outputs": [
    {
     "data": {
      "text/plain": [
       "SVC(C=5, break_ties=False, cache_size=200, class_weight=None, coef0=0.0,\n",
       "    decision_function_shape='ovr', degree=3, gamma='scale', kernel='poly',\n",
       "    max_iter=-1, probability=False, random_state=None, shrinking=True,\n",
       "    tol=0.001, verbose=False)"
      ]
     },
     "execution_count": 59,
     "metadata": {},
     "output_type": "execute_result"
    }
   ],
   "source": [
    "clf_best"
   ]
  },
  {
   "cell_type": "code",
   "execution_count": 60,
   "metadata": {},
   "outputs": [
    {
     "name": "stderr",
     "output_type": "stream",
     "text": [
      "C:\\Users\\Rodolfo\\AppData\\Roaming\\Python\\Python36\\site-packages\\sklearn\\utils\\validation.py:760: DataConversionWarning: A column-vector y was passed when a 1d array was expected. Please change the shape of y to (n_samples, ), for example using ravel().\n",
      "  y = column_or_1d(y, warn=True)\n"
     ]
    },
    {
     "data": {
      "text/plain": [
       "SVC(C=5, break_ties=False, cache_size=200, class_weight=None, coef0=0.0,\n",
       "    decision_function_shape='ovr', degree=3, gamma='scale', kernel='poly',\n",
       "    max_iter=-1, probability=False, random_state=None, shrinking=True,\n",
       "    tol=0.001, verbose=False)"
      ]
     },
     "execution_count": 60,
     "metadata": {},
     "output_type": "execute_result"
    }
   ],
   "source": [
    "clf_best.fit(X, y_d)"
   ]
  },
  {
   "cell_type": "code",
   "execution_count": 61,
   "metadata": {},
   "outputs": [],
   "source": [
    "y_pred_test = clf_best.predict(X_test_PCA)"
   ]
  },
  {
   "cell_type": "code",
   "execution_count": 62,
   "metadata": {},
   "outputs": [
    {
     "data": {
      "text/plain": [
       "0.592"
      ]
     },
     "execution_count": 62,
     "metadata": {},
     "output_type": "execute_result"
    }
   ],
   "source": [
    "accuracy_score(y_true=y_test, y_pred=y_pred_test)"
   ]
  },
  {
   "cell_type": "code",
   "execution_count": null,
   "metadata": {},
   "outputs": [],
   "source": []
  },
  {
   "cell_type": "markdown",
   "metadata": {},
   "source": [
    "# MLP"
   ]
  },
  {
   "cell_type": "code",
   "execution_count": 64,
   "metadata": {},
   "outputs": [
    {
     "name": "stdout",
     "output_type": "stream",
     "text": [
      "Fitting 5 folds for each of 162 candidates, totalling 810 fits\n"
     ]
    },
    {
     "name": "stderr",
     "output_type": "stream",
     "text": [
      "[Parallel(n_jobs=-1)]: Using backend LokyBackend with 4 concurrent workers.\n",
      "[Parallel(n_jobs=-1)]: Done   5 tasks      | elapsed:    1.2s\n",
      "[Parallel(n_jobs=-1)]: Done  10 tasks      | elapsed:    2.1s\n",
      "[Parallel(n_jobs=-1)]: Done  17 tasks      | elapsed:    3.2s\n",
      "[Parallel(n_jobs=-1)]: Done  24 tasks      | elapsed:    4.8s\n",
      "[Parallel(n_jobs=-1)]: Done  33 tasks      | elapsed:    6.2s\n",
      "[Parallel(n_jobs=-1)]: Done  42 tasks      | elapsed:    7.8s\n",
      "[Parallel(n_jobs=-1)]: Done  53 tasks      | elapsed:    9.4s\n",
      "[Parallel(n_jobs=-1)]: Done  64 tasks      | elapsed:   12.1s\n",
      "[Parallel(n_jobs=-1)]: Done  77 tasks      | elapsed:   14.7s\n",
      "[Parallel(n_jobs=-1)]: Done  90 tasks      | elapsed:   17.1s\n",
      "[Parallel(n_jobs=-1)]: Done 105 tasks      | elapsed:   20.1s\n",
      "[Parallel(n_jobs=-1)]: Done 120 tasks      | elapsed:   23.2s\n",
      "[Parallel(n_jobs=-1)]: Done 137 tasks      | elapsed:   27.5s\n",
      "[Parallel(n_jobs=-1)]: Done 154 tasks      | elapsed:   31.4s\n",
      "[Parallel(n_jobs=-1)]: Done 173 tasks      | elapsed:   36.2s\n",
      "[Parallel(n_jobs=-1)]: Done 192 tasks      | elapsed:   41.6s\n",
      "[Parallel(n_jobs=-1)]: Done 213 tasks      | elapsed:   47.3s\n",
      "[Parallel(n_jobs=-1)]: Done 234 tasks      | elapsed:   54.1s\n",
      "[Parallel(n_jobs=-1)]: Done 257 tasks      | elapsed:  1.0min\n",
      "[Parallel(n_jobs=-1)]: Done 280 tasks      | elapsed:  1.2min\n",
      "[Parallel(n_jobs=-1)]: Done 305 tasks      | elapsed:  1.3min\n",
      "[Parallel(n_jobs=-1)]: Done 330 tasks      | elapsed:  1.4min\n",
      "[Parallel(n_jobs=-1)]: Done 357 tasks      | elapsed:  1.5min\n",
      "[Parallel(n_jobs=-1)]: Done 384 tasks      | elapsed:  1.6min\n",
      "[Parallel(n_jobs=-1)]: Done 413 tasks      | elapsed:  1.7min\n",
      "[Parallel(n_jobs=-1)]: Done 442 tasks      | elapsed:  1.8min\n",
      "[Parallel(n_jobs=-1)]: Done 473 tasks      | elapsed:  1.9min\n",
      "[Parallel(n_jobs=-1)]: Done 504 tasks      | elapsed:  2.1min\n",
      "[Parallel(n_jobs=-1)]: Done 537 tasks      | elapsed:  2.3min\n",
      "[Parallel(n_jobs=-1)]: Done 570 tasks      | elapsed:  2.4min\n",
      "[Parallel(n_jobs=-1)]: Done 605 tasks      | elapsed:  2.6min\n",
      "[Parallel(n_jobs=-1)]: Done 640 tasks      | elapsed:  2.7min\n",
      "[Parallel(n_jobs=-1)]: Done 677 tasks      | elapsed:  2.8min\n",
      "[Parallel(n_jobs=-1)]: Done 714 tasks      | elapsed:  2.9min\n",
      "[Parallel(n_jobs=-1)]: Done 753 tasks      | elapsed:  3.1min\n",
      "[Parallel(n_jobs=-1)]: Done 792 tasks      | elapsed:  3.3min\n",
      "[Parallel(n_jobs=-1)]: Done 810 out of 810 | elapsed:  3.5min finished\n",
      "C:\\Users\\Rodolfo\\AppData\\Roaming\\Python\\Python36\\site-packages\\sklearn\\neural_network\\_multilayer_perceptron.py:934: DataConversionWarning: A column-vector y was passed when a 1d array was expected. Please change the shape of y to (n_samples, ), for example using ravel().\n",
      "  y = column_or_1d(y, warn=True)\n"
     ]
    },
    {
     "data": {
      "text/plain": [
       "GridSearchCV(cv=None, error_score=nan,\n",
       "             estimator=MLPClassifier(activation='relu', alpha=0.0001,\n",
       "                                     batch_size='auto', beta_1=0.9,\n",
       "                                     beta_2=0.999, early_stopping=False,\n",
       "                                     epsilon=1e-08, hidden_layer_sizes=(100,),\n",
       "                                     learning_rate='constant',\n",
       "                                     learning_rate_init=0.001, max_fun=15000,\n",
       "                                     max_iter=200, momentum=0.9,\n",
       "                                     n_iter_no_change=10,\n",
       "                                     nesterovs_momentum=True, power_t=0.5,\n",
       "                                     random_st...\n",
       "                                     validation_fraction=0.1, verbose=False,\n",
       "                                     warm_start=False),\n",
       "             iid='deprecated', n_jobs=-1,\n",
       "             param_grid={'activation': ['logistic'],\n",
       "                         'alpha': array([0.01  , 0.001 , 0.0001]),\n",
       "                         'hidden_layer_sizes': array([10, 15, 20, 25, 30, 35, 40, 45, 50, 55, 60, 65, 70, 75, 80, 85, 90,\n",
       "       95]),\n",
       "                         'max_iter': [1000, 2000, 5000], 'solver': ['sgd']},\n",
       "             pre_dispatch='2*n_jobs', refit=True, return_train_score=False,\n",
       "             scoring='accuracy', verbose=10)"
      ]
     },
     "execution_count": 64,
     "metadata": {},
     "output_type": "execute_result"
    }
   ],
   "source": [
    "parameters = {'solver': ['sgd'], 'max_iter': [1000, 2000, 5000], \n",
    "              'alpha': 10.0 ** -np.arange(2, 5), 'hidden_layer_sizes':np.arange(10, 100, 5), 'activation':['logistic']}\n",
    "clf = GridSearchCV(MLPClassifier(), parameters, n_jobs=-1, verbose=10, scoring='accuracy')\n",
    "clf.fit(X, y_d)"
   ]
  },
  {
   "cell_type": "code",
   "execution_count": 68,
   "metadata": {},
   "outputs": [
    {
     "data": {
      "text/plain": [
       "0.5318181818181819"
      ]
     },
     "execution_count": 68,
     "metadata": {},
     "output_type": "execute_result"
    }
   ],
   "source": [
    "clf.best_score_"
   ]
  },
  {
   "cell_type": "code",
   "execution_count": 69,
   "metadata": {},
   "outputs": [
    {
     "data": {
      "text/plain": [
       "{'activation': 'logistic',\n",
       " 'alpha': 0.01,\n",
       " 'hidden_layer_sizes': 40,\n",
       " 'max_iter': 1000,\n",
       " 'solver': 'sgd'}"
      ]
     },
     "execution_count": 69,
     "metadata": {},
     "output_type": "execute_result"
    }
   ],
   "source": [
    "clf.best_params_"
   ]
  },
  {
   "cell_type": "code",
   "execution_count": 70,
   "metadata": {},
   "outputs": [
    {
     "data": {
      "text/plain": [
       "MLPClassifier(activation='logistic', alpha=0.01, batch_size='auto', beta_1=0.9,\n",
       "              beta_2=0.999, early_stopping=False, epsilon=1e-08,\n",
       "              hidden_layer_sizes=40, learning_rate='constant',\n",
       "              learning_rate_init=0.001, max_fun=15000, max_iter=1000,\n",
       "              momentum=0.9, n_iter_no_change=10, nesterovs_momentum=True,\n",
       "              power_t=0.5, random_state=None, shuffle=True, solver='sgd',\n",
       "              tol=0.0001, validation_fraction=0.1, verbose=False,\n",
       "              warm_start=False)"
      ]
     },
     "execution_count": 70,
     "metadata": {},
     "output_type": "execute_result"
    }
   ],
   "source": [
    "best_clf_ = clf.best_estimator_\n",
    "best_clf_"
   ]
  },
  {
   "cell_type": "code",
   "execution_count": 71,
   "metadata": {},
   "outputs": [
    {
     "name": "stderr",
     "output_type": "stream",
     "text": [
      "C:\\Users\\Rodolfo\\AppData\\Roaming\\Python\\Python36\\site-packages\\sklearn\\neural_network\\_multilayer_perceptron.py:934: DataConversionWarning: A column-vector y was passed when a 1d array was expected. Please change the shape of y to (n_samples, ), for example using ravel().\n",
      "  y = column_or_1d(y, warn=True)\n"
     ]
    },
    {
     "data": {
      "text/plain": [
       "MLPClassifier(activation='logistic', alpha=0.01, batch_size='auto', beta_1=0.9,\n",
       "              beta_2=0.999, early_stopping=False, epsilon=1e-08,\n",
       "              hidden_layer_sizes=40, learning_rate='constant',\n",
       "              learning_rate_init=0.001, max_fun=15000, max_iter=1000,\n",
       "              momentum=0.9, n_iter_no_change=10, nesterovs_momentum=True,\n",
       "              power_t=0.5, random_state=None, shuffle=True, solver='sgd',\n",
       "              tol=0.0001, validation_fraction=0.1, verbose=False,\n",
       "              warm_start=False)"
      ]
     },
     "execution_count": 71,
     "metadata": {},
     "output_type": "execute_result"
    }
   ],
   "source": [
    "best_clf_.fit(X, y_d)"
   ]
  },
  {
   "cell_type": "code",
   "execution_count": 72,
   "metadata": {},
   "outputs": [],
   "source": [
    "y_pred_test_ = best_clf_.predict(X_test_PCA)"
   ]
  },
  {
   "cell_type": "code",
   "execution_count": 73,
   "metadata": {},
   "outputs": [
    {
     "data": {
      "text/plain": [
       "0.483"
      ]
     },
     "execution_count": 73,
     "metadata": {},
     "output_type": "execute_result"
    }
   ],
   "source": [
    "accuracy_score(y_true=y_test, y_pred=y_pred_test_)"
   ]
  },
  {
   "cell_type": "code",
   "execution_count": null,
   "metadata": {},
   "outputs": [],
   "source": []
  }
 ],
 "metadata": {
  "kernelspec": {
   "display_name": "Python 3",
   "language": "python",
   "name": "python3"
  },
  "language_info": {
   "codemirror_mode": {
    "name": "ipython",
    "version": 3
   },
   "file_extension": ".py",
   "mimetype": "text/x-python",
   "name": "python",
   "nbconvert_exporter": "python",
   "pygments_lexer": "ipython3",
   "version": "3.6.5"
  }
 },
 "nbformat": 4,
 "nbformat_minor": 4
}
